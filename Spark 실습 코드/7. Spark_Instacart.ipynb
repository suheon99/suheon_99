{
  "nbformat": 4,
  "nbformat_minor": 0,
  "metadata": {
    "colab": {
      "provenance": []
    },
    "kernelspec": {
      "name": "python3",
      "display_name": "Python 3"
    },
    "language_info": {
      "name": "python"
    }
  },
  "cells": [
    {
      "cell_type": "code",
      "execution_count": 1,
      "metadata": {
        "colab": {
          "base_uri": "https://localhost:8080/"
        },
        "id": "-a0jQ3QZApUh",
        "outputId": "fa43ddaf-170e-4813-f8db-6a0e04e9f478"
      },
      "outputs": [
        {
          "output_type": "stream",
          "name": "stdout",
          "text": [
            "\u001b[33m\r0% [Working]\u001b[0m\r            \rGet:1 http://security.ubuntu.com/ubuntu jammy-security InRelease [110 kB]\n",
            "\u001b[33m\r0% [Waiting for headers] [1 InRelease 12.7 kB/110 kB 12%] [Connected to cloud.r\u001b[0m\r                                                                               \rHit:2 http://archive.ubuntu.com/ubuntu jammy InRelease\n",
            "\u001b[33m\r0% [1 InRelease 43.1 kB/110 kB 39%] [Connected to cloud.r-project.org (108.157.\u001b[0m\r                                                                               \rGet:3 http://archive.ubuntu.com/ubuntu jammy-updates InRelease [119 kB]\n",
            "\u001b[33m\r0% [3 InRelease 15.6 kB/119 kB 13%] [1 InRelease 43.1 kB/110 kB 39%] [Waiting f\u001b[0m\r                                                                               \rGet:4 https://cloud.r-project.org/bin/linux/ubuntu jammy-cran40/ InRelease [3,626 B]\n",
            "\u001b[33m\r0% [3 InRelease 15.6 kB/119 kB 13%] [1 InRelease 63.4 kB/110 kB 57%] [Connectin\u001b[0m\u001b[33m\r0% [3 InRelease 43.1 kB/119 kB 36%] [Connecting to ppa.launchpadcontent.net (18\u001b[0m\r                                                                               \rGet:5 https://developer.download.nvidia.com/compute/cuda/repos/ubuntu2204/x86_64  InRelease [1,581 B]\n",
            "Hit:6 http://archive.ubuntu.com/ubuntu jammy-backports InRelease\n",
            "Hit:7 https://ppa.launchpadcontent.net/c2d4u.team/c2d4u4.0+/ubuntu jammy InRelease\n",
            "Hit:8 https://ppa.launchpadcontent.net/deadsnakes/ppa/ubuntu jammy InRelease\n",
            "Get:9 https://developer.download.nvidia.com/compute/cuda/repos/ubuntu2204/x86_64  Packages [773 kB]\n",
            "Hit:10 https://ppa.launchpadcontent.net/graphics-drivers/ppa/ubuntu jammy InRelease\n",
            "Get:11 http://archive.ubuntu.com/ubuntu jammy-updates/universe amd64 Packages [1,356 kB]\n",
            "Hit:12 https://ppa.launchpadcontent.net/ubuntugis/ppa/ubuntu jammy InRelease\n",
            "Get:13 http://archive.ubuntu.com/ubuntu jammy-updates/main amd64 Packages [1,898 kB]\n",
            "Fetched 4,261 kB in 2s (2,206 kB/s)\n",
            "Reading package lists... Done\n",
            "Building dependency tree... Done\n",
            "Reading state information... Done\n",
            "39 packages can be upgraded. Run 'apt list --upgradable' to see them.\n",
            "tar: spark-3.2.1-bin-hadoop3.2.tgz: Cannot open: No such file or directory\n",
            "tar: Error is not recoverable: exiting now\n",
            "Requirement already satisfied: pyspark in /usr/local/lib/python3.10/dist-packages (3.5.1)\n",
            "Requirement already satisfied: py4j==0.10.9.7 in /usr/local/lib/python3.10/dist-packages (from pyspark) (0.10.9.7)\n",
            "Requirement already satisfied: py4j in /usr/local/lib/python3.10/dist-packages (0.10.9.7)\n"
          ]
        }
      ],
      "source": [
        "## 설치\n",
        "!sudo apt update\n",
        "!apt-get install openjdk-8-jdk-headless -qq > /dev/null\n",
        "#Check this site for the latest download link https://www.apache.org/dyn/closer.lua/spark/spark-3.2.1/spark-3.2.1-bin-hadoop3.2.tgz\n",
        "!wget -q https://dlcdn.apache.org/spark/spark-3.2.1/spark-3.2.1-bin-hadoop3.2.tgz\n",
        "!tar xf spark-3.2.1-bin-hadoop3.2.tgz\n",
        "!pip install -q findspark\n",
        "!pip install pyspark\n",
        "!pip install py4j"
      ]
    },
    {
      "cell_type": "code",
      "source": [
        "## 초기화\n",
        "import findspark\n",
        "findspark.init()\n",
        "findspark.find()"
      ],
      "metadata": {
        "colab": {
          "base_uri": "https://localhost:8080/",
          "height": 36
        },
        "id": "ao8ENYGeCWGV",
        "outputId": "061def21-535a-490c-d53c-73a331075989"
      },
      "execution_count": 2,
      "outputs": [
        {
          "output_type": "execute_result",
          "data": {
            "text/plain": [
              "'/usr/local/lib/python3.10/dist-packages/pyspark'"
            ],
            "application/vnd.google.colaboratory.intrinsic+json": {
              "type": "string"
            }
          },
          "metadata": {},
          "execution_count": 2
        }
      ]
    },
    {
      "cell_type": "code",
      "source": [
        "import pandas as pd\n",
        "import pyspark\n",
        "import pyspark.sql.functions as f\n",
        "from pyspark.sql import DataFrame, SparkSession, Window\n",
        "from pyspark.sql.functions import spark_partition_id\n",
        "from pyspark.sql.types import StructType, StructField, IntegerType, ShortType, StringType"
      ],
      "metadata": {
        "id": "ylfvtOqgG9Dm"
      },
      "execution_count": 3,
      "outputs": []
    },
    {
      "cell_type": "code",
      "source": [
        "## Session 생성\n",
        "spark = (\n",
        "        SparkSession\n",
        "        .builder\n",
        "        .appName(\"Commerce Session\")\n",
        "        .getOrCreate())\n",
        "\n",
        "spark"
      ],
      "metadata": {
        "colab": {
          "base_uri": "https://localhost:8080/",
          "height": 221
        },
        "id": "iLMWWvfYKALn",
        "outputId": "9dd2547c-83bb-41b1-ff1b-55915668557b"
      },
      "execution_count": 4,
      "outputs": [
        {
          "output_type": "execute_result",
          "data": {
            "text/plain": [
              "<pyspark.sql.session.SparkSession at 0x7d55286017e0>"
            ],
            "text/html": [
              "\n",
              "            <div>\n",
              "                <p><b>SparkSession - in-memory</b></p>\n",
              "                \n",
              "        <div>\n",
              "            <p><b>SparkContext</b></p>\n",
              "\n",
              "            <p><a href=\"http://9a65e11e405c:4040\">Spark UI</a></p>\n",
              "\n",
              "            <dl>\n",
              "              <dt>Version</dt>\n",
              "                <dd><code>v3.5.1</code></dd>\n",
              "              <dt>Master</dt>\n",
              "                <dd><code>local[*]</code></dd>\n",
              "              <dt>AppName</dt>\n",
              "                <dd><code>Commerce Session</code></dd>\n",
              "            </dl>\n",
              "        </div>\n",
              "        \n",
              "            </div>\n",
              "        "
            ]
          },
          "metadata": {},
          "execution_count": 4
        }
      ]
    },
    {
      "cell_type": "code",
      "source": [
        "def get_spark_session():\n",
        "    ## Session 생성\n",
        "    spark = (\n",
        "        SparkSession\n",
        "        .builder\n",
        "        .appName(\"Commerce Session\")\n",
        "        .getOrCreate()\n",
        "    )\n",
        "\n",
        "    return spark"
      ],
      "metadata": {
        "id": "7o3W__j6HHut"
      },
      "execution_count": 5,
      "outputs": []
    },
    {
      "cell_type": "code",
      "source": [
        "spark"
      ],
      "metadata": {
        "colab": {
          "base_uri": "https://localhost:8080/",
          "height": 221
        },
        "id": "iAzJQdr5KGQq",
        "outputId": "a4628153-c846-4768-80f1-328d6267bcdc"
      },
      "execution_count": 6,
      "outputs": [
        {
          "output_type": "execute_result",
          "data": {
            "text/plain": [
              "<pyspark.sql.session.SparkSession at 0x7d55286017e0>"
            ],
            "text/html": [
              "\n",
              "            <div>\n",
              "                <p><b>SparkSession - in-memory</b></p>\n",
              "                \n",
              "        <div>\n",
              "            <p><b>SparkContext</b></p>\n",
              "\n",
              "            <p><a href=\"http://9a65e11e405c:4040\">Spark UI</a></p>\n",
              "\n",
              "            <dl>\n",
              "              <dt>Version</dt>\n",
              "                <dd><code>v3.5.1</code></dd>\n",
              "              <dt>Master</dt>\n",
              "                <dd><code>local[*]</code></dd>\n",
              "              <dt>AppName</dt>\n",
              "                <dd><code>Commerce Session</code></dd>\n",
              "            </dl>\n",
              "        </div>\n",
              "        \n",
              "            </div>\n",
              "        "
            ]
          },
          "metadata": {},
          "execution_count": 6
        }
      ]
    },
    {
      "cell_type": "markdown",
      "source": [
        "- inferSchema를 하면 스파크 보고 알아서 스키마를 하라는 것\n",
        "- order_id는 integertype을 쓰라.. 이렇게 구체적으로 알려주기\n",
        "- header도 꼭 True로 바꿔쓰기"
      ],
      "metadata": {
        "id": "XXiC63R_IH5K"
      }
    },
    {
      "cell_type": "code",
      "source": [
        "%%time\n",
        "df = spark.read.csv(\"/content/order_products__prior.csv\", header=True, inferSchema=True)\n",
        "df.show()"
      ],
      "metadata": {
        "colab": {
          "base_uri": "https://localhost:8080/"
        },
        "id": "fs82y87tBlTg",
        "outputId": "abeaf73c-a5d5-46c2-813c-f0c050c8e467"
      },
      "execution_count": 7,
      "outputs": [
        {
          "output_type": "stream",
          "name": "stdout",
          "text": [
            "+--------+----------+-----------------+---------+\n",
            "|order_id|product_id|add_to_cart_order|reordered|\n",
            "+--------+----------+-----------------+---------+\n",
            "|       2|     33120|                1|        1|\n",
            "|       2|     28985|                2|        1|\n",
            "|       2|      9327|                3|        0|\n",
            "|       2|     45918|                4|        1|\n",
            "|       2|     30035|                5|        0|\n",
            "|       2|     17794|                6|        1|\n",
            "|       2|     40141|                7|        1|\n",
            "|       2|      1819|                8|        1|\n",
            "|       2|     43668|                9|        0|\n",
            "|       3|     33754|                1|        1|\n",
            "|       3|     24838|                2|        1|\n",
            "|       3|     17704|                3|        1|\n",
            "|       3|     21903|                4|        1|\n",
            "|       3|     17668|                5|        1|\n",
            "|       3|     46667|                6|        1|\n",
            "|       3|     17461|                7|        1|\n",
            "|       3|     32665|                8|        1|\n",
            "|       4|     46842|                1|        0|\n",
            "|       4|     26434|                2|        1|\n",
            "|       4|     39758|                3|        1|\n",
            "+--------+----------+-----------------+---------+\n",
            "only showing top 20 rows\n",
            "\n",
            "CPU times: user 157 ms, sys: 18.8 ms, total: 175 ms\n",
            "Wall time: 28.9 s\n"
          ]
        }
      ]
    },
    {
      "cell_type": "code",
      "source": [
        "struct_schema = StructType([\n",
        "    StructField(\"order_id\", IntegerType()),\n",
        "    StructField(\"product_id\", IntegerType()),\n",
        "    StructField(\"add_to_cart_order\", ShortType()),\n",
        "    StructField(\"reordered\", ShortType())\n",
        "    ])\n",
        "\n",
        "df = spark.read.csv('/content/order_products__prior.csv',header=True,schema = struct_schema)\n",
        "df.show()"
      ],
      "metadata": {
        "colab": {
          "base_uri": "https://localhost:8080/"
        },
        "id": "4cOnFHcyEaQa",
        "outputId": "dac45191-7d35-4312-e367-c0aa9c0339be"
      },
      "execution_count": 8,
      "outputs": [
        {
          "output_type": "stream",
          "name": "stdout",
          "text": [
            "+--------+----------+-----------------+---------+\n",
            "|order_id|product_id|add_to_cart_order|reordered|\n",
            "+--------+----------+-----------------+---------+\n",
            "|       2|     33120|                1|        1|\n",
            "|       2|     28985|                2|        1|\n",
            "|       2|      9327|                3|        0|\n",
            "|       2|     45918|                4|        1|\n",
            "|       2|     30035|                5|        0|\n",
            "|       2|     17794|                6|        1|\n",
            "|       2|     40141|                7|        1|\n",
            "|       2|      1819|                8|        1|\n",
            "|       2|     43668|                9|        0|\n",
            "|       3|     33754|                1|        1|\n",
            "|       3|     24838|                2|        1|\n",
            "|       3|     17704|                3|        1|\n",
            "|       3|     21903|                4|        1|\n",
            "|       3|     17668|                5|        1|\n",
            "|       3|     46667|                6|        1|\n",
            "|       3|     17461|                7|        1|\n",
            "|       3|     32665|                8|        1|\n",
            "|       4|     46842|                1|        0|\n",
            "|       4|     26434|                2|        1|\n",
            "|       4|     39758|                3|        1|\n",
            "+--------+----------+-----------------+---------+\n",
            "only showing top 20 rows\n",
            "\n"
          ]
        }
      ]
    },
    {
      "cell_type": "code",
      "source": [
        "df1 = spark.read.csv(\"/content/order_products__prior.csv\", header=True, schema=struct_schema)\n",
        "df2 = spark.read.csv(\"/content/order_products__train.csv\", header=True, schema=struct_schema)\n",
        "\n",
        "df = df1.union(df2)\n",
        "# pandas의 콘캣과 유사하다.\n",
        "df = df.filter(\"order_id % 13 = 1\")"
      ],
      "metadata": {
        "id": "mx3fmfWuHwch"
      },
      "execution_count": 9,
      "outputs": []
    },
    {
      "cell_type": "code",
      "source": [
        "import pyspark\n",
        "from pyspark.sql import DataFrame, SparkSession"
      ],
      "metadata": {
        "id": "LinxsFLkRPIS"
      },
      "execution_count": 13,
      "outputs": []
    },
    {
      "cell_type": "code",
      "source": [
        "from pyspark.sql.types import StringType\n",
        "\n",
        "struct_schema_product = StructType([\n",
        "    StructField(\"product_id\", IntegerType()),\n",
        "    StructField(\"product_name\", StringType()),\n",
        "    StructField(\"aisle_id\", IntegerType()),\n",
        "    StructField(\"department_id\", IntegerType())\n",
        "])\n",
        "struct_schema_aisle = StructType([\n",
        "    StructField(\"aisle_id\", IntegerType()),\n",
        "    StructField(\"aisle\", StringType())\n",
        "])\n",
        "struct_schema_depart = StructType([\n",
        "    StructField(\"department_id\", IntegerType()),\n",
        "    StructField(\"department\", StringType())\n",
        "])\n",
        "\n",
        "\n",
        "df_product = (\n",
        "    spark.read.csv(\"/content/products.csv\", header=True, schema=struct_schema_product)\n",
        "    .join(spark.read.csv(\"/content/aisles.csv\", header=True, schema=struct_schema_aisle), on=\"aisle_id\", how=\"left\")\n",
        "    .join(spark.read.csv(\"/content/departments.csv\", header=True, schema=struct_schema_depart), on=\"department_id\", how=\"left\")\n",
        "    .drop(\"aisle_id\", \"department_id\")\n",
        ")"
      ],
      "metadata": {
        "id": "JShTt1WGIPfZ"
      },
      "execution_count": 14,
      "outputs": []
    },
    {
      "cell_type": "code",
      "source": [
        "df = df.join(df_product, on=\"product_id\", how=\"left\")"
      ],
      "metadata": {
        "id": "oqyUKwHdSz-y"
      },
      "execution_count": 15,
      "outputs": []
    },
    {
      "cell_type": "code",
      "source": [
        "df.persist()"
      ],
      "metadata": {
        "colab": {
          "base_uri": "https://localhost:8080/"
        },
        "id": "jf5RAqsIS8-z",
        "outputId": "e21aeb15-26d5-44d7-874e-ea2fb6f1d06d"
      },
      "execution_count": 16,
      "outputs": [
        {
          "output_type": "execute_result",
          "data": {
            "text/plain": [
              "DataFrame[product_id: int, order_id: int, add_to_cart_order: smallint, reordered: smallint, product_name: string, aisle: string, department: string]"
            ]
          },
          "metadata": {},
          "execution_count": 16
        }
      ]
    },
    {
      "cell_type": "code",
      "source": [
        "%%time\n",
        "df.show()"
      ],
      "metadata": {
        "colab": {
          "base_uri": "https://localhost:8080/"
        },
        "id": "IXEb3N_2S_ch",
        "outputId": "c703622f-5138-437f-b3a7-b9eabf0b936b"
      },
      "execution_count": 17,
      "outputs": [
        {
          "output_type": "stream",
          "name": "stdout",
          "text": [
            "+----------+--------+-----------------+---------+--------------------+--------------------+------------+\n",
            "|product_id|order_id|add_to_cart_order|reordered|        product_name|               aisle|  department|\n",
            "+----------+--------+-----------------+---------+--------------------+--------------------+------------+\n",
            "|     41890|      14|                6|        1|Organic Mesa Sunr...|              cereal|   breakfast|\n",
            "|     26706|     976|               11|        1|Chicken Pad Thai ...|        frozen meals|      frozen|\n",
            "|     19204|    1483|                5|        1|Organic Heritage ...|              cereal|   breakfast|\n",
            "|     23015|    1561|                7|        1|Breaded Chicken N...|frozen appetizers...|      frozen|\n",
            "|     15790|    1587|                3|        1|Organic Veggie Bites|frozen vegan vege...|      frozen|\n",
            "|     28836|    2003|               15|        0|    Grapefruit Juice|        refrigerated|   beverages|\n",
            "|     28836|    2458|               21|        1|    Grapefruit Juice|        refrigerated|   beverages|\n",
            "|     29744|    2536|                6|        0|100% Natural Peti...|canned jarred veg...|canned goods|\n",
            "|     26425|    3329|                2|        1|Sliced Sharp Ched...|     packaged cheese|  dairy eggs|\n",
            "|     29894|    3797|                4|        1|Organic Dark Brow...|  baking ingredients|      pantry|\n",
            "|       148|    4174|                9|        1|          Nectarines|        fresh fruits|     produce|\n",
            "|     34234|    4824|                1|        1|Grade AA Large Wh...|                eggs|  dairy eggs|\n",
            "|      8592|    6293|                5|        0|Kale, Apple, Ging...|        refrigerated|   beverages|\n",
            "|      6336|    7450|                7|        1|Organic Soft Whit...|               bread|      bakery|\n",
            "|     28836|    7762|                7|        1|    Grapefruit Juice|        refrigerated|   beverages|\n",
            "|     20382|    7801|                9|        1|Natural Honey Pea...|             spreads|      pantry|\n",
            "|     46521|    8529|                2|        0|             Variety|      chips pretzels|      snacks|\n",
            "|     33569|    8893|                3|        0|Crackers Almond F...|            crackers|      snacks|\n",
            "|     23271|    9881|                3|        0|Tabasco Chipotle ...|          condiments|      pantry|\n",
            "|     33569|   10089|                4|        1|Crackers Almond F...|            crackers|      snacks|\n",
            "+----------+--------+-----------------+---------+--------------------+--------------------+------------+\n",
            "only showing top 20 rows\n",
            "\n",
            "CPU times: user 150 ms, sys: 14.2 ms, total: 164 ms\n",
            "Wall time: 28.2 s\n"
          ]
        }
      ]
    },
    {
      "cell_type": "code",
      "source": [
        "df.rdd.getNumPartitions()"
      ],
      "metadata": {
        "colab": {
          "base_uri": "https://localhost:8080/"
        },
        "id": "9JEPxILETVr7",
        "outputId": "d5d27ad2-4cf8-40b7-82a1-2d3d6e63ef49"
      },
      "execution_count": 18,
      "outputs": [
        {
          "output_type": "execute_result",
          "data": {
            "text/plain": [
              "200"
            ]
          },
          "metadata": {},
          "execution_count": 18
        }
      ]
    },
    {
      "cell_type": "code",
      "source": [
        "from pyspark.sql.functions import spark_partition_id\n",
        "\n",
        "df.withColumn(\"partitionId\",spark_partition_id()).groupBy(\"partitionId\").count().show()"
      ],
      "metadata": {
        "colab": {
          "base_uri": "https://localhost:8080/"
        },
        "id": "ClQlRbBOT0kN",
        "outputId": "092147dd-aff4-46e2-8b79-58594799a193"
      },
      "execution_count": 19,
      "outputs": [
        {
          "output_type": "stream",
          "name": "stdout",
          "text": [
            "+-----------+-----+\n",
            "|partitionId|count|\n",
            "+-----------+-----+\n",
            "|          0| 1866|\n",
            "|          1| 2554|\n",
            "|          2| 2221|\n",
            "|          3| 9037|\n",
            "|          4| 3181|\n",
            "|          5| 2069|\n",
            "|          6| 2714|\n",
            "|          7| 1182|\n",
            "|          8| 3346|\n",
            "|          9| 2381|\n",
            "|         10| 3229|\n",
            "|         11| 3455|\n",
            "|         12| 2783|\n",
            "|         13| 8025|\n",
            "|         14| 2449|\n",
            "|         15| 2104|\n",
            "|         16| 4237|\n",
            "|         17| 2499|\n",
            "|         18| 1736|\n",
            "|         19| 2788|\n",
            "+-----------+-----+\n",
            "only showing top 20 rows\n",
            "\n"
          ]
        }
      ]
    },
    {
      "cell_type": "code",
      "source": [
        "df = df.repartition(\"order_id\")\n",
        "df.persist()\n",
        "df.withColumn(\"partitionId\",spark_partition_id()).groupBy(\"partitionId\").count().show()"
      ],
      "metadata": {
        "colab": {
          "base_uri": "https://localhost:8080/"
        },
        "id": "U1etwJfzT4ge",
        "outputId": "bb63028e-d5cf-4c0f-da2c-3aa14b1e8a57"
      },
      "execution_count": 20,
      "outputs": [
        {
          "output_type": "stream",
          "name": "stdout",
          "text": [
            "+-----------+-----+\n",
            "|partitionId|count|\n",
            "+-----------+-----+\n",
            "|          0| 3119|\n",
            "|          1| 3370|\n",
            "|          2| 3201|\n",
            "|          3| 3269|\n",
            "|          4| 3070|\n",
            "|          5| 3257|\n",
            "|          6| 3316|\n",
            "|          7| 2957|\n",
            "|          8| 2839|\n",
            "|          9| 3008|\n",
            "|         10| 3129|\n",
            "|         11| 3018|\n",
            "|         12| 3268|\n",
            "|         13| 3362|\n",
            "|         14| 3103|\n",
            "|         15| 3367|\n",
            "|         16| 3573|\n",
            "|         17| 3384|\n",
            "|         18| 2852|\n",
            "|         19| 3479|\n",
            "+-----------+-----+\n",
            "only showing top 20 rows\n",
            "\n"
          ]
        }
      ]
    },
    {
      "cell_type": "code",
      "source": [
        "%%time\n",
        "\n",
        "import pyspark.sql.functions as f\n",
        "df_last_order_short = df.orderBy([\"order_id\", \"add_to_cart_order\"]).groupBy(\"order_id\").agg(f.last(\"add_to_cart_order\")).toPandas()"
      ],
      "metadata": {
        "colab": {
          "base_uri": "https://localhost:8080/"
        },
        "id": "1qtlN3BIViMq",
        "outputId": "de5fe07e-633b-48f4-abdb-4c10c95e8c37"
      },
      "execution_count": 23,
      "outputs": [
        {
          "output_type": "stream",
          "name": "stdout",
          "text": [
            "CPU times: user 520 ms, sys: 13 ms, total: 533 ms\n",
            "Wall time: 15.1 s\n"
          ]
        }
      ]
    },
    {
      "cell_type": "code",
      "source": [
        "%%time\n",
        "\n",
        "import pyspark.sql.functions as f\n",
        "from pyspark.sql import Window\n",
        "\n",
        "w = Window.partitionBy('order_id')\n",
        "df_last_order = df.withColumn('max_add_to_cart_order', f.max('add_to_cart_order').over(w))\\\n",
        "    .where(f.col('add_to_cart_order') == f.col('max_add_to_cart_order'))\\\n",
        "    .drop('max_add_to_cart_order')\n",
        "df_last_order_long = df_last_order.toPandas()"
      ],
      "metadata": {
        "colab": {
          "base_uri": "https://localhost:8080/"
        },
        "id": "yJKIh5ibUHJN",
        "outputId": "55ac011d-6969-46cd-88bb-a48e0e8ebfb2"
      },
      "execution_count": 21,
      "outputs": [
        {
          "output_type": "stream",
          "name": "stdout",
          "text": [
            "CPU times: user 559 ms, sys: 66 ms, total: 625 ms\n",
            "Wall time: 9.19 s\n"
          ]
        }
      ]
    },
    {
      "cell_type": "code",
      "source": [
        "df_temp = df_last_order_long.merge(df_last_order_short, on=\"order_id\")"
      ],
      "metadata": {
        "id": "Vgq6xD2XUdHG"
      },
      "execution_count": 24,
      "outputs": []
    },
    {
      "cell_type": "code",
      "source": [
        "%%time\n",
        "df_last_order.show()"
      ],
      "metadata": {
        "colab": {
          "base_uri": "https://localhost:8080/"
        },
        "id": "NP6jk6o8Vauq",
        "outputId": "3e2a215e-2ae1-430e-f5bb-0599dc5b5d82"
      },
      "execution_count": 25,
      "outputs": [
        {
          "output_type": "stream",
          "name": "stdout",
          "text": [
            "+----------+--------+-----------------+---------+--------------------+--------------------+------------+\n",
            "|product_id|order_id|add_to_cart_order|reordered|        product_name|               aisle|  department|\n",
            "+----------+--------+-----------------+---------+--------------------+--------------------+------------+\n",
            "|      1991|     833|                6|        1|Organic Lemonade ...|       juice nectars|   beverages|\n",
            "|     22474|    6397|                7|        0|Cheddar Bunnies S...|            crackers|      snacks|\n",
            "|     38274|    7554|               10|        0|Ice Cream Sandwic...|       ice cream ice|      frozen|\n",
            "|     26348|    9465|                2|        0|Mixed Fruit Fruit...|fruit vegetable s...|      snacks|\n",
            "|     30169|   10206|                4|        1|Total 2% All Natu...|              yogurt|  dairy eggs|\n",
            "|     25194|   10362|               36|        1|Ground Sausage St...|tofu meat alterna...|        deli|\n",
            "|     47209|   10817|                7|        0|Organic Hass Avocado|        fresh fruits|     produce|\n",
            "|     13740|   19553|               12|        0|Organic Summer St...|fruit vegetable s...|      snacks|\n",
            "|     13225|   23271|                7|        1|         Lowfat Milk|                milk|  dairy eggs|\n",
            "|     47591|   23336|                9|        1|Prosciutto di San...|          lunch meat|        deli|\n",
            "|     12797|   26755|               15|        0|Organic Whole Pee...|canned jarred veg...|canned goods|\n",
            "|     25466|   28146|                9|        1|               Water|water seltzer spa...|   beverages|\n",
            "|     24964|   29719|                2|        1|      Organic Garlic|    fresh vegetables|     produce|\n",
            "|      5785|   32592|                3|        1|Organic Reduced F...|                milk|  dairy eggs|\n",
            "|     18434|   35361|               12|        0|Organic Whole Cri...|    fresh vegetables|     produce|\n",
            "|      9076|   41575|                6|        0|         Blueberries|      frozen produce|      frozen|\n",
            "|     12894|   47217|                4|        0|Honey Nut Chex Ce...|              cereal|   breakfast|\n",
            "|       651|   47711|               26|        0|Organic Salted Bu...|              butter|  dairy eggs|\n",
            "|     25640|   53691|                9|        1|         White Peach|        fresh fruits|     produce|\n",
            "|     38693|   57201|                1|        1|         Meyer Lemon|        fresh fruits|     produce|\n",
            "+----------+--------+-----------------+---------+--------------------+--------------------+------------+\n",
            "only showing top 20 rows\n",
            "\n",
            "CPU times: user 3.96 ms, sys: 1.16 ms, total: 5.12 ms\n",
            "Wall time: 729 ms\n"
          ]
        }
      ]
    },
    {
      "cell_type": "code",
      "source": [
        "%%time\n",
        "import pandas as pd\n",
        "\n",
        "department_count = pd.concat([\n",
        "    df_last_order.groupby(\"department\").count().toPandas(),\n",
        "    df.groupby(\"department\").count().toPandas()\n",
        "], axis=1)"
      ],
      "metadata": {
        "colab": {
          "base_uri": "https://localhost:8080/"
        },
        "id": "JXREnApEVps4",
        "outputId": "417052f2-0bc2-4f08-eb92-4287355f2eb6"
      },
      "execution_count": 26,
      "outputs": [
        {
          "output_type": "stream",
          "name": "stdout",
          "text": [
            "CPU times: user 116 ms, sys: 19.5 ms, total: 136 ms\n",
            "Wall time: 16 s\n"
          ]
        }
      ]
    },
    {
      "cell_type": "code",
      "source": [
        "department_count"
      ],
      "metadata": {
        "colab": {
          "base_uri": "https://localhost:8080/",
          "height": 707
        },
        "id": "tPQrXAt6Vt0b",
        "outputId": "724ff3a1-38b3-42cb-d274-f471ad1bd6b1"
      },
      "execution_count": 27,
      "outputs": [
        {
          "output_type": "execute_result",
          "data": {
            "text/plain": [
              "         department  count       department   count\n",
              "0         beverages   6187     meat seafood   13658\n",
              "1      meat seafood   1348        beverages   52749\n",
              "2            frozen   4676           frozen   44465\n",
              "3              deli   2099             deli   20435\n",
              "4   dry goods pasta   1583  dry goods pasta   17162\n",
              "5             other    106             bulk     659\n",
              "6            babies    527            other     718\n",
              "7            bakery   2166           babies    8109\n",
              "8           produce  15919           bakery   22799\n",
              "9            pantry   4321          produce  184964\n",
              "10       dairy eggs   8693           pantry   37062\n",
              "11     canned goods   1791       dairy eggs  103941\n",
              "12    personal care   1401     canned goods   21154\n",
              "13        breakfast   1344    personal care    8944\n",
              "14          missing    207        breakfast   13719\n",
              "15             pets    193          missing    1772\n",
              "16        household   2174             pets    1846\n",
              "17    international    460        household   14952\n",
              "18           snacks   6520          alcohol    3010\n",
              "19             bulk     73    international    5274\n",
              "20          alcohol    516           snacks   56779"
            ],
            "text/html": [
              "\n",
              "  <div id=\"df-8f2d5614-227f-4aa4-a4d6-34f5eabc44fa\" class=\"colab-df-container\">\n",
              "    <div>\n",
              "<style scoped>\n",
              "    .dataframe tbody tr th:only-of-type {\n",
              "        vertical-align: middle;\n",
              "    }\n",
              "\n",
              "    .dataframe tbody tr th {\n",
              "        vertical-align: top;\n",
              "    }\n",
              "\n",
              "    .dataframe thead th {\n",
              "        text-align: right;\n",
              "    }\n",
              "</style>\n",
              "<table border=\"1\" class=\"dataframe\">\n",
              "  <thead>\n",
              "    <tr style=\"text-align: right;\">\n",
              "      <th></th>\n",
              "      <th>department</th>\n",
              "      <th>count</th>\n",
              "      <th>department</th>\n",
              "      <th>count</th>\n",
              "    </tr>\n",
              "  </thead>\n",
              "  <tbody>\n",
              "    <tr>\n",
              "      <th>0</th>\n",
              "      <td>beverages</td>\n",
              "      <td>6187</td>\n",
              "      <td>meat seafood</td>\n",
              "      <td>13658</td>\n",
              "    </tr>\n",
              "    <tr>\n",
              "      <th>1</th>\n",
              "      <td>meat seafood</td>\n",
              "      <td>1348</td>\n",
              "      <td>beverages</td>\n",
              "      <td>52749</td>\n",
              "    </tr>\n",
              "    <tr>\n",
              "      <th>2</th>\n",
              "      <td>frozen</td>\n",
              "      <td>4676</td>\n",
              "      <td>frozen</td>\n",
              "      <td>44465</td>\n",
              "    </tr>\n",
              "    <tr>\n",
              "      <th>3</th>\n",
              "      <td>deli</td>\n",
              "      <td>2099</td>\n",
              "      <td>deli</td>\n",
              "      <td>20435</td>\n",
              "    </tr>\n",
              "    <tr>\n",
              "      <th>4</th>\n",
              "      <td>dry goods pasta</td>\n",
              "      <td>1583</td>\n",
              "      <td>dry goods pasta</td>\n",
              "      <td>17162</td>\n",
              "    </tr>\n",
              "    <tr>\n",
              "      <th>5</th>\n",
              "      <td>other</td>\n",
              "      <td>106</td>\n",
              "      <td>bulk</td>\n",
              "      <td>659</td>\n",
              "    </tr>\n",
              "    <tr>\n",
              "      <th>6</th>\n",
              "      <td>babies</td>\n",
              "      <td>527</td>\n",
              "      <td>other</td>\n",
              "      <td>718</td>\n",
              "    </tr>\n",
              "    <tr>\n",
              "      <th>7</th>\n",
              "      <td>bakery</td>\n",
              "      <td>2166</td>\n",
              "      <td>babies</td>\n",
              "      <td>8109</td>\n",
              "    </tr>\n",
              "    <tr>\n",
              "      <th>8</th>\n",
              "      <td>produce</td>\n",
              "      <td>15919</td>\n",
              "      <td>bakery</td>\n",
              "      <td>22799</td>\n",
              "    </tr>\n",
              "    <tr>\n",
              "      <th>9</th>\n",
              "      <td>pantry</td>\n",
              "      <td>4321</td>\n",
              "      <td>produce</td>\n",
              "      <td>184964</td>\n",
              "    </tr>\n",
              "    <tr>\n",
              "      <th>10</th>\n",
              "      <td>dairy eggs</td>\n",
              "      <td>8693</td>\n",
              "      <td>pantry</td>\n",
              "      <td>37062</td>\n",
              "    </tr>\n",
              "    <tr>\n",
              "      <th>11</th>\n",
              "      <td>canned goods</td>\n",
              "      <td>1791</td>\n",
              "      <td>dairy eggs</td>\n",
              "      <td>103941</td>\n",
              "    </tr>\n",
              "    <tr>\n",
              "      <th>12</th>\n",
              "      <td>personal care</td>\n",
              "      <td>1401</td>\n",
              "      <td>canned goods</td>\n",
              "      <td>21154</td>\n",
              "    </tr>\n",
              "    <tr>\n",
              "      <th>13</th>\n",
              "      <td>breakfast</td>\n",
              "      <td>1344</td>\n",
              "      <td>personal care</td>\n",
              "      <td>8944</td>\n",
              "    </tr>\n",
              "    <tr>\n",
              "      <th>14</th>\n",
              "      <td>missing</td>\n",
              "      <td>207</td>\n",
              "      <td>breakfast</td>\n",
              "      <td>13719</td>\n",
              "    </tr>\n",
              "    <tr>\n",
              "      <th>15</th>\n",
              "      <td>pets</td>\n",
              "      <td>193</td>\n",
              "      <td>missing</td>\n",
              "      <td>1772</td>\n",
              "    </tr>\n",
              "    <tr>\n",
              "      <th>16</th>\n",
              "      <td>household</td>\n",
              "      <td>2174</td>\n",
              "      <td>pets</td>\n",
              "      <td>1846</td>\n",
              "    </tr>\n",
              "    <tr>\n",
              "      <th>17</th>\n",
              "      <td>international</td>\n",
              "      <td>460</td>\n",
              "      <td>household</td>\n",
              "      <td>14952</td>\n",
              "    </tr>\n",
              "    <tr>\n",
              "      <th>18</th>\n",
              "      <td>snacks</td>\n",
              "      <td>6520</td>\n",
              "      <td>alcohol</td>\n",
              "      <td>3010</td>\n",
              "    </tr>\n",
              "    <tr>\n",
              "      <th>19</th>\n",
              "      <td>bulk</td>\n",
              "      <td>73</td>\n",
              "      <td>international</td>\n",
              "      <td>5274</td>\n",
              "    </tr>\n",
              "    <tr>\n",
              "      <th>20</th>\n",
              "      <td>alcohol</td>\n",
              "      <td>516</td>\n",
              "      <td>snacks</td>\n",
              "      <td>56779</td>\n",
              "    </tr>\n",
              "  </tbody>\n",
              "</table>\n",
              "</div>\n",
              "    <div class=\"colab-df-buttons\">\n",
              "\n",
              "  <div class=\"colab-df-container\">\n",
              "    <button class=\"colab-df-convert\" onclick=\"convertToInteractive('df-8f2d5614-227f-4aa4-a4d6-34f5eabc44fa')\"\n",
              "            title=\"Convert this dataframe to an interactive table.\"\n",
              "            style=\"display:none;\">\n",
              "\n",
              "  <svg xmlns=\"http://www.w3.org/2000/svg\" height=\"24px\" viewBox=\"0 -960 960 960\">\n",
              "    <path d=\"M120-120v-720h720v720H120Zm60-500h600v-160H180v160Zm220 220h160v-160H400v160Zm0 220h160v-160H400v160ZM180-400h160v-160H180v160Zm440 0h160v-160H620v160ZM180-180h160v-160H180v160Zm440 0h160v-160H620v160Z\"/>\n",
              "  </svg>\n",
              "    </button>\n",
              "\n",
              "  <style>\n",
              "    .colab-df-container {\n",
              "      display:flex;\n",
              "      gap: 12px;\n",
              "    }\n",
              "\n",
              "    .colab-df-convert {\n",
              "      background-color: #E8F0FE;\n",
              "      border: none;\n",
              "      border-radius: 50%;\n",
              "      cursor: pointer;\n",
              "      display: none;\n",
              "      fill: #1967D2;\n",
              "      height: 32px;\n",
              "      padding: 0 0 0 0;\n",
              "      width: 32px;\n",
              "    }\n",
              "\n",
              "    .colab-df-convert:hover {\n",
              "      background-color: #E2EBFA;\n",
              "      box-shadow: 0px 1px 2px rgba(60, 64, 67, 0.3), 0px 1px 3px 1px rgba(60, 64, 67, 0.15);\n",
              "      fill: #174EA6;\n",
              "    }\n",
              "\n",
              "    .colab-df-buttons div {\n",
              "      margin-bottom: 4px;\n",
              "    }\n",
              "\n",
              "    [theme=dark] .colab-df-convert {\n",
              "      background-color: #3B4455;\n",
              "      fill: #D2E3FC;\n",
              "    }\n",
              "\n",
              "    [theme=dark] .colab-df-convert:hover {\n",
              "      background-color: #434B5C;\n",
              "      box-shadow: 0px 1px 3px 1px rgba(0, 0, 0, 0.15);\n",
              "      filter: drop-shadow(0px 1px 2px rgba(0, 0, 0, 0.3));\n",
              "      fill: #FFFFFF;\n",
              "    }\n",
              "  </style>\n",
              "\n",
              "    <script>\n",
              "      const buttonEl =\n",
              "        document.querySelector('#df-8f2d5614-227f-4aa4-a4d6-34f5eabc44fa button.colab-df-convert');\n",
              "      buttonEl.style.display =\n",
              "        google.colab.kernel.accessAllowed ? 'block' : 'none';\n",
              "\n",
              "      async function convertToInteractive(key) {\n",
              "        const element = document.querySelector('#df-8f2d5614-227f-4aa4-a4d6-34f5eabc44fa');\n",
              "        const dataTable =\n",
              "          await google.colab.kernel.invokeFunction('convertToInteractive',\n",
              "                                                    [key], {});\n",
              "        if (!dataTable) return;\n",
              "\n",
              "        const docLinkHtml = 'Like what you see? Visit the ' +\n",
              "          '<a target=\"_blank\" href=https://colab.research.google.com/notebooks/data_table.ipynb>data table notebook</a>'\n",
              "          + ' to learn more about interactive tables.';\n",
              "        element.innerHTML = '';\n",
              "        dataTable['output_type'] = 'display_data';\n",
              "        await google.colab.output.renderOutput(dataTable, element);\n",
              "        const docLink = document.createElement('div');\n",
              "        docLink.innerHTML = docLinkHtml;\n",
              "        element.appendChild(docLink);\n",
              "      }\n",
              "    </script>\n",
              "  </div>\n",
              "\n",
              "\n",
              "<div id=\"df-ac34f230-7c7f-4c89-b161-8354e3dc4625\">\n",
              "  <button class=\"colab-df-quickchart\" onclick=\"quickchart('df-ac34f230-7c7f-4c89-b161-8354e3dc4625')\"\n",
              "            title=\"Suggest charts\"\n",
              "            style=\"display:none;\">\n",
              "\n",
              "<svg xmlns=\"http://www.w3.org/2000/svg\" height=\"24px\"viewBox=\"0 0 24 24\"\n",
              "     width=\"24px\">\n",
              "    <g>\n",
              "        <path d=\"M19 3H5c-1.1 0-2 .9-2 2v14c0 1.1.9 2 2 2h14c1.1 0 2-.9 2-2V5c0-1.1-.9-2-2-2zM9 17H7v-7h2v7zm4 0h-2V7h2v10zm4 0h-2v-4h2v4z\"/>\n",
              "    </g>\n",
              "</svg>\n",
              "  </button>\n",
              "\n",
              "<style>\n",
              "  .colab-df-quickchart {\n",
              "      --bg-color: #E8F0FE;\n",
              "      --fill-color: #1967D2;\n",
              "      --hover-bg-color: #E2EBFA;\n",
              "      --hover-fill-color: #174EA6;\n",
              "      --disabled-fill-color: #AAA;\n",
              "      --disabled-bg-color: #DDD;\n",
              "  }\n",
              "\n",
              "  [theme=dark] .colab-df-quickchart {\n",
              "      --bg-color: #3B4455;\n",
              "      --fill-color: #D2E3FC;\n",
              "      --hover-bg-color: #434B5C;\n",
              "      --hover-fill-color: #FFFFFF;\n",
              "      --disabled-bg-color: #3B4455;\n",
              "      --disabled-fill-color: #666;\n",
              "  }\n",
              "\n",
              "  .colab-df-quickchart {\n",
              "    background-color: var(--bg-color);\n",
              "    border: none;\n",
              "    border-radius: 50%;\n",
              "    cursor: pointer;\n",
              "    display: none;\n",
              "    fill: var(--fill-color);\n",
              "    height: 32px;\n",
              "    padding: 0;\n",
              "    width: 32px;\n",
              "  }\n",
              "\n",
              "  .colab-df-quickchart:hover {\n",
              "    background-color: var(--hover-bg-color);\n",
              "    box-shadow: 0 1px 2px rgba(60, 64, 67, 0.3), 0 1px 3px 1px rgba(60, 64, 67, 0.15);\n",
              "    fill: var(--button-hover-fill-color);\n",
              "  }\n",
              "\n",
              "  .colab-df-quickchart-complete:disabled,\n",
              "  .colab-df-quickchart-complete:disabled:hover {\n",
              "    background-color: var(--disabled-bg-color);\n",
              "    fill: var(--disabled-fill-color);\n",
              "    box-shadow: none;\n",
              "  }\n",
              "\n",
              "  .colab-df-spinner {\n",
              "    border: 2px solid var(--fill-color);\n",
              "    border-color: transparent;\n",
              "    border-bottom-color: var(--fill-color);\n",
              "    animation:\n",
              "      spin 1s steps(1) infinite;\n",
              "  }\n",
              "\n",
              "  @keyframes spin {\n",
              "    0% {\n",
              "      border-color: transparent;\n",
              "      border-bottom-color: var(--fill-color);\n",
              "      border-left-color: var(--fill-color);\n",
              "    }\n",
              "    20% {\n",
              "      border-color: transparent;\n",
              "      border-left-color: var(--fill-color);\n",
              "      border-top-color: var(--fill-color);\n",
              "    }\n",
              "    30% {\n",
              "      border-color: transparent;\n",
              "      border-left-color: var(--fill-color);\n",
              "      border-top-color: var(--fill-color);\n",
              "      border-right-color: var(--fill-color);\n",
              "    }\n",
              "    40% {\n",
              "      border-color: transparent;\n",
              "      border-right-color: var(--fill-color);\n",
              "      border-top-color: var(--fill-color);\n",
              "    }\n",
              "    60% {\n",
              "      border-color: transparent;\n",
              "      border-right-color: var(--fill-color);\n",
              "    }\n",
              "    80% {\n",
              "      border-color: transparent;\n",
              "      border-right-color: var(--fill-color);\n",
              "      border-bottom-color: var(--fill-color);\n",
              "    }\n",
              "    90% {\n",
              "      border-color: transparent;\n",
              "      border-bottom-color: var(--fill-color);\n",
              "    }\n",
              "  }\n",
              "</style>\n",
              "\n",
              "  <script>\n",
              "    async function quickchart(key) {\n",
              "      const quickchartButtonEl =\n",
              "        document.querySelector('#' + key + ' button');\n",
              "      quickchartButtonEl.disabled = true;  // To prevent multiple clicks.\n",
              "      quickchartButtonEl.classList.add('colab-df-spinner');\n",
              "      try {\n",
              "        const charts = await google.colab.kernel.invokeFunction(\n",
              "            'suggestCharts', [key], {});\n",
              "      } catch (error) {\n",
              "        console.error('Error during call to suggestCharts:', error);\n",
              "      }\n",
              "      quickchartButtonEl.classList.remove('colab-df-spinner');\n",
              "      quickchartButtonEl.classList.add('colab-df-quickchart-complete');\n",
              "    }\n",
              "    (() => {\n",
              "      let quickchartButtonEl =\n",
              "        document.querySelector('#df-ac34f230-7c7f-4c89-b161-8354e3dc4625 button');\n",
              "      quickchartButtonEl.style.display =\n",
              "        google.colab.kernel.accessAllowed ? 'block' : 'none';\n",
              "    })();\n",
              "  </script>\n",
              "</div>\n",
              "\n",
              "  <div id=\"id_334950f3-11eb-4c99-bfd2-12c6aa8ab026\">\n",
              "    <style>\n",
              "      .colab-df-generate {\n",
              "        background-color: #E8F0FE;\n",
              "        border: none;\n",
              "        border-radius: 50%;\n",
              "        cursor: pointer;\n",
              "        display: none;\n",
              "        fill: #1967D2;\n",
              "        height: 32px;\n",
              "        padding: 0 0 0 0;\n",
              "        width: 32px;\n",
              "      }\n",
              "\n",
              "      .colab-df-generate:hover {\n",
              "        background-color: #E2EBFA;\n",
              "        box-shadow: 0px 1px 2px rgba(60, 64, 67, 0.3), 0px 1px 3px 1px rgba(60, 64, 67, 0.15);\n",
              "        fill: #174EA6;\n",
              "      }\n",
              "\n",
              "      [theme=dark] .colab-df-generate {\n",
              "        background-color: #3B4455;\n",
              "        fill: #D2E3FC;\n",
              "      }\n",
              "\n",
              "      [theme=dark] .colab-df-generate:hover {\n",
              "        background-color: #434B5C;\n",
              "        box-shadow: 0px 1px 3px 1px rgba(0, 0, 0, 0.15);\n",
              "        filter: drop-shadow(0px 1px 2px rgba(0, 0, 0, 0.3));\n",
              "        fill: #FFFFFF;\n",
              "      }\n",
              "    </style>\n",
              "    <button class=\"colab-df-generate\" onclick=\"generateWithVariable('department_count')\"\n",
              "            title=\"Generate code using this dataframe.\"\n",
              "            style=\"display:none;\">\n",
              "\n",
              "  <svg xmlns=\"http://www.w3.org/2000/svg\" height=\"24px\"viewBox=\"0 0 24 24\"\n",
              "       width=\"24px\">\n",
              "    <path d=\"M7,19H8.4L18.45,9,17,7.55,7,17.6ZM5,21V16.75L18.45,3.32a2,2,0,0,1,2.83,0l1.4,1.43a1.91,1.91,0,0,1,.58,1.4,1.91,1.91,0,0,1-.58,1.4L9.25,21ZM18.45,9,17,7.55Zm-12,3A5.31,5.31,0,0,0,4.9,8.1,5.31,5.31,0,0,0,1,6.5,5.31,5.31,0,0,0,4.9,4.9,5.31,5.31,0,0,0,6.5,1,5.31,5.31,0,0,0,8.1,4.9,5.31,5.31,0,0,0,12,6.5,5.46,5.46,0,0,0,6.5,12Z\"/>\n",
              "  </svg>\n",
              "    </button>\n",
              "    <script>\n",
              "      (() => {\n",
              "      const buttonEl =\n",
              "        document.querySelector('#id_334950f3-11eb-4c99-bfd2-12c6aa8ab026 button.colab-df-generate');\n",
              "      buttonEl.style.display =\n",
              "        google.colab.kernel.accessAllowed ? 'block' : 'none';\n",
              "\n",
              "      buttonEl.onclick = () => {\n",
              "        google.colab.notebook.generateWithVariable('department_count');\n",
              "      }\n",
              "      })();\n",
              "    </script>\n",
              "  </div>\n",
              "\n",
              "    </div>\n",
              "  </div>\n"
            ],
            "application/vnd.google.colaboratory.intrinsic+json": {
              "type": "dataframe",
              "variable_name": "department_count",
              "summary": "{\n  \"name\": \"department_count\",\n  \"rows\": 21,\n  \"fields\": [\n    {\n      \"column\": \"department\",\n      \"properties\": {\n        \"dtype\": \"string\",\n        \"num_unique_values\": 21,\n        \"samples\": [\n          \"beverages\",\n          \"international\",\n          \"pets\"\n        ],\n        \"semantic_type\": \"\",\n        \"description\": \"\"\n      }\n    },\n    {\n      \"column\": \"count\",\n      \"properties\": {\n        \"dtype\": \"number\",\n        \"std\": 3817,\n        \"min\": 73,\n        \"max\": 15919,\n        \"num_unique_values\": 21,\n        \"samples\": [\n          6187,\n          460,\n          193\n        ],\n        \"semantic_type\": \"\",\n        \"description\": \"\"\n      }\n    },\n    {\n      \"column\": \"department\",\n      \"properties\": {\n        \"dtype\": \"string\",\n        \"num_unique_values\": 21,\n        \"samples\": [\n          \"meat seafood\",\n          \"household\",\n          \"missing\"\n        ],\n        \"semantic_type\": \"\",\n        \"description\": \"\"\n      }\n    },\n    {\n      \"column\": \"count\",\n      \"properties\": {\n        \"dtype\": \"number\",\n        \"std\": 43410,\n        \"min\": 659,\n        \"max\": 184964,\n        \"num_unique_values\": 21,\n        \"samples\": [\n          13658,\n          14952,\n          1772\n        ],\n        \"semantic_type\": \"\",\n        \"description\": \"\"\n      }\n    }\n  ]\n}"
            }
          },
          "metadata": {},
          "execution_count": 27
        }
      ]
    },
    {
      "cell_type": "code",
      "source": [
        "%%time\n",
        "df = df.orderBy([\"order_id\", \"add_to_cart_order\"])\n",
        "\n",
        "df_temp = df.select(*df.columns, f.lag(\"aisle\").over(w.partitionBy(f.lit(1)).orderBy(\"order_id\")).alias(\"aisle_before\"))\n",
        "df_temp = df_temp.filter(f.col(\"aisle\") != f.col(\"aisle_before\"))\n",
        "df_temp = df_temp.filter(f.col(\"add_to_cart_order\") != 1).toPandas()"
      ],
      "metadata": {
        "colab": {
          "base_uri": "https://localhost:8080/"
        },
        "id": "4aDYl1QvVzse",
        "outputId": "a9b08617-53be-44a8-df86-99444a300e57"
      },
      "execution_count": 28,
      "outputs": [
        {
          "output_type": "stream",
          "name": "stdout",
          "text": [
            "CPU times: user 4.52 s, sys: 644 ms, total: 5.17 s\n",
            "Wall time: 28.5 s\n"
          ]
        }
      ]
    }
  ]
}