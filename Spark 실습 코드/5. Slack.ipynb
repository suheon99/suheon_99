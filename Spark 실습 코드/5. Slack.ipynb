{
 "cells": [
  {
   "cell_type": "code",
   "execution_count": 1,
   "id": "9946690e",
   "metadata": {},
   "outputs": [],
   "source": [
    "import json\n",
    "import requests\n",
    "\n",
    "def post_to_slack(message):\n",
    "    webhook_url = \n",
    "    slack_data = json.dumps({'text': message})\n",
    "    response = requests.post(\n",
    "        webhook_url, data=slack_data,\n",
    "        headers={'Content-Type': 'application/json'}\n",
    "    )\n",
    "    if response.status_code != 200:\n",
    "        raise ValueError(\n",
    "            'Request to slack returned an error %s, the response is:\\n%s'\n",
    "            % (response.status_code, response.text)\n",
    "        )\n",
    "\n",
    "post_to_slack('hello')"
   ]
  }
 ],
 "metadata": {
  "kernelspec": {
   "display_name": "Python 3 (ipykernel)",
   "language": "python",
   "name": "python3"
  },
  "language_info": {
   "codemirror_mode": {
    "name": "ipython",
    "version": 3
   },
   "file_extension": ".py",
   "mimetype": "text/x-python",
   "name": "python",
   "nbconvert_exporter": "python",
   "pygments_lexer": "ipython3",
   "version": "3.11.5"
  }
 },
 "nbformat": 4,
 "nbformat_minor": 5
}
