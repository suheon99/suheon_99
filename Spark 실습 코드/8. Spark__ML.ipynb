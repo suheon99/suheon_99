{
  "nbformat": 4,
  "nbformat_minor": 0,
  "metadata": {
    "colab": {
      "provenance": []
    },
    "kernelspec": {
      "name": "python3",
      "display_name": "Python 3"
    },
    "language_info": {
      "name": "python"
    }
  },
  "cells": [
    {
      "cell_type": "code",
      "source": [
        "## 설치\n",
        "!sudo apt update\n",
        "!apt-get install openjdk-8-jdk-headless -qq > /dev/null\n",
        "#Check this site for the latest download link https://www.apache.org/dyn/closer.lua/spark/spark-3.2.1/spark-3.2.1-bin-hadoop3.2.tgz\n",
        "!wget -q https://dlcdn.apache.org/spark/spark-3.2.1/spark-3.2.1-bin-hadoop3.2.tgz\n",
        "!tar xf spark-3.2.1-bin-hadoop3.2.tgz\n",
        "!pip install -q findspark\n",
        "!pip install pyspark\n",
        "!pip install py4j"
      ],
      "metadata": {
        "colab": {
          "base_uri": "https://localhost:8080/"
        },
        "id": "vAsD6dMnOmRa",
        "outputId": "30f499dd-1558-4c78-bab4-7c17241bb4bb"
      },
      "execution_count": null,
      "outputs": [
        {
          "output_type": "stream",
          "name": "stdout",
          "text": [
            "Hit:1 https://cloud.r-project.org/bin/linux/ubuntu jammy-cran40/ InRelease\n",
            "Hit:2 https://developer.download.nvidia.com/compute/cuda/repos/ubuntu2204/x86_64  InRelease\n",
            "Hit:3 http://archive.ubuntu.com/ubuntu jammy InRelease\n",
            "Hit:4 http://security.ubuntu.com/ubuntu jammy-security InRelease\n",
            "Hit:5 http://archive.ubuntu.com/ubuntu jammy-updates InRelease\n",
            "Hit:6 http://archive.ubuntu.com/ubuntu jammy-backports InRelease\n",
            "Hit:7 https://ppa.launchpadcontent.net/c2d4u.team/c2d4u4.0+/ubuntu jammy InRelease\n",
            "Hit:8 https://ppa.launchpadcontent.net/deadsnakes/ppa/ubuntu jammy InRelease\n",
            "Hit:9 https://ppa.launchpadcontent.net/graphics-drivers/ppa/ubuntu jammy InRelease\n",
            "Hit:10 https://ppa.launchpadcontent.net/ubuntugis/ppa/ubuntu jammy InRelease\n",
            "Reading package lists... Done\n",
            "Building dependency tree... Done\n",
            "Reading state information... Done\n",
            "40 packages can be upgraded. Run 'apt list --upgradable' to see them.\n",
            "tar: spark-3.2.1-bin-hadoop3.2.tgz: Cannot open: No such file or directory\n",
            "tar: Error is not recoverable: exiting now\n",
            "Requirement already satisfied: pyspark in /usr/local/lib/python3.10/dist-packages (3.5.1)\n",
            "Requirement already satisfied: py4j==0.10.9.7 in /usr/local/lib/python3.10/dist-packages (from pyspark) (0.10.9.7)\n",
            "Requirement already satisfied: py4j in /usr/local/lib/python3.10/dist-packages (0.10.9.7)\n"
          ]
        }
      ]
    },
    {
      "cell_type": "code",
      "source": [
        "## 초기화\n",
        "import findspark\n",
        "findspark.init()\n",
        "findspark.find()"
      ],
      "metadata": {
        "colab": {
          "base_uri": "https://localhost:8080/",
          "height": 36
        },
        "id": "TWO15_caRYC0",
        "outputId": "c6d2b3b6-fefe-476f-f526-8b5887c79d6d"
      },
      "execution_count": null,
      "outputs": [
        {
          "output_type": "execute_result",
          "data": {
            "text/plain": [
              "'/usr/local/lib/python3.10/dist-packages/pyspark'"
            ],
            "application/vnd.google.colaboratory.intrinsic+json": {
              "type": "string"
            }
          },
          "metadata": {},
          "execution_count": 2
        }
      ]
    },
    {
      "cell_type": "code",
      "source": [
        "import pandas as pd\n",
        "import pyspark\n",
        "import pyspark.sql.functions as f\n",
        "from pyspark.sql import DataFrame, SparkSession, Window\n",
        "from pyspark.sql.functions import spark_partition_id\n",
        "from pyspark.sql.types import StructType, StructField, IntegerType, ShortType, StringType, DoubleType"
      ],
      "metadata": {
        "id": "4AHuphDGRZHQ"
      },
      "execution_count": null,
      "outputs": []
    },
    {
      "cell_type": "code",
      "source": [
        "def get_spark_session():\n",
        "    ## Session 생성\n",
        "    spark = (\n",
        "        SparkSession\n",
        "        .builder\n",
        "        .appName(\"Commerce Session\")\n",
        "        .getOrCreate()\n",
        "    )\n",
        "\n",
        "    return spark"
      ],
      "metadata": {
        "id": "vbUFGFBvRbB5"
      },
      "execution_count": null,
      "outputs": []
    },
    {
      "cell_type": "code",
      "source": [
        "def extract_data(spark):\n",
        "\n",
        "    struct_schema_order_detail = StructType([\n",
        "        StructField(\"order_id\", IntegerType()),\n",
        "        StructField(\"product_id\", IntegerType()),\n",
        "        StructField(\"add_to_cart_order\", ShortType()),\n",
        "        StructField(\"reordered\", ShortType())\n",
        "    ])\n",
        "\n",
        "    struct_schema_order = StructType([\n",
        "        StructField(\"order_id\", IntegerType()),\n",
        "        StructField(\"user_id\", IntegerType()),\n",
        "        StructField(\"eval_set\", StringType()),\n",
        "        StructField(\"order_number\", ShortType()),\n",
        "        StructField(\"order_dow\", ShortType()),\n",
        "        StructField(\"order_hour_of_day\", ShortType()),\n",
        "        StructField(\"days_since_prior_order\", DoubleType(), True)\n",
        "        ])\n",
        "\n",
        "    struct_schema_product = StructType([\n",
        "        StructField(\"product_id\", IntegerType()),\n",
        "        StructField(\"product_name\", StringType()),\n",
        "        StructField(\"aisle_id\", IntegerType()),\n",
        "        StructField(\"department_id\", IntegerType())\n",
        "    ])\n",
        "    struct_schema_aisle = StructType([\n",
        "        StructField(\"aisle_id\", IntegerType()),\n",
        "        StructField(\"aisle\", StringType())\n",
        "    ])\n",
        "    struct_schema_depart = StructType([\n",
        "        StructField(\"department_id\", IntegerType()),\n",
        "        StructField(\"department\", StringType())\n",
        "    ])\n",
        "\n",
        "    ## order detail\n",
        "    df1 = spark.read.csv(\"/content/drive/MyDrive/order_products__prior.csv\", header=True, schema=struct_schema_order_detail)\n",
        "    df2 = spark.read.csv(\"/content/drive/MyDrive/order_products__train.csv\", header=True, schema=struct_schema_order_detail)\n",
        "\n",
        "    df = df1.union(df2)\n",
        "\n",
        "\n",
        "    df_product = (\n",
        "        spark.read.csv(\"/content/drive/MyDrive//products.csv\", header=True, schema=struct_schema_product)\n",
        "        .join(spark.read.csv(\"/content/drive/MyDrive/aisles.csv\", header=True, schema=struct_schema_aisle), on=\"aisle_id\", how=\"left\")\n",
        "        .join(spark.read.csv(\"/content/drive/MyDrive/departments.csv\", header=True, schema=struct_schema_depart), on=\"department_id\", how=\"left\")\n",
        "        .drop(\"aisle_id\", \"department_id\")\n",
        "    )\n",
        "\n",
        "    df_order_detail = df.join(df_product, on=\"product_id\", how=\"left\")\n",
        "\n",
        "    df_order = spark.read.csv(\"/content/drive/MyDrive/orders.csv\", header=True, schema=struct_schema_order)\n",
        "    df_order = df_order.filter(\"user_id % 13 = 1\")\n",
        "\n",
        "    return df_order_detail, df_order"
      ],
      "metadata": {
        "id": "XrnpPvigy9ny"
      },
      "execution_count": null,
      "outputs": []
    },
    {
      "cell_type": "code",
      "source": [
        "spark = get_spark_session()\n",
        "df_order_detail, df_order = extract_data(spark)"
      ],
      "metadata": {
        "id": "sIMSeD86pZoO"
      },
      "execution_count": null,
      "outputs": []
    },
    {
      "cell_type": "markdown",
      "source": [
        "- 1. 재구매 주기(order)\n",
        "- 2. 평일 / 주말 선호(order)\n",
        "- 3. 총 구매 횟수(order)\n",
        "- 4. 1회 평균 구매 제품 수 (df_order_detail)"
      ],
      "metadata": {
        "id": "OAa_eYLYe9Oe"
      }
    },
    {
      "cell_type": "code",
      "source": [
        "df_order_max = df_order_detail.groupBy(\"order_id\").agg(f.max(\"add_to_cart_order\").alias(\"item_count\"))"
      ],
      "metadata": {
        "id": "36v_U1EuNUAI"
      },
      "execution_count": null,
      "outputs": []
    },
    {
      "cell_type": "code",
      "source": [
        "df_order = df_order.join(df_order_max, on=\"order_id\", how=\"left\")\n",
        "df_order.persist()"
      ],
      "metadata": {
        "colab": {
          "base_uri": "https://localhost:8080/"
        },
        "id": "qIiDp7G4OYP0",
        "outputId": "75e61caa-0065-4543-d214-a75d6109553d"
      },
      "execution_count": null,
      "outputs": [
        {
          "output_type": "execute_result",
          "data": {
            "text/plain": [
              "DataFrame[order_id: int, user_id: int, eval_set: string, order_number: smallint, order_dow: smallint, order_hour_of_day: smallint, days_since_prior_order: double, item_count: smallint]"
            ]
          },
          "metadata": {},
          "execution_count": 8
        }
      ]
    },
    {
      "cell_type": "code",
      "source": [
        "%%time\n",
        "df_order.show()"
      ],
      "metadata": {
        "colab": {
          "base_uri": "https://localhost:8080/"
        },
        "id": "P-w28Y3-0eIB",
        "outputId": "10da8538-3b7f-4223-ffcb-ca64f634fedc"
      },
      "execution_count": null,
      "outputs": [
        {
          "output_type": "stream",
          "name": "stdout",
          "text": [
            "+--------+-------+--------+------------+---------+-----------------+----------------------+----------+\n",
            "|order_id|user_id|eval_set|order_number|order_dow|order_hour_of_day|days_since_prior_order|item_count|\n",
            "+--------+-------+--------+------------+---------+-----------------+----------------------+----------+\n",
            "|     148|  41523|   prior|          27|        2|               17|                   5.0|        14|\n",
            "|     463|  92093|   prior|          18|        1|               17|                   5.0|         1|\n",
            "|     496|   7580|   prior|           3|        5|               12|                   4.0|         3|\n",
            "|    5803|  74530|   prior|          47|        1|               10|                   8.0|        27|\n",
            "|    6654|  48998|   prior|          26|        1|               18|                  10.0|        17|\n",
            "|    7554|  93770|   prior|          17|        2|               15|                   6.0|        10|\n",
            "|   11033|  66886|   prior|           2|        6|               17|                  13.0|        13|\n",
            "|   15846| 135149|   prior|           6|        4|               14|                  11.0|         3|\n",
            "|   17389| 196132|   prior|          11|        4|                9|                  30.0|        24|\n",
            "|   18024| 194507|   prior|           3|        4|               14|                   8.0|        13|\n",
            "|   19553| 102870|   prior|           2|        1|               13|                   6.0|        12|\n",
            "|   23271| 121226|   prior|          18|        3|               14|                  15.0|         7|\n",
            "|   28664| 118132|   prior|          34|        2|               19|                   3.0|         2|\n",
            "|   29285|  92678|   prior|           8|        6|               15|                   7.0|        12|\n",
            "|   33717| 103325|   prior|          11|        4|                7|                   1.0|         8|\n",
            "|   34061|  36947|    test|           9|        3|               11|                  15.0|      NULL|\n",
            "|   40335|   6111|   prior|           5|        0|               16|                  30.0|        33|\n",
            "|   40515| 195456|   prior|          17|        2|               14|                   2.0|         9|\n",
            "|   45615|   2211|   prior|          47|        4|               20|                   5.0|         8|\n",
            "|   47217| 168650|   prior|           1|        0|               13|                  NULL|         4|\n",
            "+--------+-------+--------+------------+---------+-----------------+----------------------+----------+\n",
            "only showing top 20 rows\n",
            "\n",
            "CPU times: user 557 ms, sys: 58.2 ms, total: 615 ms\n",
            "Wall time: 1min 43s\n"
          ]
        }
      ]
    },
    {
      "cell_type": "code",
      "source": [
        "df_order = df_order.withColumn(\"order_weekend\", f.col(\"order_dow\") >= 5)"
      ],
      "metadata": {
        "id": "D0UnGh0xTNav"
      },
      "execution_count": null,
      "outputs": []
    },
    {
      "cell_type": "code",
      "source": [
        "df_agg = df_order.groupBy(\"user_id\").agg(\n",
        "    f.mean(\"days_since_prior_order\").alias(\"reorder_mean\"),\n",
        "    f.mean(\"item_count\").alias(\"item_count\"),\n",
        "    f.count(f.lit(1)).alias(\"order_count\"),\n",
        "    f.mode(\"order_weekend\").alias(\"weekend_prefer\")\n",
        ")"
      ],
      "metadata": {
        "id": "ByA4JyzgO1_3"
      },
      "execution_count": null,
      "outputs": []
    },
    {
      "cell_type": "code",
      "source": [
        "%%time\n",
        "df_agg.persist()\n",
        "df_agg.show()"
      ],
      "metadata": {
        "colab": {
          "base_uri": "https://localhost:8080/"
        },
        "id": "Cp5R3448OhQk",
        "outputId": "93dc70b0-0839-4926-831e-c2ba73326b93"
      },
      "execution_count": null,
      "outputs": [
        {
          "output_type": "stream",
          "name": "stdout",
          "text": [
            "+-------+------------------+------------------+-----------+--------------+\n",
            "|user_id|      reorder_mean|        item_count|order_count|weekend_prefer|\n",
            "+-------+------------------+------------------+-----------+--------------+\n",
            "|   7554|            8.8125|17.764705882352942|         17|         false|\n",
            "|  10817|10.464285714285714|13.689655172413794|         29|         false|\n",
            "|  57201|              24.4|              10.0|          6|         false|\n",
            "|    833|21.181818181818183|              19.5|         12|         false|\n",
            "|  23271|15.545454545454545|16.818181818181817|         12|         false|\n",
            "|  34061|             13.25|               4.0|          9|         false|\n",
            "|  40574| 4.918918918918919| 7.743243243243243|         75|         false|\n",
            "|  88674|          11.03125|              11.0|         33|         false|\n",
            "| 114206| 6.777777777777778|              38.2|         10|         false|\n",
            "| 119432| 7.105263157894737| 9.842105263157896|         20|         false|\n",
            "| 171094|20.666666666666668|               2.5|          4|         false|\n",
            "|   9465| 8.321428571428571| 8.862068965517242|         29|         false|\n",
            "|  91937|11.777777777777779|              20.1|         10|         false|\n",
            "| 154077|               5.6| 9.612903225806452|         31|         false|\n",
            "| 167532|              19.0|              10.5|          4|         false|\n",
            "| 180753|              22.8|               6.0|         11|         false|\n",
            "|  32592|11.766666666666667| 8.612903225806452|         31|         false|\n",
            "| 104508| 5.793103448275862| 6.779661016949152|         59|         false|\n",
            "| 106783|13.842105263157896|             16.55|         20|         false|\n",
            "| 108460| 9.742857142857142|13.371428571428572|         36|         false|\n",
            "+-------+------------------+------------------+-----------+--------------+\n",
            "only showing top 20 rows\n",
            "\n",
            "CPU times: user 3.02 ms, sys: 0 ns, total: 3.02 ms\n",
            "Wall time: 155 ms\n"
          ]
        }
      ]
    },
    {
      "cell_type": "code",
      "source": [
        "df_agg.describe().show()"
      ],
      "metadata": {
        "colab": {
          "base_uri": "https://localhost:8080/"
        },
        "id": "VUEMEzYSVP7t",
        "outputId": "575be30d-47eb-4504-a7ba-4cf848512204"
      },
      "execution_count": null,
      "outputs": [
        {
          "output_type": "stream",
          "name": "stdout",
          "text": [
            "+-------+-----------------+------------------+------------------+------------------+\n",
            "|summary|          user_id|      reorder_mean|        item_count|       order_count|\n",
            "+-------+-----------------+------------------+------------------+------------------+\n",
            "|  count|            15863|             15863|             15863|             15863|\n",
            "|   mean|         103104.0|15.479070041625368|10.119160092850482|16.536090272962237|\n",
            "| stddev|59532.17393981176|6.9135648408786565| 5.935174437457448| 16.72254068797023|\n",
            "|    min|                1|               0.4|               1.0|                 4|\n",
            "|    max|           206207|              30.0|56.166666666666664|               100|\n",
            "+-------+-----------------+------------------+------------------+------------------+\n",
            "\n"
          ]
        }
      ]
    },
    {
      "cell_type": "code",
      "source": [
        "df_agg.groupBy('weekend_prefer').count().orderBy('count').show()"
      ],
      "metadata": {
        "colab": {
          "base_uri": "https://localhost:8080/"
        },
        "id": "BIFU8aJPVcsX",
        "outputId": "eb670f10-5384-4cac-db6c-cd5e3f409b96"
      },
      "execution_count": null,
      "outputs": [
        {
          "output_type": "stream",
          "name": "stdout",
          "text": [
            "+--------------+-----+\n",
            "|weekend_prefer|count|\n",
            "+--------------+-----+\n",
            "|          true| 1438|\n",
            "|         false|14425|\n",
            "+--------------+-----+\n",
            "\n"
          ]
        }
      ]
    },
    {
      "cell_type": "code",
      "source": [
        "from pyspark.ml import Pipeline\n",
        "from pyspark.ml.feature import MinMaxScaler\n",
        "from pyspark.ml.feature import VectorAssembler\n",
        "from pyspark.sql.functions import udf\n",
        "\n",
        "\n",
        "unlist = udf(lambda x: round(float(list(x)[0]),3), DoubleType())\n",
        "\n",
        "for i in [\"reorder_mean\", \"item_count\", \"order_count\"]:\n",
        "    # VectorAssembler Transformation - Converting column to vector type\n",
        "    assembler = VectorAssembler(inputCols=[i],outputCol=i+\"_Vect\")\n",
        "\n",
        "    # MinMaxScaler Transformation\n",
        "    scaler = MinMaxScaler(inputCol=i+\"_Vect\", outputCol=i+\"_Scaled\")\n",
        "\n",
        "    # Pipeline of VectorAssembler and MinMaxScaler\n",
        "    pipeline = Pipeline(stages=[assembler, scaler])\n",
        "\n",
        "    # Fitting pipeline on dataframe\n",
        "    df_agg_ = pipeline.fit(df_agg).transform(df_agg).drop(i+\"_Vect\")\n",
        "    df_agg = pipeline.fit(df_agg).transform(df_agg).withColumn(i+\"_Scaled\", unlist(i+\"_Scaled\")).drop(i+\"_Vect\")"
      ],
      "metadata": {
        "id": "T7tWyTPiWiSI"
      },
      "execution_count": null,
      "outputs": []
    },
    {
      "cell_type": "code",
      "source": [
        "df_agg.persist()"
      ],
      "metadata": {
        "colab": {
          "base_uri": "https://localhost:8080/"
        },
        "id": "IWyWpQ5PYVlh",
        "outputId": "9e914f37-2a3b-4b82-cde4-c269e1e4998a"
      },
      "execution_count": null,
      "outputs": [
        {
          "output_type": "execute_result",
          "data": {
            "text/plain": [
              "DataFrame[user_id: int, reorder_mean: double, item_count: double, order_count: bigint, weekend_prefer: boolean, reorder_mean_Scaled: double, item_count_Scaled: double, order_count_Scaled: double]"
            ]
          },
          "metadata": {},
          "execution_count": 23
        }
      ]
    },
    {
      "cell_type": "code",
      "source": [
        "df_agg.show()"
      ],
      "metadata": {
        "colab": {
          "base_uri": "https://localhost:8080/"
        },
        "id": "YsLyqu-YwJ4N",
        "outputId": "770386db-cc4b-4c5b-d964-5a6992fd54ab"
      },
      "execution_count": null,
      "outputs": [
        {
          "output_type": "stream",
          "name": "stdout",
          "text": [
            "+-------+------------------+------------------+-----------+--------------+-------------------+-----------------+------------------+\n",
            "|user_id|      reorder_mean|        item_count|order_count|weekend_prefer|reorder_mean_Scaled|item_count_Scaled|order_count_Scaled|\n",
            "+-------+------------------+------------------+-----------+--------------+-------------------+-----------------+------------------+\n",
            "|   7554|            8.8125|17.764705882352942|         17|         false|              0.284|            0.304|             0.135|\n",
            "|  10817|10.464285714285714|13.689655172413794|         29|         false|               0.34|             0.23|              0.26|\n",
            "|  57201|              24.4|              10.0|          6|         false|              0.811|            0.163|             0.021|\n",
            "|    833|21.181818181818183|              19.5|         12|         false|              0.702|            0.335|             0.083|\n",
            "|  23271|15.545454545454545|16.818181818181817|         12|         false|              0.512|            0.287|             0.083|\n",
            "|  34061|             13.25|               4.0|          9|         false|              0.434|            0.054|             0.052|\n",
            "|  40574| 4.918918918918919| 7.743243243243243|         75|         false|              0.153|            0.122|              0.74|\n",
            "|  88674|          11.03125|              11.0|         33|         false|              0.359|            0.181|             0.302|\n",
            "| 114206| 6.777777777777778|              38.2|         10|         false|              0.215|            0.674|             0.062|\n",
            "| 119432| 7.105263157894737| 9.842105263157896|         20|         false|              0.227|             0.16|             0.167|\n",
            "| 171094|20.666666666666668|               2.5|          4|         false|              0.685|            0.027|               0.0|\n",
            "|   9465| 8.321428571428571| 8.862068965517242|         29|         false|              0.268|            0.143|              0.26|\n",
            "|  91937|11.777777777777779|              20.1|         10|         false|              0.384|            0.346|             0.062|\n",
            "| 154077|               5.6| 9.612903225806452|         31|         false|              0.176|            0.156|             0.281|\n",
            "| 167532|              19.0|              10.5|          4|         false|              0.628|            0.172|               0.0|\n",
            "| 180753|              22.8|               6.0|         11|         false|              0.757|            0.091|             0.073|\n",
            "|  32592|11.766666666666667| 8.612903225806452|         31|         false|              0.384|            0.138|             0.281|\n",
            "| 104508| 5.793103448275862| 6.779661016949152|         59|         false|              0.182|            0.105|             0.573|\n",
            "| 106783|13.842105263157896|             16.55|         20|         false|              0.454|            0.282|             0.167|\n",
            "| 108460| 9.742857142857142|13.371428571428572|         36|         false|              0.316|            0.224|             0.333|\n",
            "+-------+------------------+------------------+-----------+--------------+-------------------+-----------------+------------------+\n",
            "only showing top 20 rows\n",
            "\n"
          ]
        }
      ]
    },
    {
      "cell_type": "code",
      "source": [
        "%%time\n",
        "df_agg.describe().show()"
      ],
      "metadata": {
        "colab": {
          "base_uri": "https://localhost:8080/"
        },
        "id": "4aoDdwokWcgd",
        "outputId": "968e812c-017b-4fcb-c74a-a0e4a12e16b0"
      },
      "execution_count": null,
      "outputs": [
        {
          "output_type": "stream",
          "name": "stdout",
          "text": [
            "+-------+-----------------+------------------+------------------+------------------+-------------------+------------------+-------------------+\n",
            "|summary|          user_id|      reorder_mean|        item_count|       order_count|reorder_mean_Scaled| item_count_Scaled| order_count_Scaled|\n",
            "+-------+-----------------+------------------+------------------+------------------+-------------------+------------------+-------------------+\n",
            "|  count|            15863|             15863|             15863|             15863|              15863|             15863|              15863|\n",
            "|   mean|         103104.0|15.479070041625368|10.119160092850482|16.536090272962237|  0.509429174809305|0.1653056798840067| 0.1305359641934061|\n",
            "| stddev|59532.17393981176|6.9135648408786565| 5.935174437457448| 16.72254068797023|0.23357178144738938| 0.107586148711947|0.17422188616239306|\n",
            "|    min|                1|               0.4|               1.0|                 4|                0.0|               0.0|                0.0|\n",
            "|    max|           206207|              30.0|56.166666666666664|               100|                1.0|               1.0|                1.0|\n",
            "+-------+-----------------+------------------+------------------+------------------+-------------------+------------------+-------------------+\n",
            "\n",
            "CPU times: user 47.2 ms, sys: 13.5 ms, total: 60.6 ms\n",
            "Wall time: 4.41 s\n"
          ]
        }
      ]
    },
    {
      "cell_type": "code",
      "source": [
        "%%time\n",
        "vecAssembler = VectorAssembler(inputCols=[\"weekend_prefer\", \"reorder_mean_Scaled\", \"item_count_Scaled\", \"order_count_Scaled\"], outputCol=\"features\")\n",
        "new_df = vecAssembler.transform(df_agg)\n",
        "new_df.persist()\n",
        "new_df.show()"
      ],
      "metadata": {
        "colab": {
          "base_uri": "https://localhost:8080/"
        },
        "id": "WLyl6iTsYobu",
        "outputId": "983e3e40-eada-4f8c-f111-b0acd4e1b3e3"
      },
      "execution_count": null,
      "outputs": [
        {
          "output_type": "stream",
          "name": "stdout",
          "text": [
            "+-------+------------------+------------------+-----------+--------------+-------------------+-----------------+------------------+--------------------+\n",
            "|user_id|      reorder_mean|        item_count|order_count|weekend_prefer|reorder_mean_Scaled|item_count_Scaled|order_count_Scaled|            features|\n",
            "+-------+------------------+------------------+-----------+--------------+-------------------+-----------------+------------------+--------------------+\n",
            "|   7554|            8.8125|17.764705882352942|         17|         false|              0.284|            0.304|             0.135|[0.0,0.284,0.304,...|\n",
            "|  10817|10.464285714285714|13.689655172413794|         29|         false|               0.34|             0.23|              0.26|[0.0,0.34,0.23,0.26]|\n",
            "|  57201|              24.4|              10.0|          6|         false|              0.811|            0.163|             0.021|[0.0,0.811,0.163,...|\n",
            "|    833|21.181818181818183|              19.5|         12|         false|              0.702|            0.335|             0.083|[0.0,0.702,0.335,...|\n",
            "|  23271|15.545454545454545|16.818181818181817|         12|         false|              0.512|            0.287|             0.083|[0.0,0.512,0.287,...|\n",
            "|  34061|             13.25|               4.0|          9|         false|              0.434|            0.054|             0.052|[0.0,0.434,0.054,...|\n",
            "|  40574| 4.918918918918919| 7.743243243243243|         75|         false|              0.153|            0.122|              0.74|[0.0,0.153,0.122,...|\n",
            "|  88674|          11.03125|              11.0|         33|         false|              0.359|            0.181|             0.302|[0.0,0.359,0.181,...|\n",
            "| 114206| 6.777777777777778|              38.2|         10|         false|              0.215|            0.674|             0.062|[0.0,0.215,0.674,...|\n",
            "| 119432| 7.105263157894737| 9.842105263157896|         20|         false|              0.227|             0.16|             0.167|[0.0,0.227,0.16,0...|\n",
            "| 171094|20.666666666666668|               2.5|          4|         false|              0.685|            0.027|               0.0|[0.0,0.685,0.027,...|\n",
            "|   9465| 8.321428571428571| 8.862068965517242|         29|         false|              0.268|            0.143|              0.26|[0.0,0.268,0.143,...|\n",
            "|  91937|11.777777777777779|              20.1|         10|         false|              0.384|            0.346|             0.062|[0.0,0.384,0.346,...|\n",
            "| 154077|               5.6| 9.612903225806452|         31|         false|              0.176|            0.156|             0.281|[0.0,0.176,0.156,...|\n",
            "| 167532|              19.0|              10.5|          4|         false|              0.628|            0.172|               0.0|[0.0,0.628,0.172,...|\n",
            "| 180753|              22.8|               6.0|         11|         false|              0.757|            0.091|             0.073|[0.0,0.757,0.091,...|\n",
            "|  32592|11.766666666666667| 8.612903225806452|         31|         false|              0.384|            0.138|             0.281|[0.0,0.384,0.138,...|\n",
            "| 104508| 5.793103448275862| 6.779661016949152|         59|         false|              0.182|            0.105|             0.573|[0.0,0.182,0.105,...|\n",
            "| 106783|13.842105263157896|             16.55|         20|         false|              0.454|            0.282|             0.167|[0.0,0.454,0.282,...|\n",
            "| 108460| 9.742857142857142|13.371428571428572|         36|         false|              0.316|            0.224|             0.333|[0.0,0.316,0.224,...|\n",
            "+-------+------------------+------------------+-----------+--------------+-------------------+-----------------+------------------+--------------------+\n",
            "only showing top 20 rows\n",
            "\n",
            "CPU times: user 50.5 ms, sys: 18.2 ms, total: 68.7 ms\n",
            "Wall time: 4.66 s\n"
          ]
        }
      ]
    },
    {
      "cell_type": "code",
      "source": [
        "%%time\n",
        "from pyspark.ml.clustering import KMeans\n",
        "\n",
        "kmeans = KMeans(k=5, seed=1)\n",
        "model = kmeans.fit(new_df.select('features'))"
      ],
      "metadata": {
        "colab": {
          "base_uri": "https://localhost:8080/"
        },
        "id": "_NU3uCspVvBV",
        "outputId": "965be79e-bf1f-4a98-a6cd-2b67054439b2"
      },
      "execution_count": null,
      "outputs": [
        {
          "output_type": "stream",
          "name": "stdout",
          "text": [
            "CPU times: user 1.17 s, sys: 307 ms, total: 1.47 s\n",
            "Wall time: 1min 54s\n"
          ]
        }
      ]
    },
    {
      "cell_type": "code",
      "source": [
        "%%time\n",
        "transformed = model.transform(new_df)\n",
        "df_cluster = transformed.toPandas()"
      ],
      "metadata": {
        "colab": {
          "base_uri": "https://localhost:8080/"
        },
        "id": "7ngPrdtSU_eN",
        "outputId": "a228d1cd-ae7e-440e-c974-f127c46db39e"
      },
      "execution_count": null,
      "outputs": [
        {
          "output_type": "stream",
          "name": "stdout",
          "text": [
            "CPU times: user 576 ms, sys: 22.7 ms, total: 599 ms\n",
            "Wall time: 4.62 s\n"
          ]
        }
      ]
    },
    {
      "cell_type": "code",
      "source": [
        "df_cluster.groupby(\"prediction\")[\"weekend_prefer\", \"reorder_mean_Scaled\", \"item_count_Scaled\", \"order_count_Scaled\"].mean()"
      ],
      "metadata": {
        "colab": {
          "base_uri": "https://localhost:8080/",
          "height": 293
        },
        "id": "7JJ1a9yrVMOO",
        "outputId": "4414893a-f6f7-441d-a8fa-5a9c258ba5f1"
      },
      "execution_count": null,
      "outputs": [
        {
          "output_type": "stream",
          "name": "stderr",
          "text": [
            "<ipython-input-58-64d2828d1509>:1: FutureWarning: Indexing with multiple keys (implicitly converted to a tuple of keys) will be deprecated, use a list instead.\n",
            "  df_cluster.groupby(\"prediction\")[\"weekend_prefer\", \"reorder_mean_Scaled\", \"item_count_Scaled\", \"order_count_Scaled\"].mean()\n"
          ]
        },
        {
          "output_type": "execute_result",
          "data": {
            "text/plain": [
              "            weekend_prefer  reorder_mean_Scaled  item_count_Scaled  \\\n",
              "prediction                                                           \n",
              "0                      0.0             0.829121           0.160620   \n",
              "1                      0.0             0.196570           0.166578   \n",
              "2                      1.0             0.546132           0.173340   \n",
              "3                      0.0             0.310304           0.164462   \n",
              "4                      0.0             0.553168           0.166628   \n",
              "\n",
              "            order_count_Scaled  \n",
              "prediction                      \n",
              "0                     0.034342  \n",
              "1                     0.595069  \n",
              "2                     0.094446  \n",
              "3                     0.159362  \n",
              "4                     0.077244  "
            ],
            "text/html": [
              "\n",
              "  <div id=\"df-ad2b7075-a285-4b1a-a11b-e99caea0e8b6\" class=\"colab-df-container\">\n",
              "    <div>\n",
              "<style scoped>\n",
              "    .dataframe tbody tr th:only-of-type {\n",
              "        vertical-align: middle;\n",
              "    }\n",
              "\n",
              "    .dataframe tbody tr th {\n",
              "        vertical-align: top;\n",
              "    }\n",
              "\n",
              "    .dataframe thead th {\n",
              "        text-align: right;\n",
              "    }\n",
              "</style>\n",
              "<table border=\"1\" class=\"dataframe\">\n",
              "  <thead>\n",
              "    <tr style=\"text-align: right;\">\n",
              "      <th></th>\n",
              "      <th>weekend_prefer</th>\n",
              "      <th>reorder_mean_Scaled</th>\n",
              "      <th>item_count_Scaled</th>\n",
              "      <th>order_count_Scaled</th>\n",
              "    </tr>\n",
              "    <tr>\n",
              "      <th>prediction</th>\n",
              "      <th></th>\n",
              "      <th></th>\n",
              "      <th></th>\n",
              "      <th></th>\n",
              "    </tr>\n",
              "  </thead>\n",
              "  <tbody>\n",
              "    <tr>\n",
              "      <th>0</th>\n",
              "      <td>0.0</td>\n",
              "      <td>0.829121</td>\n",
              "      <td>0.160620</td>\n",
              "      <td>0.034342</td>\n",
              "    </tr>\n",
              "    <tr>\n",
              "      <th>1</th>\n",
              "      <td>0.0</td>\n",
              "      <td>0.196570</td>\n",
              "      <td>0.166578</td>\n",
              "      <td>0.595069</td>\n",
              "    </tr>\n",
              "    <tr>\n",
              "      <th>2</th>\n",
              "      <td>1.0</td>\n",
              "      <td>0.546132</td>\n",
              "      <td>0.173340</td>\n",
              "      <td>0.094446</td>\n",
              "    </tr>\n",
              "    <tr>\n",
              "      <th>3</th>\n",
              "      <td>0.0</td>\n",
              "      <td>0.310304</td>\n",
              "      <td>0.164462</td>\n",
              "      <td>0.159362</td>\n",
              "    </tr>\n",
              "    <tr>\n",
              "      <th>4</th>\n",
              "      <td>0.0</td>\n",
              "      <td>0.553168</td>\n",
              "      <td>0.166628</td>\n",
              "      <td>0.077244</td>\n",
              "    </tr>\n",
              "  </tbody>\n",
              "</table>\n",
              "</div>\n",
              "    <div class=\"colab-df-buttons\">\n",
              "\n",
              "  <div class=\"colab-df-container\">\n",
              "    <button class=\"colab-df-convert\" onclick=\"convertToInteractive('df-ad2b7075-a285-4b1a-a11b-e99caea0e8b6')\"\n",
              "            title=\"Convert this dataframe to an interactive table.\"\n",
              "            style=\"display:none;\">\n",
              "\n",
              "  <svg xmlns=\"http://www.w3.org/2000/svg\" height=\"24px\" viewBox=\"0 -960 960 960\">\n",
              "    <path d=\"M120-120v-720h720v720H120Zm60-500h600v-160H180v160Zm220 220h160v-160H400v160Zm0 220h160v-160H400v160ZM180-400h160v-160H180v160Zm440 0h160v-160H620v160ZM180-180h160v-160H180v160Zm440 0h160v-160H620v160Z\"/>\n",
              "  </svg>\n",
              "    </button>\n",
              "\n",
              "  <style>\n",
              "    .colab-df-container {\n",
              "      display:flex;\n",
              "      gap: 12px;\n",
              "    }\n",
              "\n",
              "    .colab-df-convert {\n",
              "      background-color: #E8F0FE;\n",
              "      border: none;\n",
              "      border-radius: 50%;\n",
              "      cursor: pointer;\n",
              "      display: none;\n",
              "      fill: #1967D2;\n",
              "      height: 32px;\n",
              "      padding: 0 0 0 0;\n",
              "      width: 32px;\n",
              "    }\n",
              "\n",
              "    .colab-df-convert:hover {\n",
              "      background-color: #E2EBFA;\n",
              "      box-shadow: 0px 1px 2px rgba(60, 64, 67, 0.3), 0px 1px 3px 1px rgba(60, 64, 67, 0.15);\n",
              "      fill: #174EA6;\n",
              "    }\n",
              "\n",
              "    .colab-df-buttons div {\n",
              "      margin-bottom: 4px;\n",
              "    }\n",
              "\n",
              "    [theme=dark] .colab-df-convert {\n",
              "      background-color: #3B4455;\n",
              "      fill: #D2E3FC;\n",
              "    }\n",
              "\n",
              "    [theme=dark] .colab-df-convert:hover {\n",
              "      background-color: #434B5C;\n",
              "      box-shadow: 0px 1px 3px 1px rgba(0, 0, 0, 0.15);\n",
              "      filter: drop-shadow(0px 1px 2px rgba(0, 0, 0, 0.3));\n",
              "      fill: #FFFFFF;\n",
              "    }\n",
              "  </style>\n",
              "\n",
              "    <script>\n",
              "      const buttonEl =\n",
              "        document.querySelector('#df-ad2b7075-a285-4b1a-a11b-e99caea0e8b6 button.colab-df-convert');\n",
              "      buttonEl.style.display =\n",
              "        google.colab.kernel.accessAllowed ? 'block' : 'none';\n",
              "\n",
              "      async function convertToInteractive(key) {\n",
              "        const element = document.querySelector('#df-ad2b7075-a285-4b1a-a11b-e99caea0e8b6');\n",
              "        const dataTable =\n",
              "          await google.colab.kernel.invokeFunction('convertToInteractive',\n",
              "                                                    [key], {});\n",
              "        if (!dataTable) return;\n",
              "\n",
              "        const docLinkHtml = 'Like what you see? Visit the ' +\n",
              "          '<a target=\"_blank\" href=https://colab.research.google.com/notebooks/data_table.ipynb>data table notebook</a>'\n",
              "          + ' to learn more about interactive tables.';\n",
              "        element.innerHTML = '';\n",
              "        dataTable['output_type'] = 'display_data';\n",
              "        await google.colab.output.renderOutput(dataTable, element);\n",
              "        const docLink = document.createElement('div');\n",
              "        docLink.innerHTML = docLinkHtml;\n",
              "        element.appendChild(docLink);\n",
              "      }\n",
              "    </script>\n",
              "  </div>\n",
              "\n",
              "\n",
              "<div id=\"df-d4fc6df8-52c1-40c1-baba-e79ea6f9e0d0\">\n",
              "  <button class=\"colab-df-quickchart\" onclick=\"quickchart('df-d4fc6df8-52c1-40c1-baba-e79ea6f9e0d0')\"\n",
              "            title=\"Suggest charts\"\n",
              "            style=\"display:none;\">\n",
              "\n",
              "<svg xmlns=\"http://www.w3.org/2000/svg\" height=\"24px\"viewBox=\"0 0 24 24\"\n",
              "     width=\"24px\">\n",
              "    <g>\n",
              "        <path d=\"M19 3H5c-1.1 0-2 .9-2 2v14c0 1.1.9 2 2 2h14c1.1 0 2-.9 2-2V5c0-1.1-.9-2-2-2zM9 17H7v-7h2v7zm4 0h-2V7h2v10zm4 0h-2v-4h2v4z\"/>\n",
              "    </g>\n",
              "</svg>\n",
              "  </button>\n",
              "\n",
              "<style>\n",
              "  .colab-df-quickchart {\n",
              "      --bg-color: #E8F0FE;\n",
              "      --fill-color: #1967D2;\n",
              "      --hover-bg-color: #E2EBFA;\n",
              "      --hover-fill-color: #174EA6;\n",
              "      --disabled-fill-color: #AAA;\n",
              "      --disabled-bg-color: #DDD;\n",
              "  }\n",
              "\n",
              "  [theme=dark] .colab-df-quickchart {\n",
              "      --bg-color: #3B4455;\n",
              "      --fill-color: #D2E3FC;\n",
              "      --hover-bg-color: #434B5C;\n",
              "      --hover-fill-color: #FFFFFF;\n",
              "      --disabled-bg-color: #3B4455;\n",
              "      --disabled-fill-color: #666;\n",
              "  }\n",
              "\n",
              "  .colab-df-quickchart {\n",
              "    background-color: var(--bg-color);\n",
              "    border: none;\n",
              "    border-radius: 50%;\n",
              "    cursor: pointer;\n",
              "    display: none;\n",
              "    fill: var(--fill-color);\n",
              "    height: 32px;\n",
              "    padding: 0;\n",
              "    width: 32px;\n",
              "  }\n",
              "\n",
              "  .colab-df-quickchart:hover {\n",
              "    background-color: var(--hover-bg-color);\n",
              "    box-shadow: 0 1px 2px rgba(60, 64, 67, 0.3), 0 1px 3px 1px rgba(60, 64, 67, 0.15);\n",
              "    fill: var(--button-hover-fill-color);\n",
              "  }\n",
              "\n",
              "  .colab-df-quickchart-complete:disabled,\n",
              "  .colab-df-quickchart-complete:disabled:hover {\n",
              "    background-color: var(--disabled-bg-color);\n",
              "    fill: var(--disabled-fill-color);\n",
              "    box-shadow: none;\n",
              "  }\n",
              "\n",
              "  .colab-df-spinner {\n",
              "    border: 2px solid var(--fill-color);\n",
              "    border-color: transparent;\n",
              "    border-bottom-color: var(--fill-color);\n",
              "    animation:\n",
              "      spin 1s steps(1) infinite;\n",
              "  }\n",
              "\n",
              "  @keyframes spin {\n",
              "    0% {\n",
              "      border-color: transparent;\n",
              "      border-bottom-color: var(--fill-color);\n",
              "      border-left-color: var(--fill-color);\n",
              "    }\n",
              "    20% {\n",
              "      border-color: transparent;\n",
              "      border-left-color: var(--fill-color);\n",
              "      border-top-color: var(--fill-color);\n",
              "    }\n",
              "    30% {\n",
              "      border-color: transparent;\n",
              "      border-left-color: var(--fill-color);\n",
              "      border-top-color: var(--fill-color);\n",
              "      border-right-color: var(--fill-color);\n",
              "    }\n",
              "    40% {\n",
              "      border-color: transparent;\n",
              "      border-right-color: var(--fill-color);\n",
              "      border-top-color: var(--fill-color);\n",
              "    }\n",
              "    60% {\n",
              "      border-color: transparent;\n",
              "      border-right-color: var(--fill-color);\n",
              "    }\n",
              "    80% {\n",
              "      border-color: transparent;\n",
              "      border-right-color: var(--fill-color);\n",
              "      border-bottom-color: var(--fill-color);\n",
              "    }\n",
              "    90% {\n",
              "      border-color: transparent;\n",
              "      border-bottom-color: var(--fill-color);\n",
              "    }\n",
              "  }\n",
              "</style>\n",
              "\n",
              "  <script>\n",
              "    async function quickchart(key) {\n",
              "      const quickchartButtonEl =\n",
              "        document.querySelector('#' + key + ' button');\n",
              "      quickchartButtonEl.disabled = true;  // To prevent multiple clicks.\n",
              "      quickchartButtonEl.classList.add('colab-df-spinner');\n",
              "      try {\n",
              "        const charts = await google.colab.kernel.invokeFunction(\n",
              "            'suggestCharts', [key], {});\n",
              "      } catch (error) {\n",
              "        console.error('Error during call to suggestCharts:', error);\n",
              "      }\n",
              "      quickchartButtonEl.classList.remove('colab-df-spinner');\n",
              "      quickchartButtonEl.classList.add('colab-df-quickchart-complete');\n",
              "    }\n",
              "    (() => {\n",
              "      let quickchartButtonEl =\n",
              "        document.querySelector('#df-d4fc6df8-52c1-40c1-baba-e79ea6f9e0d0 button');\n",
              "      quickchartButtonEl.style.display =\n",
              "        google.colab.kernel.accessAllowed ? 'block' : 'none';\n",
              "    })();\n",
              "  </script>\n",
              "</div>\n",
              "\n",
              "    </div>\n",
              "  </div>\n"
            ],
            "application/vnd.google.colaboratory.intrinsic+json": {
              "type": "dataframe",
              "summary": "{\n  \"name\": \"df_cluster\",\n  \"rows\": 5,\n  \"fields\": [\n    {\n      \"column\": \"prediction\",\n      \"properties\": {\n        \"dtype\": \"number\",\n        \"std\": 1,\n        \"min\": 0,\n        \"max\": 4,\n        \"num_unique_values\": 5,\n        \"samples\": [\n          1,\n          4,\n          2\n        ],\n        \"semantic_type\": \"\",\n        \"description\": \"\"\n      }\n    },\n    {\n      \"column\": \"weekend_prefer\",\n      \"properties\": {\n        \"dtype\": \"number\",\n        \"std\": 0.44721359549995804,\n        \"min\": 0.0,\n        \"max\": 1.0,\n        \"num_unique_values\": 2,\n        \"samples\": [\n          1.0,\n          0.0\n        ],\n        \"semantic_type\": \"\",\n        \"description\": \"\"\n      }\n    },\n    {\n      \"column\": \"reorder_mean_Scaled\",\n      \"properties\": {\n        \"dtype\": \"number\",\n        \"std\": 0.24520024086077788,\n        \"min\": 0.19657010785824344,\n        \"max\": 0.8291210723551455,\n        \"num_unique_values\": 5,\n        \"samples\": [\n          0.19657010785824344,\n          0.5531678349689566\n        ],\n        \"semantic_type\": \"\",\n        \"description\": \"\"\n      }\n    },\n    {\n      \"column\": \"item_count_Scaled\",\n      \"properties\": {\n        \"dtype\": \"number\",\n        \"std\": 0.004620209787251187,\n        \"min\": 0.16062035168636496,\n        \"max\": 0.1733403106009453,\n        \"num_unique_values\": 5,\n        \"samples\": [\n          0.16657781201848998,\n          0.166628279591428\n        ],\n        \"semantic_type\": \"\",\n        \"description\": \"\"\n      }\n    },\n    {\n      \"column\": \"order_count_Scaled\",\n      \"properties\": {\n        \"dtype\": \"number\",\n        \"std\": 0.2297127616206745,\n        \"min\": 0.03434246180455463,\n        \"max\": 0.5950693374422188,\n        \"num_unique_values\": 5,\n        \"samples\": [\n          0.5950693374422188,\n          0.07724374123773282\n        ],\n        \"semantic_type\": \"\",\n        \"description\": \"\"\n      }\n    }\n  ]\n}"
            }
          },
          "metadata": {},
          "execution_count": 58
        }
      ]
    }
  ]
}