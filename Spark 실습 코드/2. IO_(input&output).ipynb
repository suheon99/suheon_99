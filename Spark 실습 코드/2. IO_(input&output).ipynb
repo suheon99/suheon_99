{
 "cells": [
  {
   "cell_type": "code",
   "execution_count": 1,
   "id": "a3efa026",
   "metadata": {},
   "outputs": [
    {
     "name": "stderr",
     "output_type": "stream",
     "text": [
      "/Users/t2023-m0093/anaconda3/lib/python3.11/site-packages/pandas/core/arrays/masked.py:60: UserWarning: Pandas requires version '1.3.6' or newer of 'bottleneck' (version '1.3.5' currently installed).\n",
      "  from pandas.core import (\n"
     ]
    }
   ],
   "source": [
    "import pandas as pd"
   ]
  },
  {
   "cell_type": "markdown",
   "id": "f8941739",
   "metadata": {},
   "source": [
    "### I/O 속도"
   ]
  },
  {
   "cell_type": "code",
   "execution_count": 3,
   "id": "6e095869",
   "metadata": {},
   "outputs": [
    {
     "name": "stdout",
     "output_type": "stream",
     "text": [
      "<class 'pandas.core.frame.DataFrame'>\n",
      "Index: 28154385 entries, 0 to 3465865\n",
      "Data columns (total 8 columns):\n",
      " #   Column              Dtype         \n",
      "---  ------              -----         \n",
      " 0   review_id           object        \n",
      " 1   app_name            object        \n",
      " 2   author_name         object        \n",
      " 3   pseudo_author_id    object        \n",
      " 4   author_app_version  object        \n",
      " 5   review_rating       float64       \n",
      " 6   review_likes        int64         \n",
      " 7   review_timestamp    datetime64[ns]\n",
      "dtypes: datetime64[ns](1), float64(1), int64(1), object(5)\n",
      "memory usage: 1.9+ GB\n"
     ]
    }
   ],
   "source": [
    "df.info()"
   ]
  },
  {
   "cell_type": "code",
   "execution_count": 2,
   "id": "9a4852f5",
   "metadata": {},
   "outputs": [
    {
     "name": "stdout",
     "output_type": "stream",
     "text": [
      "CPU times: user 14.2 s, sys: 9.93 s, total: 24.2 s\n",
      "Wall time: 22.7 s\n"
     ]
    }
   ],
   "source": [
    "%%time\n",
    "df = pd.read_parquet(\"target_raw.parquet\")"
   ]
  },
  {
   "cell_type": "code",
   "execution_count": 4,
   "id": "b14be151",
   "metadata": {},
   "outputs": [
    {
     "name": "stdout",
     "output_type": "stream",
     "text": [
      "CPU times: user 13.8 s, sys: 1.55 s, total: 15.4 s\n",
      "Wall time: 15.3 s\n"
     ]
    }
   ],
   "source": [
    "%%time\n",
    "df.to_parquet(\"target_raw.parquet\")"
   ]
  },
  {
   "cell_type": "code",
   "execution_count": 5,
   "id": "699d5b1d",
   "metadata": {},
   "outputs": [
    {
     "name": "stdout",
     "output_type": "stream",
     "text": [
      "CPU times: user 861 ms, sys: 460 ms, total: 1.32 s\n",
      "Wall time: 1.32 s\n"
     ]
    }
   ],
   "source": [
    "%%time\n",
    "df = df.reset_index(drop=True)"
   ]
  },
  {
   "cell_type": "code",
   "execution_count": 6,
   "id": "4048308b",
   "metadata": {},
   "outputs": [
    {
     "name": "stdout",
     "output_type": "stream",
     "text": [
      "CPU times: user 1min 2s, sys: 1.7 s, total: 1min 4s\n",
      "Wall time: 1min 4s\n"
     ]
    }
   ],
   "source": [
    "%%time\n",
    "df.to_csv(\"target_raw.csv\",index=False)"
   ]
  },
  {
   "cell_type": "code",
   "execution_count": 7,
   "id": "ccd967fa",
   "metadata": {},
   "outputs": [
    {
     "name": "stderr",
     "output_type": "stream",
     "text": [
      "<timed exec>:1: DtypeWarning: Columns (0,3) have mixed types. Specify dtype option on import or set low_memory=False.\n"
     ]
    },
    {
     "name": "stdout",
     "output_type": "stream",
     "text": [
      "CPU times: user 29.1 s, sys: 15.4 s, total: 44.5 s\n",
      "Wall time: 50.4 s\n"
     ]
    }
   ],
   "source": [
    "%%time\n",
    "df = pd.read_csv(\"target_raw.csv\")"
   ]
  },
  {
   "cell_type": "code",
   "execution_count": 8,
   "id": "75739fa8",
   "metadata": {},
   "outputs": [
    {
     "name": "stdout",
     "output_type": "stream",
     "text": [
      "<class 'pandas.core.frame.DataFrame'>\n",
      "RangeIndex: 28154385 entries, 0 to 28154384\n",
      "Data columns (total 8 columns):\n",
      " #   Column              Dtype  \n",
      "---  ------              -----  \n",
      " 0   review_id           object \n",
      " 1   app_name            object \n",
      " 2   author_name         object \n",
      " 3   pseudo_author_id    object \n",
      " 4   author_app_version  object \n",
      " 5   review_rating       float64\n",
      " 6   review_likes        int64  \n",
      " 7   review_timestamp    object \n",
      "dtypes: float64(1), int64(1), object(6)\n",
      "memory usage: 1.7+ GB\n"
     ]
    }
   ],
   "source": [
    "df.info()"
   ]
  },
  {
   "cell_type": "code",
   "execution_count": 9,
   "id": "97903500",
   "metadata": {},
   "outputs": [],
   "source": [
    "df.review_timestamp = pd.to_datetime(df.review_timestamp)"
   ]
  },
  {
   "cell_type": "markdown",
   "id": "b5565b7a",
   "metadata": {},
   "source": [
    "### 데이터 타입 정리"
   ]
  },
  {
   "cell_type": "code",
   "execution_count": 10,
   "id": "5a475676",
   "metadata": {},
   "outputs": [
    {
     "data": {
      "text/plain": [
       "review_id             2.997116e-01\n",
       "app_name              0.000000e+00\n",
       "author_name           0.000000e+00\n",
       "pseudo_author_id      2.997116e-01\n",
       "author_app_version    2.079358e-01\n",
       "review_rating         3.196660e-07\n",
       "review_likes          0.000000e+00\n",
       "review_timestamp      0.000000e+00\n",
       "dtype: float64"
      ]
     },
     "execution_count": 10,
     "metadata": {},
     "output_type": "execute_result"
    }
   ],
   "source": [
    "df.isna().mean()"
   ]
  },
  {
   "cell_type": "code",
   "execution_count": 11,
   "id": "3f1dc675",
   "metadata": {},
   "outputs": [],
   "source": [
    "# 분석을 위한 샘플링 \n",
    "df_raw = df.copy()"
   ]
  },
  {
   "cell_type": "code",
   "execution_count": 12,
   "id": "3eb70a2e",
   "metadata": {
    "scrolled": true
   },
   "outputs": [
    {
     "name": "stdout",
     "output_type": "stream",
     "text": [
      "<class 'pandas.core.frame.DataFrame'>\n",
      "Index: 2815438 entries, 11648613 to 26520425\n",
      "Data columns (total 8 columns):\n",
      " #   Column              Dtype         \n",
      "---  ------              -----         \n",
      " 0   review_id           object        \n",
      " 1   app_name            object        \n",
      " 2   author_name         object        \n",
      " 3   pseudo_author_id    object        \n",
      " 4   author_app_version  object        \n",
      " 5   review_rating       float64       \n",
      " 6   review_likes        int64         \n",
      " 7   review_timestamp    datetime64[ns]\n",
      "dtypes: datetime64[ns](1), float64(1), int64(1), object(5)\n",
      "memory usage: 193.3+ MB\n"
     ]
    }
   ],
   "source": [
    "df = df_raw.sample(frac=0.1)\n",
    "df.info()"
   ]
  },
  {
   "cell_type": "code",
   "execution_count": 14,
   "id": "e69e8a29",
   "metadata": {},
   "outputs": [],
   "source": [
    "df['review_timestamp'] = df['review_timestamp'].astype(str)"
   ]
  },
  {
   "cell_type": "code",
   "execution_count": 15,
   "id": "f135447c",
   "metadata": {},
   "outputs": [
    {
     "name": "stdout",
     "output_type": "stream",
     "text": [
      "<class 'pandas.core.frame.DataFrame'>\n",
      "Index: 2815438 entries, 11648613 to 26520425\n",
      "Data columns (total 8 columns):\n",
      " #   Column              Dtype  \n",
      "---  ------              -----  \n",
      " 0   review_id           object \n",
      " 1   app_name            object \n",
      " 2   author_name         object \n",
      " 3   pseudo_author_id    object \n",
      " 4   author_app_version  object \n",
      " 5   review_rating       float64\n",
      " 6   review_likes        int64  \n",
      " 7   review_timestamp    object \n",
      "dtypes: float64(1), int64(1), object(6)\n",
      "memory usage: 193.3+ MB\n"
     ]
    }
   ],
   "source": [
    "df.info()"
   ]
  },
  {
   "cell_type": "code",
   "execution_count": 16,
   "id": "4f0a2473",
   "metadata": {},
   "outputs": [
    {
     "name": "stdout",
     "output_type": "stream",
     "text": [
      "review_id(object): 1,970,275가지\n",
      "app_name(object): 7가지\n",
      "author_name(object): 584,436가지\n",
      "pseudo_author_id(object): 1,957,976가지\n",
      "author_app_version(object): 4,786가지\n",
      "review_rating(int): 0.00 ~ 5.00\n",
      "review_likes(int): 0.00 ~ 153,522.00\n",
      "review_timestamp(object): 2,786,889가지\n"
     ]
    }
   ],
   "source": [
    "for col, data_type in df.dtypes.items():\n",
    "    if data_type == \"object\":\n",
    "        ser_target = df[col].value_counts()\n",
    "        print(f\"{col}({data_type}): {len(ser_target):,}가지\")\n",
    "    elif data_type in (\"float\", \"int\"):\n",
    "        max_value = df[col].max()\n",
    "        min_value = df[col].min()\n",
    "        if (((df[col].dropna() % 1) != 0).sum() == 0) or (data_type == \"int\"):\n",
    "            target_data_type = \"int\"\n",
    "        else:\n",
    "            target_data_type = \"float\"\n",
    "        print(f\"{col}({target_data_type}): {min_value:,.2f} ~ {max_value:,.2f}\")\n",
    "    else:\n",
    "        raise Exception(\"New data type:\", data_type)"
   ]
  },
  {
   "cell_type": "code",
   "execution_count": 17,
   "id": "888f238a",
   "metadata": {},
   "outputs": [
    {
     "name": "stdout",
     "output_type": "stream",
     "text": [
      "<class 'pandas.core.frame.DataFrame'>\n",
      "RangeIndex: 28154385 entries, 0 to 28154384\n",
      "Data columns (total 8 columns):\n",
      " #   Column              Dtype         \n",
      "---  ------              -----         \n",
      " 0   review_id           object        \n",
      " 1   app_name            object        \n",
      " 2   author_name         object        \n",
      " 3   pseudo_author_id    object        \n",
      " 4   author_app_version  object        \n",
      " 5   review_rating       float64       \n",
      " 6   review_likes        int64         \n",
      " 7   review_timestamp    datetime64[ns]\n",
      "dtypes: datetime64[ns](1), float64(1), int64(1), object(5)\n",
      "memory usage: 1.7+ GB\n"
     ]
    }
   ],
   "source": [
    "df = df_raw\n",
    "del df_raw\n",
    "df.info()"
   ]
  },
  {
   "cell_type": "code",
   "execution_count": 18,
   "id": "75e7443f",
   "metadata": {},
   "outputs": [
    {
     "name": "stdout",
     "output_type": "stream",
     "text": [
      "<class 'pandas.core.frame.DataFrame'>\n",
      "RangeIndex: 28154385 entries, 0 to 28154384\n",
      "Data columns (total 8 columns):\n",
      " #   Column              Dtype         \n",
      "---  ------              -----         \n",
      " 0   review_id           object        \n",
      " 1   app_name            object        \n",
      " 2   author_name         object        \n",
      " 3   pseudo_author_id    object        \n",
      " 4   author_app_version  object        \n",
      " 5   review_rating       float64       \n",
      " 6   review_likes        int64         \n",
      " 7   review_timestamp    datetime64[ns]\n",
      "dtypes: datetime64[ns](1), float64(1), int64(1), object(5)\n",
      "memory usage: 1.7+ GB\n",
      "<class 'pandas.core.frame.DataFrame'>\n",
      "RangeIndex: 28154385 entries, 0 to 28154384\n",
      "Data columns (total 8 columns):\n",
      " #   Column              Dtype         \n",
      "---  ------              -----         \n",
      " 0   review_id           object        \n",
      " 1   app_name            object        \n",
      " 2   author_name         object        \n",
      " 3   pseudo_author_id    object        \n",
      " 4   author_app_version  object        \n",
      " 5   review_rating       float64       \n",
      " 6   review_likes        Int32         \n",
      " 7   review_timestamp    datetime64[ns]\n",
      "dtypes: Int32(1), datetime64[ns](1), float64(1), object(5)\n",
      "memory usage: 1.6+ GB\n",
      "<class 'pandas.core.frame.DataFrame'>\n",
      "RangeIndex: 28154385 entries, 0 to 28154384\n",
      "Data columns (total 8 columns):\n",
      " #   Column              Dtype         \n",
      "---  ------              -----         \n",
      " 0   review_id           object        \n",
      " 1   app_name            object        \n",
      " 2   author_name         object        \n",
      " 3   pseudo_author_id    object        \n",
      " 4   author_app_version  object        \n",
      " 5   review_rating       Int8          \n",
      " 6   review_likes        Int32         \n",
      " 7   review_timestamp    datetime64[ns]\n",
      "dtypes: Int32(1), Int8(1), datetime64[ns](1), object(5)\n",
      "memory usage: 1.4+ GB\n",
      "<class 'pandas.core.frame.DataFrame'>\n",
      "RangeIndex: 28154385 entries, 0 to 28154384\n",
      "Data columns (total 8 columns):\n",
      " #   Column              Dtype         \n",
      "---  ------              -----         \n",
      " 0   review_id           object        \n",
      " 1   app_name            category      \n",
      " 2   author_name         object        \n",
      " 3   pseudo_author_id    object        \n",
      " 4   author_app_version  category      \n",
      " 5   review_rating       Int8          \n",
      " 6   review_likes        Int32         \n",
      " 7   review_timestamp    datetime64[ns]\n",
      "dtypes: Int32(1), Int8(1), category(2), datetime64[ns](1), object(3)\n",
      "memory usage: 1.1+ GB\n",
      "Memory Usage: 1,801,880,772 -> 1,182,813,738 (34.36% reduced)\n"
     ]
    }
   ],
   "source": [
    "int32_cols = [\"review_likes\"]\n",
    "int8_cols = [\"review_rating\"]\n",
    "cate_cols = [\"app_name\", \"author_app_version\"]\n",
    "\n",
    "memory_usage_before = df.memory_usage().sum()\n",
    "\n",
    "df.info()\n",
    "for col in int32_cols:\n",
    "    assert abs(df[col].max()) < 2_147_483_647 \n",
    "    df[col] = df[col].astype(pd.Int32Dtype())\n",
    "    \n",
    "df.info()\n",
    "for col in int8_cols:\n",
    "    assert abs(df[col].max()) < 127\n",
    "    df[col] = df[col].astype(pd.Int8Dtype())\n",
    "    \n",
    "df.info()\n",
    "for col in cate_cols:\n",
    "    assert df[col].nunique() < 10_000\n",
    "    df[col] = df[col].astype(\"category\")\n",
    "    \n",
    "df.info()\n",
    "\n",
    "memory_usage_after = df.memory_usage().sum()\n",
    "reduction_ratio = 1 - (memory_usage_after / memory_usage_before)\n",
    "\n",
    "print(f\"Memory Usage: {memory_usage_before:,} -> {memory_usage_after:,} ({reduction_ratio*100:.2f}% reduced)\")"
   ]
  },
  {
   "cell_type": "code",
   "execution_count": 19,
   "id": "6c9b8492",
   "metadata": {},
   "outputs": [
    {
     "name": "stdout",
     "output_type": "stream",
     "text": [
      "CPU times: user 11.1 s, sys: 1.15 s, total: 12.2 s\n",
      "Wall time: 12.6 s\n"
     ]
    }
   ],
   "source": [
    "%%time\n",
    "df.to_parquet(\"df_optimized.parquet\")"
   ]
  }
 ],
 "metadata": {
  "kernelspec": {
   "display_name": "Python 3 (ipykernel)",
   "language": "python",
   "name": "python3"
  },
  "language_info": {
   "codemirror_mode": {
    "name": "ipython",
    "version": 3
   },
   "file_extension": ".py",
   "mimetype": "text/x-python",
   "name": "python",
   "nbconvert_exporter": "python",
   "pygments_lexer": "ipython3",
   "version": "3.11.5"
  }
 },
 "nbformat": 4,
 "nbformat_minor": 5
}
