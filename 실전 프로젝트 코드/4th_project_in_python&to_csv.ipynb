{
 "cells": [
  {
   "cell_type": "code",
   "execution_count": 1,
   "id": "7cfdd270",
   "metadata": {},
   "outputs": [],
   "source": [
    "import pandas as pd\n",
    "import numpy as np\n",
    "import seaborn as sns\n",
    "import matplotlib.pyplot as plt"
   ]
  },
  {
   "cell_type": "code",
   "execution_count": 2,
   "id": "0b348ada",
   "metadata": {},
   "outputs": [],
   "source": [
    "# 같은 폴더에 있는 데이터 불러오기\n",
    "event_df = pd.read_csv('./events.csv')\n",
    "order_df = pd.read_csv('./order_items.csv')"
   ]
  },
  {
   "cell_type": "code",
   "execution_count": 3,
   "id": "607a44f5",
   "metadata": {},
   "outputs": [],
   "source": [
    "# events 테이블에 product_id 칼럼 추가\n",
    "event_df['product_id'] = event_df.apply(lambda row : row.uri.split('/')[-1] if row.event_type == 'product' else np.NaN, axis=1)"
   ]
  },
  {
   "cell_type": "code",
   "execution_count": 4,
   "id": "5920b4ae",
   "metadata": {},
   "outputs": [
    {
     "data": {
      "text/plain": [
       "session_id          0\n",
       "user_id       1125671\n",
       "product_id    1586356\n",
       "created_at          0\n",
       "dtype: int64"
      ]
     },
     "execution_count": 4,
     "metadata": {},
     "output_type": "execute_result"
    }
   ],
   "source": [
    "# 2번 문제 해결을 위해 필요한 데이터 전처리\n",
    "event_df_sub = event_df[['session_id', 'user_id', 'product_id', 'created_at']]\n",
    "event_df_sub.isnull().sum()"
   ]
  },
  {
   "cell_type": "code",
   "execution_count": 5,
   "id": "551e98a0",
   "metadata": {},
   "outputs": [
    {
     "name": "stdout",
     "output_type": "stream",
     "text": [
      "<class 'pandas.core.frame.DataFrame'>\n",
      "Index: 345607 entries, 14423 to 2430029\n",
      "Data columns (total 4 columns):\n",
      " #   Column      Non-Null Count   Dtype  \n",
      "---  ------      --------------   -----  \n",
      " 0   session_id  345607 non-null  object \n",
      " 1   user_id     345607 non-null  float64\n",
      " 2   product_id  345607 non-null  object \n",
      " 3   created_at  345607 non-null  object \n",
      "dtypes: float64(1), object(3)\n",
      "memory usage: 13.2+ MB\n"
     ]
    }
   ],
   "source": [
    "# 2-1 유저 / 상품 쌍을 확인해야 하므로 두 컬럼에만 있는 결측치 제거\n",
    "event_df_sub = event_df_sub.dropna()\n",
    "event_df_sub.info()"
   ]
  },
  {
   "cell_type": "code",
   "execution_count": 6,
   "id": "607b8d03",
   "metadata": {
    "scrolled": true
   },
   "outputs": [],
   "source": [
    "# 비교를 위한 key값 데이터 타입 일치화\n",
    "order_df = order_df.astype({'user_id' : 'string', 'product_id' : 'string'})\n",
    "event_df_sub = event_df_sub.astype({'user_id' : 'int'})\n",
    "event_df_sub = event_df_sub.astype({'user_id' : 'string', 'product_id' : 'string'})"
   ]
  },
  {
   "cell_type": "code",
   "execution_count": 7,
   "id": "861ba941",
   "metadata": {},
   "outputs": [],
   "source": [
    "# merge를 위한 key값 생성\n",
    "order_df['check'] = order_df['user_id'] + '/' + order_df['product_id']\n",
    "event_df_sub['check'] = event_df_sub['user_id'] + '/' + event_df_sub['product_id']"
   ]
  },
  {
   "cell_type": "code",
   "execution_count": 8,
   "id": "f7da96bd",
   "metadata": {},
   "outputs": [
    {
     "data": {
      "text/plain": [
       "id                        0\n",
       "order_id                  0\n",
       "user_id_order             0\n",
       "product_id_order          0\n",
       "inventory_item_id         0\n",
       "status                    0\n",
       "created_at_order          0\n",
       "shipped_at           120707\n",
       "delivered_at         224041\n",
       "returned_at          311003\n",
       "sale_price                0\n",
       "check                     0\n",
       "session_id                0\n",
       "user_id_event             0\n",
       "product_id_event          0\n",
       "created_at_event          0\n",
       "dtype: int64"
      ]
     },
     "execution_count": 8,
     "metadata": {},
     "output_type": "execute_result"
    }
   ],
   "source": [
    "# 결과 확인\n",
    "merged_df_1 = pd.merge(order_df, event_df_sub, on='check', how='left', suffixes=('_order', '_event'))\n",
    "merged_df_1.isnull().sum()"
   ]
  },
  {
   "cell_type": "code",
   "execution_count": 9,
   "id": "6abf3692",
   "metadata": {},
   "outputs": [
    {
     "data": {
      "text/plain": [
       "0.0"
      ]
     },
     "execution_count": 9,
     "metadata": {},
     "output_type": "execute_result"
    }
   ],
   "source": [
    "# event가 발생하지 않은 유저/상품 쌍 비율\n",
    "merged_df_1['user_id_event'].isnull().sum() / len(merged_df_1) * 100"
   ]
  },
  {
   "cell_type": "code",
   "execution_count": 10,
   "id": "e9eecb88",
   "metadata": {},
   "outputs": [],
   "source": [
    "merged_df_1.to_csv('./merged_df_2_1.csv', sep=',', na_rep='NaN')"
   ]
  },
  {
   "cell_type": "code",
   "execution_count": 11,
   "id": "b1508d69",
   "metadata": {},
   "outputs": [
    {
     "name": "stdout",
     "output_type": "stream",
     "text": [
      "<class 'pandas.core.frame.DataFrame'>\n",
      "RangeIndex: 181747 entries, 0 to 181746\n",
      "Data columns (total 4 columns):\n",
      " #   Column            Non-Null Count   Dtype \n",
      "---  ------            --------------   ----- \n",
      " 0   user_id           181747 non-null  string\n",
      " 1   product_id        181747 non-null  string\n",
      " 2   created_at_event  181747 non-null  object\n",
      " 3   created_at_order  181747 non-null  object\n",
      "dtypes: object(2), string(2)\n",
      "memory usage: 5.5+ MB\n"
     ]
    }
   ],
   "source": [
    "# 2-2\n",
    "# order_df와 event_df_sub에서 created_at이 가장 빠른 시간 선택\n",
    "first_order = order_df.groupby(['user_id', 'product_id'])['created_at'].min().reset_index()\n",
    "first_event = event_df_sub.groupby(['user_id', 'product_id'])['created_at'].min().reset_index()\n",
    "\n",
    "# 두 개 데이터프레임 merge하기\n",
    "merged_df_2 = pd.merge(first_event, first_order, on=['user_id', 'product_id'], suffixes=('_event', '_order'))\n",
    "merged_df_2.info()"
   ]
  },
  {
   "cell_type": "code",
   "execution_count": 12,
   "id": "32048cea",
   "metadata": {},
   "outputs": [
    {
     "data": {
      "text/plain": [
       "100.0"
      ]
     },
     "execution_count": 12,
     "metadata": {},
     "output_type": "execute_result"
    }
   ],
   "source": [
    "# 구매시각 이전에 event가 발생한 비율\n",
    "(merged_df_2['created_at_event'] < merged_df_2['created_at_order']).sum() / len(merged_df_2) * 100"
   ]
  },
  {
   "cell_type": "code",
   "execution_count": 13,
   "id": "4365be89",
   "metadata": {},
   "outputs": [],
   "source": [
    "merged_df_2.to_csv('./merged_df_2_2.csv', sep=',', na_rep='NaN')"
   ]
  },
  {
   "cell_type": "code",
   "execution_count": 14,
   "id": "0fa22530",
   "metadata": {
    "scrolled": true
   },
   "outputs": [],
   "source": [
    "# 3-1\n",
    "# 생성일자 칼럼을 날짜 타입으로 변환\n",
    "event_df['created_at'] = pd.to_datetime(event_df['created_at'], format='mixed')\n",
    "# session_id별, 생성일자순으로 정렬\n",
    "event_df = event_df.sort_values(['session_id', 'created_at'])\n",
    "# 아래의 세션과 같은 세션인지 확인\n",
    "event_df['session_check'] = event_df['session_id'] == event_df['session_id'].shift(-1)\n",
    "# 아래의 세션과 시간 차이 계산하여 30분이 넘는지 확인\n",
    "event_df['time_diff'] = (event_df['created_at'].shift(-1) - event_df['created_at']).dt.total_seconds() / 60 >= 30\n",
    "# 아래의 세션과 같은 세션이면서 시간 차이가 30분이 넘는지 확인\n",
    "event_df['check'] = event_df['session_check'] & event_df['time_diff']"
   ]
  },
  {
   "cell_type": "code",
   "execution_count": 15,
   "id": "74e63bd1",
   "metadata": {},
   "outputs": [
    {
     "data": {
      "text/plain": [
       "3.098607996914427"
      ]
     },
     "execution_count": 15,
     "metadata": {},
     "output_type": "execute_result"
    }
   ],
   "source": [
    "# 한 세션에서 30분을 초과한 세션의 비율\n",
    "sum(event_df['check']) / len(event_df) * 100"
   ]
  },
  {
   "cell_type": "code",
   "execution_count": 16,
   "id": "52042e16",
   "metadata": {},
   "outputs": [
    {
     "data": {
      "text/plain": [
       "11.053319428126361"
      ]
     },
     "execution_count": 16,
     "metadata": {},
     "output_type": "execute_result"
    }
   ],
   "source": [
    "# 전체 세션중 30분을 초과한 이벤트가 있는 세션의 비율\n",
    "sum(event_df['check']) / len(event_df['session_id'].unique()) * 100"
   ]
  },
  {
   "cell_type": "code",
   "execution_count": 17,
   "id": "f9fc9986",
   "metadata": {},
   "outputs": [
    {
     "data": {
      "text/plain": [
       "array(['cart', 'product'], dtype=object)"
      ]
     },
     "execution_count": 17,
     "metadata": {},
     "output_type": "execute_result"
    }
   ],
   "source": [
    "# 3-2\n",
    "# 30분을 초과한 이벤트 타입\n",
    "event_df[event_df['check']]['event_type'].unique()"
   ]
  },
  {
   "cell_type": "code",
   "execution_count": 18,
   "id": "440b6ac7",
   "metadata": {},
   "outputs": [],
   "source": [
    "event_df.to_csv('./event_df.csv', sep=',', na_rep='NaN')"
   ]
  }
 ],
 "metadata": {
  "kernelspec": {
   "display_name": "Python 3 (ipykernel)",
   "language": "python",
   "name": "python3"
  },
  "language_info": {
   "codemirror_mode": {
    "name": "ipython",
    "version": 3
   },
   "file_extension": ".py",
   "mimetype": "text/x-python",
   "name": "python",
   "nbconvert_exporter": "python",
   "pygments_lexer": "ipython3",
   "version": "3.11.5"
  }
 },
 "nbformat": 4,
 "nbformat_minor": 5
}
