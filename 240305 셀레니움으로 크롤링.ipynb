{
 "cells": [
  {
   "cell_type": "code",
   "execution_count": 1,
   "id": "2cf583e7",
   "metadata": {},
   "outputs": [
    {
     "name": "stdout",
     "output_type": "stream",
     "text": [
      "Requirement already satisfied: selenium in /Users/t2023-m0093/anaconda3/lib/python3.11/site-packages (4.18.1)\n",
      "Requirement already satisfied: urllib3[socks]<3,>=1.26 in /Users/t2023-m0093/anaconda3/lib/python3.11/site-packages (from selenium) (1.26.16)\n",
      "Requirement already satisfied: trio~=0.17 in /Users/t2023-m0093/anaconda3/lib/python3.11/site-packages (from selenium) (0.24.0)\n",
      "Requirement already satisfied: trio-websocket~=0.9 in /Users/t2023-m0093/anaconda3/lib/python3.11/site-packages (from selenium) (0.11.1)\n",
      "Requirement already satisfied: certifi>=2021.10.8 in /Users/t2023-m0093/anaconda3/lib/python3.11/site-packages (from selenium) (2023.11.17)\n",
      "Requirement already satisfied: typing_extensions>=4.9.0 in /Users/t2023-m0093/anaconda3/lib/python3.11/site-packages (from selenium) (4.10.0)\n",
      "Requirement already satisfied: attrs>=20.1.0 in /Users/t2023-m0093/anaconda3/lib/python3.11/site-packages (from trio~=0.17->selenium) (22.1.0)\n",
      "Requirement already satisfied: sortedcontainers in /Users/t2023-m0093/anaconda3/lib/python3.11/site-packages (from trio~=0.17->selenium) (2.4.0)\n",
      "Requirement already satisfied: idna in /Users/t2023-m0093/anaconda3/lib/python3.11/site-packages (from trio~=0.17->selenium) (3.4)\n",
      "Requirement already satisfied: outcome in /Users/t2023-m0093/anaconda3/lib/python3.11/site-packages (from trio~=0.17->selenium) (1.3.0.post0)\n",
      "Requirement already satisfied: sniffio>=1.3.0 in /Users/t2023-m0093/anaconda3/lib/python3.11/site-packages (from trio~=0.17->selenium) (1.3.1)\n",
      "Requirement already satisfied: wsproto>=0.14 in /Users/t2023-m0093/anaconda3/lib/python3.11/site-packages (from trio-websocket~=0.9->selenium) (1.2.0)\n",
      "Requirement already satisfied: PySocks!=1.5.7,<2.0,>=1.5.6 in /Users/t2023-m0093/anaconda3/lib/python3.11/site-packages (from urllib3[socks]<3,>=1.26->selenium) (1.7.1)\n",
      "Requirement already satisfied: h11<1,>=0.9.0 in /Users/t2023-m0093/anaconda3/lib/python3.11/site-packages (from wsproto>=0.14->trio-websocket~=0.9->selenium) (0.14.0)\n"
     ]
    }
   ],
   "source": [
    "!pip install selenium"
   ]
  },
  {
   "cell_type": "markdown",
   "id": "b9628e58",
   "metadata": {},
   "source": [
    "# 크롤러의 시작, 셀레니움\n",
    "- 웹창을 띄운 후에 작업한다."
   ]
  },
  {
   "cell_type": "code",
   "execution_count": 2,
   "id": "0d0a2af3",
   "metadata": {},
   "outputs": [],
   "source": [
    "from selenium import webdriver\n",
    "driver = webdriver.Chrome()"
   ]
  },
  {
   "cell_type": "code",
   "execution_count": 3,
   "id": "c2f67ff0",
   "metadata": {},
   "outputs": [],
   "source": [
    "url = 'https://www.naver.com'\n",
    "driver.get(url)"
   ]
  },
  {
   "cell_type": "markdown",
   "id": "7b57b9a1",
   "metadata": {},
   "source": [
    "# 교보문고로 들어가보자"
   ]
  },
  {
   "cell_type": "code",
   "execution_count": 4,
   "id": "ed0b167d",
   "metadata": {},
   "outputs": [],
   "source": [
    "from selenium import webdriver\n",
    "from selenium.webdriver.common.by import By"
   ]
  },
  {
   "cell_type": "code",
   "execution_count": 5,
   "id": "ac98885e",
   "metadata": {},
   "outputs": [],
   "source": [
    "driver = webdriver.Chrome()"
   ]
  },
  {
   "cell_type": "code",
   "execution_count": 6,
   "id": "043b2eb9",
   "metadata": {},
   "outputs": [],
   "source": [
    "url = 'https://product.kyobobook.co.kr/bestseller/total?period=002#?page=1&per=20&period=002&ymw=&bsslBksClstCode=A'\n",
    "driver.get(url)"
   ]
  },
  {
   "cell_type": "markdown",
   "id": "dcf5dfcd",
   "metadata": {},
   "source": [
    "# 가져오고 싶은 데이터들..\n",
    "- 순위\n",
    "- 책 이름\n",
    "- 저자\n",
    "- 가격\n",
    "- page수\n",
    "- 평점\n",
    "- 리뷰갯수\n",
    "- main keyword"
   ]
  },
  {
   "cell_type": "code",
   "execution_count": null,
   "id": "e229880e",
   "metadata": {},
   "outputs": [],
   "source": [
    "//*[@id=\"tabRoot\"]/div[3]/ol[1]/li[1]/div[2]/div[2]/div[3]/div/div/a"
   ]
  },
  {
   "cell_type": "code",
   "execution_count": 7,
   "id": "8d05b251",
   "metadata": {},
   "outputs": [
    {
     "data": {
      "text/plain": [
       "<selenium.webdriver.remote.webelement.WebElement (session=\"fda6d98217f4ae6858ace91b24e39401\", element=\"f.F241F63FEBE008FDFECFC37ABCAAF9A1.d.D9F39720ACF825331544C055F0F4A637.e.145\")>"
      ]
     },
     "execution_count": 7,
     "metadata": {},
     "output_type": "execute_result"
    }
   ],
   "source": [
    "# 요소를 찾는 것\n",
    "driver.find_element(By.XPATH,'//*[@id=\"tabRoot\"]/div[3]/ol[1]/li[1]/div[2]/div[2]/div[3]/div/div/a')"
   ]
  },
  {
   "cell_type": "code",
   "execution_count": 8,
   "id": "fa8ce467",
   "metadata": {},
   "outputs": [
    {
     "data": {
      "text/plain": [
       "'마흔에 읽는 쇼펜하우어'"
      ]
     },
     "execution_count": 8,
     "metadata": {},
     "output_type": "execute_result"
    }
   ],
   "source": [
    "driver.find_element(By.XPATH,'//*[@id=\"tabRoot\"]/div[3]/ol[1]/li[1]/div[2]/div[2]/div[3]/div/div/a').text"
   ]
  },
  {
   "cell_type": "code",
   "execution_count": 9,
   "id": "04e2f197",
   "metadata": {},
   "outputs": [],
   "source": [
    "# 일일이 치기 귀찮으니까 함수로 만들자.\n",
    "def find_text(url):\n",
    "    return driver.find_element(By.XPATH,url).text"
   ]
  },
  {
   "cell_type": "code",
   "execution_count": 10,
   "id": "fdd21da1",
   "metadata": {},
   "outputs": [
    {
     "data": {
      "text/plain": [
       "'15,300'"
      ]
     },
     "execution_count": 10,
     "metadata": {},
     "output_type": "execute_result"
    }
   ],
   "source": [
    "find_text('//*[@id=\"tabRoot\"]/div[3]/ol[1]/li[1]/div[2]/div[2]/div[4]/span[2]/span[1]')"
   ]
  },
  {
   "cell_type": "code",
   "execution_count": 11,
   "id": "2addf85a",
   "metadata": {},
   "outputs": [
    {
     "data": {
      "text/plain": [
       "'2023년 8월 유노북스에서 펴낸 《마흔에 읽는 쇼펜하우어》가 전 서점 종합 베스트셀러 1위에 올랐다. 철학 교양서로는 최초라는 점에서 기념비적이다. ‘마흔’, ‘오십’, ‘서른’ 등 연령을 키워드로 한 인문 교양 도서들이 휩쓸고 있다. 많은 사람이 나이들며 겪는 환경과 감정에 현명하게 대처하기 위한 지혜를 책에서 찾고, ‘어떻게 살아야 하는가’에 대한 고민을 철학과 함께 풀고 있다. 특히 《마흔에 읽는 쇼펜하우어》가 일으킨 ‘쇼펜하우어 신드롬’은 사람들이 공감하는 생각과 말이라면 시대와 상관없이 통한다는 것을 증명한다. 더 반가운 점은 독서의 즐거움을 아는 40대와 50대가 개인의 독서를 넘어 SNS, 유튜브에 글귀와 자기 생각을 공유한다는 것이다. 그리고 이 독서 경험이 20대와 30대, 60대와 70대의 다른 세대로까지 확장되고 있다. 이 중심에 《마흔에 읽는 쇼펜하우어》가 있다. 현재 고려대학교 철학연구소 연구원으로 동 대학에서 강의를 하고 있는 강용수는 쇼펜하우어의 지혜들을 가장 정확히 해석하고 가장 탁월하게 40대의 삶과 연결해 《마흔에 읽는 쇼펜하우어》에 담아냈다. 책에서 쇼펜하우어의 40대 이야기와 주옥같은 말들을 만날 수 있다. “산다는 것은 괴로운 것이다”, “오늘은 단 한 번뿐이다”, “우리의 모든 불행은 혼자 있을 수 없어서 생긴다” 등의 명언을 남긴 아르투어 쇼펜하우어는 인생이 고통이라면 삶의 기준을 타인에게서 자신으로 옮기는 ‘진짜 행복’을 위한 고통을 겪으라고 말했다. 이를 통해 우리는 새로운 것을 발견할 수 있다. 바로 자기 자신을 긍정하는 마음, 타인에게 비굴하지 않는 당당함, 스스로의 힘으로 살 수 있는 품격이다. 가장 열정적으로 살아가는 인생의 황금기이자 ‘인생은 고통’이라는 인식에 다다르는 마흔, 또는 마흔을 앞두었거나 되돌아보는 나이라면 쇼펜하우어를 만나 보라. 인생의 고민들을 떨치고 마음을 다스리는 통찰력과 행복의 열쇠를 손에 쥘 수 있을 것이다.'"
      ]
     },
     "execution_count": 11,
     "metadata": {},
     "output_type": "execute_result"
    }
   ],
   "source": [
    "find_text('//*[@id=\"tabRoot\"]/div[3]/ol[1]/li[1]/div[2]/div[2]/p')"
   ]
  },
  {
   "cell_type": "markdown",
   "id": "f79613bc",
   "metadata": {},
   "source": [
    "# 책 정보 하나하나 이렇게 가져와야 하나..?"
   ]
  },
  {
   "cell_type": "code",
   "execution_count": null,
   "id": "47c165ce",
   "metadata": {},
   "outputs": [],
   "source": [
    "# 여러가지 함수 요소를 가져올 때\n",
    "driver.find_elements"
   ]
  },
  {
   "cell_type": "code",
   "execution_count": null,
   "id": "84288cb7",
   "metadata": {},
   "outputs": [],
   "source": [
    "//*[@id=\"tabRoot\"]/div[3]/ol[1]/li[1]/div[2]/div[2]/div[3]/div/div/a"
   ]
  },
  {
   "cell_type": "code",
   "execution_count": null,
   "id": "4373fc91",
   "metadata": {},
   "outputs": [],
   "source": [
    "//*[@id=\"tabRoot\"]/div[3]/ol[1]/li[2]/div[2]/div[2]/div[3]/div/div/a"
   ]
  },
  {
   "cell_type": "code",
   "execution_count": null,
   "id": "974290fd",
   "metadata": {},
   "outputs": [],
   "source": [
    "//*[@id=\"tabRoot\"]/div[3]/ol[1]/li[3]/div[2]/div[2]/div[3]/div/div/a"
   ]
  },
  {
   "cell_type": "markdown",
   "id": "dfb0ddce",
   "metadata": {},
   "source": [
    "- 1,2,3위인 책들 제목만 XPath로 가져왔을 때 동일한 패턴에 li뒤에 들어가는 숫자만 달라지는 걸 확인함.\n",
    "- li[1], li[2], li[3]..\n",
    "- find_elements를 하면 패턴을 지우고 li가 들어있는 값들을 다 가져와봐."
   ]
  },
  {
   "cell_type": "code",
   "execution_count": 12,
   "id": "796c323d",
   "metadata": {},
   "outputs": [
    {
     "data": {
      "text/plain": [
       "[<selenium.webdriver.remote.webelement.WebElement (session=\"fda6d98217f4ae6858ace91b24e39401\", element=\"f.F241F63FEBE008FDFECFC37ABCAAF9A1.d.4C4A7C2AFCD1F239FCC4FAA9315FCE1C.e.24455\")>,\n",
       " <selenium.webdriver.remote.webelement.WebElement (session=\"fda6d98217f4ae6858ace91b24e39401\", element=\"f.F241F63FEBE008FDFECFC37ABCAAF9A1.d.4C4A7C2AFCD1F239FCC4FAA9315FCE1C.e.24481\")>,\n",
       " <selenium.webdriver.remote.webelement.WebElement (session=\"fda6d98217f4ae6858ace91b24e39401\", element=\"f.F241F63FEBE008FDFECFC37ABCAAF9A1.d.4C4A7C2AFCD1F239FCC4FAA9315FCE1C.e.24508\")>,\n",
       " <selenium.webdriver.remote.webelement.WebElement (session=\"fda6d98217f4ae6858ace91b24e39401\", element=\"f.F241F63FEBE008FDFECFC37ABCAAF9A1.d.4C4A7C2AFCD1F239FCC4FAA9315FCE1C.e.24513\")>,\n",
       " <selenium.webdriver.remote.webelement.WebElement (session=\"fda6d98217f4ae6858ace91b24e39401\", element=\"f.F241F63FEBE008FDFECFC37ABCAAF9A1.d.4C4A7C2AFCD1F239FCC4FAA9315FCE1C.e.24514\")>,\n",
       " <selenium.webdriver.remote.webelement.WebElement (session=\"fda6d98217f4ae6858ace91b24e39401\", element=\"f.F241F63FEBE008FDFECFC37ABCAAF9A1.d.4C4A7C2AFCD1F239FCC4FAA9315FCE1C.e.24515\")>,\n",
       " <selenium.webdriver.remote.webelement.WebElement (session=\"fda6d98217f4ae6858ace91b24e39401\", element=\"f.F241F63FEBE008FDFECFC37ABCAAF9A1.d.4C4A7C2AFCD1F239FCC4FAA9315FCE1C.e.24516\")>,\n",
       " <selenium.webdriver.remote.webelement.WebElement (session=\"fda6d98217f4ae6858ace91b24e39401\", element=\"f.F241F63FEBE008FDFECFC37ABCAAF9A1.d.4C4A7C2AFCD1F239FCC4FAA9315FCE1C.e.24517\")>,\n",
       " <selenium.webdriver.remote.webelement.WebElement (session=\"fda6d98217f4ae6858ace91b24e39401\", element=\"f.F241F63FEBE008FDFECFC37ABCAAF9A1.d.4C4A7C2AFCD1F239FCC4FAA9315FCE1C.e.24518\")>,\n",
       " <selenium.webdriver.remote.webelement.WebElement (session=\"fda6d98217f4ae6858ace91b24e39401\", element=\"f.F241F63FEBE008FDFECFC37ABCAAF9A1.d.4C4A7C2AFCD1F239FCC4FAA9315FCE1C.e.24519\")>]"
      ]
     },
     "execution_count": 12,
     "metadata": {},
     "output_type": "execute_result"
    }
   ],
   "source": [
    "driver.find_elements(By.XPATH,'//*[@id=\"tabRoot\"]/div[3]/ol[1]/li/div[2]/div[2]/div[3]/div/div/a')"
   ]
  },
  {
   "cell_type": "code",
   "execution_count": 14,
   "id": "bdc2187a",
   "metadata": {},
   "outputs": [],
   "source": [
    "tmp = driver.find_elements(By.XPATH,'//*[@id=\"tabRoot\"]/div[3]/ol[1]/li/div[2]/div[2]/div[3]/div/div/a')"
   ]
  },
  {
   "cell_type": "code",
   "execution_count": 15,
   "id": "117723cc",
   "metadata": {},
   "outputs": [
    {
     "data": {
      "text/plain": [
       "'마흔에 읽는 쇼펜하우어'"
      ]
     },
     "execution_count": 15,
     "metadata": {},
     "output_type": "execute_result"
    }
   ],
   "source": [
    "tmp[0].text"
   ]
  },
  {
   "cell_type": "code",
   "execution_count": 16,
   "id": "f3450a95",
   "metadata": {},
   "outputs": [
    {
     "data": {
      "text/plain": [
       "'불변의 법칙'"
      ]
     },
     "execution_count": 16,
     "metadata": {},
     "output_type": "execute_result"
    }
   ],
   "source": [
    "tmp[1].text"
   ]
  },
  {
   "cell_type": "code",
   "execution_count": 17,
   "id": "b7b6d7ee",
   "metadata": {},
   "outputs": [
    {
     "data": {
      "text/plain": [
       "'주술회전 25: 인외마경 신주쿠 결전'"
      ]
     },
     "execution_count": 17,
     "metadata": {},
     "output_type": "execute_result"
    }
   ],
   "source": [
    "tmp[9].text"
   ]
  },
  {
   "cell_type": "code",
   "execution_count": 18,
   "id": "554a7e96",
   "metadata": {},
   "outputs": [
    {
     "name": "stdout",
     "output_type": "stream",
     "text": [
      "마흔에 읽는 쇼펜하우어\n",
      "불변의 법칙\n",
      "나는 메트로폴리탄 미술관의 경비원입니다\n",
      "예약판매 파타\n",
      "때로는 간절함조차 아플 때가 있었다\n",
      "세이노의 가르침\n",
      "나는 행복한 푸바오 할부지입니다\n",
      "이처럼 사소한 것들\n",
      "모순\n",
      "주술회전 25: 인외마경 신주쿠 결전\n"
     ]
    }
   ],
   "source": [
    "for i in tmp:\n",
    "    print(i.text)"
   ]
  },
  {
   "cell_type": "code",
   "execution_count": 19,
   "id": "fde16035",
   "metadata": {},
   "outputs": [
    {
     "data": {
      "text/plain": [
       "['마흔에 읽는 쇼펜하우어',\n",
       " '불변의 법칙',\n",
       " '나는 메트로폴리탄 미술관의 경비원입니다',\n",
       " '예약판매 파타',\n",
       " '때로는 간절함조차 아플 때가 있었다',\n",
       " '세이노의 가르침',\n",
       " '나는 행복한 푸바오 할부지입니다',\n",
       " '이처럼 사소한 것들',\n",
       " '모순',\n",
       " '주술회전 25: 인외마경 신주쿠 결전']"
      ]
     },
     "execution_count": 19,
     "metadata": {},
     "output_type": "execute_result"
    }
   ],
   "source": [
    "title_list = []\n",
    "\n",
    "for i in tmp:\n",
    "    title_list.append(i.text)\n",
    "    \n",
    "\n",
    "title_list"
   ]
  },
  {
   "cell_type": "code",
   "execution_count": 20,
   "id": "60bd69b6",
   "metadata": {},
   "outputs": [
    {
     "data": {
      "text/plain": [
       "['마흔에 읽는 쇼펜하우어',\n",
       " '불변의 법칙',\n",
       " '나는 메트로폴리탄 미술관의 경비원입니다',\n",
       " '예약판매 파타',\n",
       " '때로는 간절함조차 아플 때가 있었다',\n",
       " '세이노의 가르침',\n",
       " '나는 행복한 푸바오 할부지입니다',\n",
       " '이처럼 사소한 것들',\n",
       " '모순',\n",
       " '주술회전 25: 인외마경 신주쿠 결전']"
      ]
     },
     "execution_count": 20,
     "metadata": {},
     "output_type": "execute_result"
    }
   ],
   "source": [
    "# 반복문 말고 리스트 컴프리헨션으로 써보기\n",
    "[i.text for i in tmp]"
   ]
  },
  {
   "cell_type": "code",
   "execution_count": 21,
   "id": "09372bc9",
   "metadata": {},
   "outputs": [],
   "source": [
    "# 지금까지 한 일련의 과정들을 함수로 만들기\n",
    "def find_text_list(url):\n",
    "    text_list = driver.find_elements(By.XPATH,url)\n",
    "    return [i.text for i in text_list]"
   ]
  },
  {
   "cell_type": "code",
   "execution_count": 22,
   "id": "8626973b",
   "metadata": {},
   "outputs": [],
   "source": [
    "title = find_text_list('//*[@id=\"tabRoot\"]/div[3]/ol/li/div[2]/div[2]/div[3]/div/div/a')\n",
    "book_info = find_text_list('//*[@id=\"tabRoot\"]/div[3]/ol/li/div[2]/div[2]/span')\n",
    "price = find_text_list('//*[@id=\"tabRoot\"]/div[3]/ol/li/div[2]/div[2]/div[4]/span[2]/span[1]')\n",
    "sale_percent = find_text_list('//*[@id=\"tabRoot\"]/div[3]/ol/li/div[2]/div[2]/div[4]/span[1]')\n",
    "bookpage = find_text_list('//*[@id=\"tabRoot\"]/div[3]/ol/li/div[2]/div[2]/div[4]/span[5]')\n",
    "rate = find_text_list('//*[@id=\"tabRoot\"]/div[3]/ol/li/div[2]/div[2]/div[5]/div/span[1]/span[1]')\n",
    "review_counts = find_text_list('//*[@id=\"tabRoot\"]/div[3]/ol/li/div[2]/div[2]/div[5]/div/span[1]/span[2]')\n",
    "main_keyword= find_text_list('//*[@id=\"tabRoot\"]/div[3]/ol/li/div[2]/div[2]/div[5]/div/span[3]')"
   ]
  },
  {
   "cell_type": "code",
   "execution_count": 23,
   "id": "17c686ad",
   "metadata": {},
   "outputs": [
    {
     "data": {
      "text/plain": [
       "['마흔에 읽는 쇼펜하우어',\n",
       " '불변의 법칙',\n",
       " '나는 메트로폴리탄 미술관의 경비원입니다',\n",
       " '예약판매 파타',\n",
       " '때로는 간절함조차 아플 때가 있었다',\n",
       " '세이노의 가르침',\n",
       " '나는 행복한 푸바오 할부지입니다',\n",
       " '이처럼 사소한 것들',\n",
       " '모순',\n",
       " '주술회전 25: 인외마경 신주쿠 결전',\n",
       " '아이는 무엇으로 자라는가',\n",
       " '흔한남매의 흔한 호기심 11',\n",
       " '생각이 너무 많은 어른들을 위한 심리학(10만 부 기념 스페셜 에디션)',\n",
       " '도둑맞은 집중력',\n",
       " '퍼스널 MBA(10주년 기념 증보판)',\n",
       " '해커스 토익 기출 VOCA(보카)',\n",
       " '보편의 단어',\n",
       " '퓨처 셀프',\n",
       " '백앤아 5: 수리수리 마녀 약방',\n",
       " '비트코인 슈퍼 사이클']"
      ]
     },
     "execution_count": 23,
     "metadata": {},
     "output_type": "execute_result"
    }
   ],
   "source": [
    "title"
   ]
  },
  {
   "cell_type": "code",
   "execution_count": 25,
   "id": "b4659fb0",
   "metadata": {},
   "outputs": [
    {
     "data": {
      "text/plain": [
       "['850p',\n",
       " '1,250p',\n",
       " '870p',\n",
       " '1,100p',\n",
       " '840p',\n",
       " '360p',\n",
       " '900p',\n",
       " '690p',\n",
       " '650p',\n",
       " '300p',\n",
       " '870p',\n",
       " '700p',\n",
       " '890p',\n",
       " '940p',\n",
       " '1,770p',\n",
       " '640p',\n",
       " '800p',\n",
       " '990p',\n",
       " '750p',\n",
       " '1,250p']"
      ]
     },
     "execution_count": 25,
     "metadata": {},
     "output_type": "execute_result"
    }
   ],
   "source": [
    "bookpage"
   ]
  },
  {
   "cell_type": "code",
   "execution_count": 26,
   "id": "7b21835d",
   "metadata": {},
   "outputs": [
    {
     "data": {
      "text/plain": [
       "['도움돼요',\n",
       " '도움돼요',\n",
       " '힐링돼요',\n",
       " '최고예요',\n",
       " '최고예요',\n",
       " '도움돼요',\n",
       " '힐링돼요',\n",
       " '최고예요',\n",
       " '고마워요',\n",
       " '재밌어요',\n",
       " '도움돼요',\n",
       " '좋아해요',\n",
       " '도움돼요',\n",
       " '도움돼요',\n",
       " '도움돼요',\n",
       " '집중돼요',\n",
       " '공감돼요',\n",
       " '도움돼요',\n",
       " '좋아해요',\n",
       " '도움돼요']"
      ]
     },
     "execution_count": 26,
     "metadata": {},
     "output_type": "execute_result"
    }
   ],
   "source": [
    "main_keyword"
   ]
  },
  {
   "cell_type": "markdown",
   "id": "0225fad1",
   "metadata": {},
   "source": [
    "# 가져온 정보들을 데이터프레임화 시켜보자."
   ]
  },
  {
   "cell_type": "code",
   "execution_count": 27,
   "id": "bd526e9a",
   "metadata": {},
   "outputs": [
    {
     "name": "stderr",
     "output_type": "stream",
     "text": [
      "/Users/t2023-m0093/anaconda3/lib/python3.11/site-packages/pandas/core/arrays/masked.py:60: UserWarning: Pandas requires version '1.3.6' or newer of 'bottleneck' (version '1.3.5' currently installed).\n",
      "  from pandas.core import (\n"
     ]
    }
   ],
   "source": [
    "import pandas as pd"
   ]
  },
  {
   "cell_type": "code",
   "execution_count": 28,
   "id": "7a4f4885",
   "metadata": {},
   "outputs": [],
   "source": [
    "# 빈 데이터프레임 생성하기\n",
    "tmp = pd.DataFrame()"
   ]
  },
  {
   "cell_type": "code",
   "execution_count": 29,
   "id": "5bd63af8",
   "metadata": {},
   "outputs": [
    {
     "data": {
      "text/html": [
       "<div>\n",
       "<style scoped>\n",
       "    .dataframe tbody tr th:only-of-type {\n",
       "        vertical-align: middle;\n",
       "    }\n",
       "\n",
       "    .dataframe tbody tr th {\n",
       "        vertical-align: top;\n",
       "    }\n",
       "\n",
       "    .dataframe thead th {\n",
       "        text-align: right;\n",
       "    }\n",
       "</style>\n",
       "<table border=\"1\" class=\"dataframe\">\n",
       "  <thead>\n",
       "    <tr style=\"text-align: right;\">\n",
       "      <th></th>\n",
       "      <th>title</th>\n",
       "    </tr>\n",
       "  </thead>\n",
       "  <tbody>\n",
       "    <tr>\n",
       "      <th>0</th>\n",
       "      <td>마흔에 읽는 쇼펜하우어</td>\n",
       "    </tr>\n",
       "    <tr>\n",
       "      <th>1</th>\n",
       "      <td>불변의 법칙</td>\n",
       "    </tr>\n",
       "    <tr>\n",
       "      <th>2</th>\n",
       "      <td>나는 메트로폴리탄 미술관의 경비원입니다</td>\n",
       "    </tr>\n",
       "    <tr>\n",
       "      <th>3</th>\n",
       "      <td>예약판매 파타</td>\n",
       "    </tr>\n",
       "    <tr>\n",
       "      <th>4</th>\n",
       "      <td>때로는 간절함조차 아플 때가 있었다</td>\n",
       "    </tr>\n",
       "    <tr>\n",
       "      <th>5</th>\n",
       "      <td>세이노의 가르침</td>\n",
       "    </tr>\n",
       "    <tr>\n",
       "      <th>6</th>\n",
       "      <td>나는 행복한 푸바오 할부지입니다</td>\n",
       "    </tr>\n",
       "    <tr>\n",
       "      <th>7</th>\n",
       "      <td>이처럼 사소한 것들</td>\n",
       "    </tr>\n",
       "    <tr>\n",
       "      <th>8</th>\n",
       "      <td>모순</td>\n",
       "    </tr>\n",
       "    <tr>\n",
       "      <th>9</th>\n",
       "      <td>주술회전 25: 인외마경 신주쿠 결전</td>\n",
       "    </tr>\n",
       "    <tr>\n",
       "      <th>10</th>\n",
       "      <td>아이는 무엇으로 자라는가</td>\n",
       "    </tr>\n",
       "    <tr>\n",
       "      <th>11</th>\n",
       "      <td>흔한남매의 흔한 호기심 11</td>\n",
       "    </tr>\n",
       "    <tr>\n",
       "      <th>12</th>\n",
       "      <td>생각이 너무 많은 어른들을 위한 심리학(10만 부 기념 스페셜 에디션)</td>\n",
       "    </tr>\n",
       "    <tr>\n",
       "      <th>13</th>\n",
       "      <td>도둑맞은 집중력</td>\n",
       "    </tr>\n",
       "    <tr>\n",
       "      <th>14</th>\n",
       "      <td>퍼스널 MBA(10주년 기념 증보판)</td>\n",
       "    </tr>\n",
       "    <tr>\n",
       "      <th>15</th>\n",
       "      <td>해커스 토익 기출 VOCA(보카)</td>\n",
       "    </tr>\n",
       "    <tr>\n",
       "      <th>16</th>\n",
       "      <td>보편의 단어</td>\n",
       "    </tr>\n",
       "    <tr>\n",
       "      <th>17</th>\n",
       "      <td>퓨처 셀프</td>\n",
       "    </tr>\n",
       "    <tr>\n",
       "      <th>18</th>\n",
       "      <td>백앤아 5: 수리수리 마녀 약방</td>\n",
       "    </tr>\n",
       "    <tr>\n",
       "      <th>19</th>\n",
       "      <td>비트코인 슈퍼 사이클</td>\n",
       "    </tr>\n",
       "  </tbody>\n",
       "</table>\n",
       "</div>"
      ],
      "text/plain": [
       "                                      title\n",
       "0                              마흔에 읽는 쇼펜하우어\n",
       "1                                    불변의 법칙\n",
       "2                     나는 메트로폴리탄 미술관의 경비원입니다\n",
       "3                                   예약판매 파타\n",
       "4                       때로는 간절함조차 아플 때가 있었다\n",
       "5                                  세이노의 가르침\n",
       "6                         나는 행복한 푸바오 할부지입니다\n",
       "7                                이처럼 사소한 것들\n",
       "8                                        모순\n",
       "9                      주술회전 25: 인외마경 신주쿠 결전\n",
       "10                            아이는 무엇으로 자라는가\n",
       "11                          흔한남매의 흔한 호기심 11\n",
       "12  생각이 너무 많은 어른들을 위한 심리학(10만 부 기념 스페셜 에디션)\n",
       "13                                 도둑맞은 집중력\n",
       "14                     퍼스널 MBA(10주년 기념 증보판)\n",
       "15                       해커스 토익 기출 VOCA(보카)\n",
       "16                                   보편의 단어\n",
       "17                                    퓨처 셀프\n",
       "18                        백앤아 5: 수리수리 마녀 약방\n",
       "19                              비트코인 슈퍼 사이클"
      ]
     },
     "execution_count": 29,
     "metadata": {},
     "output_type": "execute_result"
    }
   ],
   "source": [
    "# tmp의 title이라는 컬럼에다가 리스트 title에 들어있는 요소들을 넣어줘.\n",
    "tmp['title'] = title\n",
    "tmp"
   ]
  },
  {
   "cell_type": "code",
   "execution_count": 30,
   "id": "f5addf97",
   "metadata": {},
   "outputs": [],
   "source": [
    "tmp['book_info'] = book_info\n",
    "tmp['price'] = price\n",
    "tmp['sale_percent'] = sale_percent\n",
    "tmp['bookpage'] = bookpage\n",
    "tmp['rate'] = rate\n",
    "tmp['review_counts'] = review_counts\n",
    "tmp['main_keyword'] = main_keyword"
   ]
  },
  {
   "cell_type": "code",
   "execution_count": 31,
   "id": "ab41e40c",
   "metadata": {},
   "outputs": [
    {
     "data": {
      "text/html": [
       "<div>\n",
       "<style scoped>\n",
       "    .dataframe tbody tr th:only-of-type {\n",
       "        vertical-align: middle;\n",
       "    }\n",
       "\n",
       "    .dataframe tbody tr th {\n",
       "        vertical-align: top;\n",
       "    }\n",
       "\n",
       "    .dataframe thead th {\n",
       "        text-align: right;\n",
       "    }\n",
       "</style>\n",
       "<table border=\"1\" class=\"dataframe\">\n",
       "  <thead>\n",
       "    <tr style=\"text-align: right;\">\n",
       "      <th></th>\n",
       "      <th>title</th>\n",
       "      <th>book_info</th>\n",
       "      <th>price</th>\n",
       "      <th>sale_percent</th>\n",
       "      <th>bookpage</th>\n",
       "      <th>rate</th>\n",
       "      <th>review_counts</th>\n",
       "      <th>main_keyword</th>\n",
       "    </tr>\n",
       "  </thead>\n",
       "  <tbody>\n",
       "    <tr>\n",
       "      <th>0</th>\n",
       "      <td>마흔에 읽는 쇼펜하우어</td>\n",
       "      <td>강용수 · 유노북스 · 2023.09.07</td>\n",
       "      <td>15,300</td>\n",
       "      <td>10%</td>\n",
       "      <td>850p</td>\n",
       "      <td>9.43</td>\n",
       "      <td>(1,158개의 리뷰)</td>\n",
       "      <td>도움돼요</td>\n",
       "    </tr>\n",
       "    <tr>\n",
       "      <th>1</th>\n",
       "      <td>불변의 법칙</td>\n",
       "      <td>모건 하우절 · 서삼독 · 2024.02.28</td>\n",
       "      <td>22,500</td>\n",
       "      <td>10%</td>\n",
       "      <td>1,250p</td>\n",
       "      <td>9.55</td>\n",
       "      <td>(111개의 리뷰)</td>\n",
       "      <td>도움돼요</td>\n",
       "    </tr>\n",
       "    <tr>\n",
       "      <th>2</th>\n",
       "      <td>나는 메트로폴리탄 미술관의 경비원입니다</td>\n",
       "      <td>패트릭 브링리 · 웅진지식하우스 · 2023.11.24</td>\n",
       "      <td>15,750</td>\n",
       "      <td>10%</td>\n",
       "      <td>870p</td>\n",
       "      <td>9.39</td>\n",
       "      <td>(494개의 리뷰)</td>\n",
       "      <td>힐링돼요</td>\n",
       "    </tr>\n",
       "    <tr>\n",
       "      <th>3</th>\n",
       "      <td>예약판매 파타</td>\n",
       "      <td>문가영 · 위즈덤하우스 · 2024.03.06</td>\n",
       "      <td>19,800</td>\n",
       "      <td>10%</td>\n",
       "      <td>1,100p</td>\n",
       "      <td>9.76</td>\n",
       "      <td>(30개의 리뷰)</td>\n",
       "      <td>최고예요</td>\n",
       "    </tr>\n",
       "    <tr>\n",
       "      <th>4</th>\n",
       "      <td>때로는 간절함조차 아플 때가 있었다</td>\n",
       "      <td>강지영 · 빅피시 · 2024.03.07</td>\n",
       "      <td>15,120</td>\n",
       "      <td>10%</td>\n",
       "      <td>840p</td>\n",
       "      <td>9.69</td>\n",
       "      <td>(37개의 리뷰)</td>\n",
       "      <td>최고예요</td>\n",
       "    </tr>\n",
       "    <tr>\n",
       "      <th>5</th>\n",
       "      <td>세이노의 가르침</td>\n",
       "      <td>세이노(SayNo) · 데이원 · 2023.03.02</td>\n",
       "      <td>6,480</td>\n",
       "      <td>10%</td>\n",
       "      <td>360p</td>\n",
       "      <td>9.26</td>\n",
       "      <td>(3,372개의 리뷰)</td>\n",
       "      <td>도움돼요</td>\n",
       "    </tr>\n",
       "    <tr>\n",
       "      <th>6</th>\n",
       "      <td>나는 행복한 푸바오 할부지입니다</td>\n",
       "      <td>강철원 · 시공사 · 2024.02.25</td>\n",
       "      <td>16,200</td>\n",
       "      <td>10%</td>\n",
       "      <td>900p</td>\n",
       "      <td>9.87</td>\n",
       "      <td>(131개의 리뷰)</td>\n",
       "      <td>힐링돼요</td>\n",
       "    </tr>\n",
       "    <tr>\n",
       "      <th>7</th>\n",
       "      <td>이처럼 사소한 것들</td>\n",
       "      <td>클레어 키건 · 다산책방 · 2023.11.27</td>\n",
       "      <td>12,420</td>\n",
       "      <td>10%</td>\n",
       "      <td>690p</td>\n",
       "      <td>9.62</td>\n",
       "      <td>(496개의 리뷰)</td>\n",
       "      <td>최고예요</td>\n",
       "    </tr>\n",
       "    <tr>\n",
       "      <th>8</th>\n",
       "      <td>모순</td>\n",
       "      <td>양귀자 · 쓰다 · 2013.04.01</td>\n",
       "      <td>11,700</td>\n",
       "      <td>10%</td>\n",
       "      <td>650p</td>\n",
       "      <td>9.81</td>\n",
       "      <td>(1,546개의 리뷰)</td>\n",
       "      <td>고마워요</td>\n",
       "    </tr>\n",
       "    <tr>\n",
       "      <th>9</th>\n",
       "      <td>주술회전 25: 인외마경 신주쿠 결전</td>\n",
       "      <td>Gege Akutami · 서울미디어코믹스(서울문화사) · 2024.02.20</td>\n",
       "      <td>5,400</td>\n",
       "      <td>10%</td>\n",
       "      <td>300p</td>\n",
       "      <td>9.68</td>\n",
       "      <td>(101개의 리뷰)</td>\n",
       "      <td>재밌어요</td>\n",
       "    </tr>\n",
       "    <tr>\n",
       "      <th>10</th>\n",
       "      <td>아이는 무엇으로 자라는가</td>\n",
       "      <td>버지니아 사티어 · 포레스트북스 · 2023.12.18</td>\n",
       "      <td>15,750</td>\n",
       "      <td>10%</td>\n",
       "      <td>870p</td>\n",
       "      <td>9.43</td>\n",
       "      <td>(159개의 리뷰)</td>\n",
       "      <td>도움돼요</td>\n",
       "    </tr>\n",
       "    <tr>\n",
       "      <th>11</th>\n",
       "      <td>흔한남매의 흔한 호기심 11</td>\n",
       "      <td>흔한남매 · 미래엔아이세움 · 2024.02.16</td>\n",
       "      <td>12,600</td>\n",
       "      <td>10%</td>\n",
       "      <td>700p</td>\n",
       "      <td>9.95</td>\n",
       "      <td>(115개의 리뷰)</td>\n",
       "      <td>좋아해요</td>\n",
       "    </tr>\n",
       "    <tr>\n",
       "      <th>12</th>\n",
       "      <td>생각이 너무 많은 어른들을 위한 심리학(10만 부 기념 스페셜 에디션)</td>\n",
       "      <td>김혜남 · 메이븐 · 2023.09.25</td>\n",
       "      <td>16,020</td>\n",
       "      <td>10%</td>\n",
       "      <td>890p</td>\n",
       "      <td>9.78</td>\n",
       "      <td>(415개의 리뷰)</td>\n",
       "      <td>도움돼요</td>\n",
       "    </tr>\n",
       "    <tr>\n",
       "      <th>13</th>\n",
       "      <td>도둑맞은 집중력</td>\n",
       "      <td>요한 하리 · 어크로스 · 2023.04.28</td>\n",
       "      <td>16,920</td>\n",
       "      <td>10%</td>\n",
       "      <td>940p</td>\n",
       "      <td>9.35</td>\n",
       "      <td>(1,157개의 리뷰)</td>\n",
       "      <td>도움돼요</td>\n",
       "    </tr>\n",
       "    <tr>\n",
       "      <th>14</th>\n",
       "      <td>퍼스널 MBA(10주년 기념 증보판)</td>\n",
       "      <td>조시 카우프만 · 진성북스 · 2024.01.25</td>\n",
       "      <td>31,950</td>\n",
       "      <td>10%</td>\n",
       "      <td>1,770p</td>\n",
       "      <td>9.63</td>\n",
       "      <td>(122개의 리뷰)</td>\n",
       "      <td>도움돼요</td>\n",
       "    </tr>\n",
       "    <tr>\n",
       "      <th>15</th>\n",
       "      <td>해커스 토익 기출 VOCA(보카)</td>\n",
       "      <td>David Cho · 해커스어학연구소 · 2023.07.24</td>\n",
       "      <td>11,610</td>\n",
       "      <td>10%</td>\n",
       "      <td>640p</td>\n",
       "      <td>9.65</td>\n",
       "      <td>(1,699개의 리뷰)</td>\n",
       "      <td>집중돼요</td>\n",
       "    </tr>\n",
       "    <tr>\n",
       "      <th>16</th>\n",
       "      <td>보편의 단어</td>\n",
       "      <td>이기주 · 말글터 · 2024.01.11</td>\n",
       "      <td>14,400</td>\n",
       "      <td>10%</td>\n",
       "      <td>800p</td>\n",
       "      <td>9.64</td>\n",
       "      <td>(223개의 리뷰)</td>\n",
       "      <td>공감돼요</td>\n",
       "    </tr>\n",
       "    <tr>\n",
       "      <th>17</th>\n",
       "      <td>퓨처 셀프</td>\n",
       "      <td>벤저민 하디 · 상상스퀘어 · 2023.08.30</td>\n",
       "      <td>17,820</td>\n",
       "      <td>10%</td>\n",
       "      <td>990p</td>\n",
       "      <td>9.53</td>\n",
       "      <td>(692개의 리뷰)</td>\n",
       "      <td>도움돼요</td>\n",
       "    </tr>\n",
       "    <tr>\n",
       "      <th>18</th>\n",
       "      <td>백앤아 5: 수리수리 마녀 약방</td>\n",
       "      <td>백앤아 · 샌드박스스토리키즈 · 2024.03.06</td>\n",
       "      <td>13,500</td>\n",
       "      <td>10%</td>\n",
       "      <td>750p</td>\n",
       "      <td>9.69</td>\n",
       "      <td>(8개의 리뷰)</td>\n",
       "      <td>좋아해요</td>\n",
       "    </tr>\n",
       "    <tr>\n",
       "      <th>19</th>\n",
       "      <td>비트코인 슈퍼 사이클</td>\n",
       "      <td>신민철(처리형) · 거인의정원 · 2024.01.25</td>\n",
       "      <td>22,500</td>\n",
       "      <td>10%</td>\n",
       "      <td>1,250p</td>\n",
       "      <td>9.09</td>\n",
       "      <td>(20개의 리뷰)</td>\n",
       "      <td>도움돼요</td>\n",
       "    </tr>\n",
       "  </tbody>\n",
       "</table>\n",
       "</div>"
      ],
      "text/plain": [
       "                                      title  \\\n",
       "0                              마흔에 읽는 쇼펜하우어   \n",
       "1                                    불변의 법칙   \n",
       "2                     나는 메트로폴리탄 미술관의 경비원입니다   \n",
       "3                                   예약판매 파타   \n",
       "4                       때로는 간절함조차 아플 때가 있었다   \n",
       "5                                  세이노의 가르침   \n",
       "6                         나는 행복한 푸바오 할부지입니다   \n",
       "7                                이처럼 사소한 것들   \n",
       "8                                        모순   \n",
       "9                      주술회전 25: 인외마경 신주쿠 결전   \n",
       "10                            아이는 무엇으로 자라는가   \n",
       "11                          흔한남매의 흔한 호기심 11   \n",
       "12  생각이 너무 많은 어른들을 위한 심리학(10만 부 기념 스페셜 에디션)   \n",
       "13                                 도둑맞은 집중력   \n",
       "14                     퍼스널 MBA(10주년 기념 증보판)   \n",
       "15                       해커스 토익 기출 VOCA(보카)   \n",
       "16                                   보편의 단어   \n",
       "17                                    퓨처 셀프   \n",
       "18                        백앤아 5: 수리수리 마녀 약방   \n",
       "19                              비트코인 슈퍼 사이클   \n",
       "\n",
       "                                      book_info   price sale_percent bookpage  \\\n",
       "0                       강용수 · 유노북스 · 2023.09.07  15,300          10%     850p   \n",
       "1                     모건 하우절 · 서삼독 · 2024.02.28  22,500          10%   1,250p   \n",
       "2                패트릭 브링리 · 웅진지식하우스 · 2023.11.24  15,750          10%     870p   \n",
       "3                     문가영 · 위즈덤하우스 · 2024.03.06  19,800          10%   1,100p   \n",
       "4                        강지영 · 빅피시 · 2024.03.07  15,120          10%     840p   \n",
       "5                 세이노(SayNo) · 데이원 · 2023.03.02   6,480          10%     360p   \n",
       "6                        강철원 · 시공사 · 2024.02.25  16,200          10%     900p   \n",
       "7                    클레어 키건 · 다산책방 · 2023.11.27  12,420          10%     690p   \n",
       "8                         양귀자 · 쓰다 · 2013.04.01  11,700          10%     650p   \n",
       "9   Gege Akutami · 서울미디어코믹스(서울문화사) · 2024.02.20   5,400          10%     300p   \n",
       "10               버지니아 사티어 · 포레스트북스 · 2023.12.18  15,750          10%     870p   \n",
       "11                  흔한남매 · 미래엔아이세움 · 2024.02.16  12,600          10%     700p   \n",
       "12                       김혜남 · 메이븐 · 2023.09.25  16,020          10%     890p   \n",
       "13                    요한 하리 · 어크로스 · 2023.04.28  16,920          10%     940p   \n",
       "14                  조시 카우프만 · 진성북스 · 2024.01.25  31,950          10%   1,770p   \n",
       "15            David Cho · 해커스어학연구소 · 2023.07.24  11,610          10%     640p   \n",
       "16                       이기주 · 말글터 · 2024.01.11  14,400          10%     800p   \n",
       "17                  벤저민 하디 · 상상스퀘어 · 2023.08.30  17,820          10%     990p   \n",
       "18                 백앤아 · 샌드박스스토리키즈 · 2024.03.06  13,500          10%     750p   \n",
       "19                신민철(처리형) · 거인의정원 · 2024.01.25  22,500          10%   1,250p   \n",
       "\n",
       "    rate review_counts main_keyword  \n",
       "0   9.43  (1,158개의 리뷰)         도움돼요  \n",
       "1   9.55    (111개의 리뷰)         도움돼요  \n",
       "2   9.39    (494개의 리뷰)         힐링돼요  \n",
       "3   9.76     (30개의 리뷰)         최고예요  \n",
       "4   9.69     (37개의 리뷰)         최고예요  \n",
       "5   9.26  (3,372개의 리뷰)         도움돼요  \n",
       "6   9.87    (131개의 리뷰)         힐링돼요  \n",
       "7   9.62    (496개의 리뷰)         최고예요  \n",
       "8   9.81  (1,546개의 리뷰)         고마워요  \n",
       "9   9.68    (101개의 리뷰)         재밌어요  \n",
       "10  9.43    (159개의 리뷰)         도움돼요  \n",
       "11  9.95    (115개의 리뷰)         좋아해요  \n",
       "12  9.78    (415개의 리뷰)         도움돼요  \n",
       "13  9.35  (1,157개의 리뷰)         도움돼요  \n",
       "14  9.63    (122개의 리뷰)         도움돼요  \n",
       "15  9.65  (1,699개의 리뷰)         집중돼요  \n",
       "16  9.64    (223개의 리뷰)         공감돼요  \n",
       "17  9.53    (692개의 리뷰)         도움돼요  \n",
       "18  9.69      (8개의 리뷰)         좋아해요  \n",
       "19  9.09     (20개의 리뷰)         도움돼요  "
      ]
     },
     "execution_count": 31,
     "metadata": {},
     "output_type": "execute_result"
    }
   ],
   "source": [
    "tmp"
   ]
  },
  {
   "cell_type": "markdown",
   "id": "45fda2d5",
   "metadata": {},
   "source": [
    "# 스크롤 내려서 페이지 넘겨보자"
   ]
  },
  {
   "cell_type": "code",
   "execution_count": 32,
   "id": "a820aec6",
   "metadata": {},
   "outputs": [],
   "source": [
    "# 스크롤 내리기 \n",
    "# 맨 밑부분으로 내려감\n",
    "driver.execute_script(\"window.scrollTo(0, document.body.scrollHeight);\")"
   ]
  },
  {
   "cell_type": "code",
   "execution_count": 33,
   "id": "664adf88",
   "metadata": {},
   "outputs": [
    {
     "data": {
      "text/plain": [
       "<selenium.webdriver.remote.webelement.WebElement (session=\"fda6d98217f4ae6858ace91b24e39401\", element=\"f.F241F63FEBE008FDFECFC37ABCAAF9A1.d.4C4A7C2AFCD1F239FCC4FAA9315FCE1C.e.24792\")>"
      ]
     },
     "execution_count": 33,
     "metadata": {},
     "output_type": "execute_result"
    }
   ],
   "source": [
    "# 페이지 넘기기\n",
    "driver.find_element(By.XPATH,'//*[@id=\"tabRoot\"]/div[3]/div[2]/button[2]')"
   ]
  },
  {
   "cell_type": "code",
   "execution_count": 35,
   "id": "f32b49c0",
   "metadata": {},
   "outputs": [],
   "source": [
    "# 다음 페이지로 넘어가는 버튼을 클릭해줘\n",
    "driver.find_element(By.XPATH,'//*[@id=\"tabRoot\"]/div[3]/div[2]/button[2]').click()"
   ]
  },
  {
   "cell_type": "markdown",
   "id": "db50402f",
   "metadata": {},
   "source": [
    "# 이제 마지막 하나로 만들기"
   ]
  },
  {
   "cell_type": "code",
   "execution_count": 36,
   "id": "33d8807d",
   "metadata": {},
   "outputs": [],
   "source": [
    "from tqdm import tqdm\n",
    "import time"
   ]
  },
  {
   "cell_type": "code",
   "execution_count": 37,
   "id": "303db8f9",
   "metadata": {},
   "outputs": [],
   "source": [
    "# process bar 만들기\n",
    "for i in range(1000):\n",
    "    i + 1\n",
    "# 이 작업이 얼만큼 돌아야 끝나는지를 알고 싶을 때!"
   ]
  },
  {
   "cell_type": "code",
   "execution_count": 39,
   "id": "5d1bfc1e",
   "metadata": {},
   "outputs": [
    {
     "name": "stderr",
     "output_type": "stream",
     "text": [
      "100%|█████████████████████| 1000000000/1000000000 [01:26<00:00, 11607113.64it/s]\n"
     ]
    }
   ],
   "source": [
    "for i in tqdm(range(1000000000)):\n",
    "    i + 1"
   ]
  },
  {
   "cell_type": "code",
   "execution_count": 40,
   "id": "3c0b7542",
   "metadata": {},
   "outputs": [
    {
     "name": "stderr",
     "output_type": "stream",
     "text": [
      "100%|█████████████████████████████████████████████| 5/5 [00:38<00:00,  7.75s/it]\n"
     ]
    }
   ],
   "source": [
    "from selenium.webdriver.common.by import By\n",
    "from selenium import webdriver # 셀레니움\n",
    "driver = webdriver.Chrome() \n",
    "url = 'https://product.kyobobook.co.kr/bestseller/total?period=002#?page=1&per=20&period=002&ymw=&bsslBksClstCode=A'\n",
    "driver.get(url)\n",
    "\n",
    "result_df = pd.DataFrame()\n",
    "# result_df는 안에서 만들어지는 tmp를 계속 쌓아주는 것\n",
    "# 첫 페이지 tmp에 저장되어 있던 값들이 두번째 페이지로 넘어간 후 또 tmp에 저장하면 날라가게 된다.\n",
    "\n",
    "# 5번 페이지를 넘어가게 할 것\n",
    "for i in tqdm(range(5)):\n",
    "    time.sleep(3)\n",
    "    title = find_text_list('//*[@id=\"tabRoot\"]/div[3]/ol/li/div[2]/div[2]/div[3]/div/div/a')\n",
    "    book_info = find_text_list('//*[@id=\"tabRoot\"]/div[3]/ol/li/div[2]/div[2]/span')\n",
    "    price = find_text_list('//*[@id=\"tabRoot\"]/div[3]/ol/li/div[2]/div[2]/div[4]/span[2]/span[1]')\n",
    "    sale_percent = find_text_list('//*[@id=\"tabRoot\"]/div[3]/ol/li/div[2]/div[2]/div[4]/span[1]')\n",
    "    bookpage = find_text_list('//*[@id=\"tabRoot\"]/div[3]/ol/li/div[2]/div[2]/div[4]/span[5]')\n",
    "    rate = find_text_list('//*[@id=\"tabRoot\"]/div[3]/ol/li/div[2]/div[2]/div[5]/div/span[1]/span[1]')\n",
    "    review_counts = find_text_list('//*[@id=\"tabRoot\"]/div[3]/ol/li/div[2]/div[2]/div[5]/div/span[1]/span[2]')\n",
    "    main_keyword= find_text_list('//*[@id=\"tabRoot\"]/div[3]/ol/li/div[2]/div[2]/div[5]/div/span[3]')\n",
    "    \n",
    "    tmp = pd.DataFrame()\n",
    "\n",
    "    tmp['title'] = title\n",
    "    tmp['book_info'] = book_info\n",
    "    tmp['price'] = price\n",
    "    tmp['sale_percent'] = sale_percent\n",
    "    tmp['bookpage'] = bookpage\n",
    "    tmp['rate'] = rate\n",
    "    tmp['review_counts'] = review_counts\n",
    "    tmp['main_keyword'] = main_keyword\n",
    "    \n",
    "    result_df = pd.concat([result_df, tmp])\n",
    "    # 첫페이지 tmp값이 result_df에 쌓이고.. 이렇게 페이지가 넘어가면서 반복적으로 쌓인다.\n",
    "    \n",
    "    # 에러나지 않게 페이지를 넘기거나 스크립트를 실행하는 부분에서 쉬어가주면 된다.\n",
    "    \n",
    "    time.sleep(2)\n",
    "    driver.execute_script(\"window.scrollTo(0, document.body.scrollHeight);\")\n",
    "    time.sleep(2)\n",
    "    driver.find_element(By.XPATH, '//*[@id=\"tabRoot\"]/div[3]/div[2]/button[2]').click()"
   ]
  },
  {
   "cell_type": "code",
   "execution_count": 41,
   "id": "737b912d",
   "metadata": {},
   "outputs": [
    {
     "data": {
      "text/html": [
       "<div>\n",
       "<style scoped>\n",
       "    .dataframe tbody tr th:only-of-type {\n",
       "        vertical-align: middle;\n",
       "    }\n",
       "\n",
       "    .dataframe tbody tr th {\n",
       "        vertical-align: top;\n",
       "    }\n",
       "\n",
       "    .dataframe thead th {\n",
       "        text-align: right;\n",
       "    }\n",
       "</style>\n",
       "<table border=\"1\" class=\"dataframe\">\n",
       "  <thead>\n",
       "    <tr style=\"text-align: right;\">\n",
       "      <th></th>\n",
       "      <th>title</th>\n",
       "      <th>book_info</th>\n",
       "      <th>price</th>\n",
       "      <th>sale_percent</th>\n",
       "      <th>bookpage</th>\n",
       "      <th>rate</th>\n",
       "      <th>review_counts</th>\n",
       "      <th>main_keyword</th>\n",
       "    </tr>\n",
       "  </thead>\n",
       "  <tbody>\n",
       "    <tr>\n",
       "      <th>0</th>\n",
       "      <td>마흔에 읽는 쇼펜하우어</td>\n",
       "      <td>강용수 · 유노북스 · 2023.09.07</td>\n",
       "      <td>15,300</td>\n",
       "      <td>10%</td>\n",
       "      <td>850p</td>\n",
       "      <td>9.43</td>\n",
       "      <td>(1,158개의 리뷰)</td>\n",
       "      <td>도움돼요</td>\n",
       "    </tr>\n",
       "    <tr>\n",
       "      <th>1</th>\n",
       "      <td>불변의 법칙</td>\n",
       "      <td>모건 하우절 · 서삼독 · 2024.02.28</td>\n",
       "      <td>22,500</td>\n",
       "      <td>10%</td>\n",
       "      <td>1,250p</td>\n",
       "      <td>9.56</td>\n",
       "      <td>(113개의 리뷰)</td>\n",
       "      <td>도움돼요</td>\n",
       "    </tr>\n",
       "    <tr>\n",
       "      <th>2</th>\n",
       "      <td>나는 메트로폴리탄 미술관의 경비원입니다</td>\n",
       "      <td>패트릭 브링리 · 웅진지식하우스 · 2023.11.24</td>\n",
       "      <td>15,750</td>\n",
       "      <td>10%</td>\n",
       "      <td>870p</td>\n",
       "      <td>9.39</td>\n",
       "      <td>(496개의 리뷰)</td>\n",
       "      <td>힐링돼요</td>\n",
       "    </tr>\n",
       "    <tr>\n",
       "      <th>3</th>\n",
       "      <td>예약판매 파타</td>\n",
       "      <td>문가영 · 위즈덤하우스 · 2024.03.06</td>\n",
       "      <td>19,800</td>\n",
       "      <td>10%</td>\n",
       "      <td>1,100p</td>\n",
       "      <td>9.76</td>\n",
       "      <td>(30개의 리뷰)</td>\n",
       "      <td>최고예요</td>\n",
       "    </tr>\n",
       "    <tr>\n",
       "      <th>4</th>\n",
       "      <td>때로는 간절함조차 아플 때가 있었다</td>\n",
       "      <td>강지영 · 빅피시 · 2024.03.07</td>\n",
       "      <td>15,120</td>\n",
       "      <td>10%</td>\n",
       "      <td>840p</td>\n",
       "      <td>9.69</td>\n",
       "      <td>(37개의 리뷰)</td>\n",
       "      <td>최고예요</td>\n",
       "    </tr>\n",
       "    <tr>\n",
       "      <th>...</th>\n",
       "      <td>...</td>\n",
       "      <td>...</td>\n",
       "      <td>...</td>\n",
       "      <td>...</td>\n",
       "      <td>...</td>\n",
       "      <td>...</td>\n",
       "      <td>...</td>\n",
       "      <td>...</td>\n",
       "    </tr>\n",
       "    <tr>\n",
       "      <th>15</th>\n",
       "      <td>해커스 보카(Hackers Vocabulary)</td>\n",
       "      <td>David Cho · 해커스어학연구소 · 2021.12.13</td>\n",
       "      <td>15,210</td>\n",
       "      <td>10%</td>\n",
       "      <td>840p</td>\n",
       "      <td>9.43</td>\n",
       "      <td>(566개의 리뷰)</td>\n",
       "      <td>집중돼요</td>\n",
       "    </tr>\n",
       "    <tr>\n",
       "      <th>16</th>\n",
       "      <td>사랑인 줄 알았는데 부정맥</td>\n",
       "      <td>전국유로실버타운협회 · 포레스트북스 · 2024.01.17</td>\n",
       "      <td>11,970</td>\n",
       "      <td>10%</td>\n",
       "      <td>660p</td>\n",
       "      <td>9.37</td>\n",
       "      <td>(151개의 리뷰)</td>\n",
       "      <td>재밌어요</td>\n",
       "    </tr>\n",
       "    <tr>\n",
       "      <th>17</th>\n",
       "      <td>타키 포오 코믹 어드벤처 4</td>\n",
       "      <td>캐릭온TV · 대원키즈 · 2024.01.10</td>\n",
       "      <td>13,050</td>\n",
       "      <td>10%</td>\n",
       "      <td>720p</td>\n",
       "      <td>9.96</td>\n",
       "      <td>(79개의 리뷰)</td>\n",
       "      <td>좋아해요</td>\n",
       "    </tr>\n",
       "    <tr>\n",
       "      <th>18</th>\n",
       "      <td>수학의 힘</td>\n",
       "      <td>올리버 존슨 · 더퀘스트 · 2024.02.21</td>\n",
       "      <td>18,000</td>\n",
       "      <td>10%</td>\n",
       "      <td>1,000p</td>\n",
       "      <td>9.69</td>\n",
       "      <td>(53개의 리뷰)</td>\n",
       "      <td>도움돼요</td>\n",
       "    </tr>\n",
       "    <tr>\n",
       "      <th>19</th>\n",
       "      <td>이기적 유전자</td>\n",
       "      <td>리처드 도킨스 · 을유문화사 · 2023.01.30</td>\n",
       "      <td>18,000</td>\n",
       "      <td>10%</td>\n",
       "      <td>1,000p</td>\n",
       "      <td>9.58</td>\n",
       "      <td>(1,407개의 리뷰)</td>\n",
       "      <td>집중돼요</td>\n",
       "    </tr>\n",
       "  </tbody>\n",
       "</table>\n",
       "<p>100 rows × 8 columns</p>\n",
       "</div>"
      ],
      "text/plain": [
       "                         title                          book_info   price  \\\n",
       "0                 마흔에 읽는 쇼펜하우어            강용수 · 유노북스 · 2023.09.07  15,300   \n",
       "1                       불변의 법칙          모건 하우절 · 서삼독 · 2024.02.28  22,500   \n",
       "2        나는 메트로폴리탄 미술관의 경비원입니다     패트릭 브링리 · 웅진지식하우스 · 2023.11.24  15,750   \n",
       "3                      예약판매 파타          문가영 · 위즈덤하우스 · 2024.03.06  19,800   \n",
       "4          때로는 간절함조차 아플 때가 있었다             강지영 · 빅피시 · 2024.03.07  15,120   \n",
       "..                         ...                                ...     ...   \n",
       "15  해커스 보카(Hackers Vocabulary)  David Cho · 해커스어학연구소 · 2021.12.13  15,210   \n",
       "16              사랑인 줄 알았는데 부정맥   전국유로실버타운협회 · 포레스트북스 · 2024.01.17  11,970   \n",
       "17             타키 포오 코믹 어드벤처 4          캐릭온TV · 대원키즈 · 2024.01.10  13,050   \n",
       "18                       수학의 힘         올리버 존슨 · 더퀘스트 · 2024.02.21  18,000   \n",
       "19                     이기적 유전자       리처드 도킨스 · 을유문화사 · 2023.01.30  18,000   \n",
       "\n",
       "   sale_percent bookpage  rate review_counts main_keyword  \n",
       "0           10%     850p  9.43  (1,158개의 리뷰)         도움돼요  \n",
       "1           10%   1,250p  9.56    (113개의 리뷰)         도움돼요  \n",
       "2           10%     870p  9.39    (496개의 리뷰)         힐링돼요  \n",
       "3           10%   1,100p  9.76     (30개의 리뷰)         최고예요  \n",
       "4           10%     840p  9.69     (37개의 리뷰)         최고예요  \n",
       "..          ...      ...   ...           ...          ...  \n",
       "15          10%     840p  9.43    (566개의 리뷰)         집중돼요  \n",
       "16          10%     660p  9.37    (151개의 리뷰)         재밌어요  \n",
       "17          10%     720p  9.96     (79개의 리뷰)         좋아해요  \n",
       "18          10%   1,000p  9.69     (53개의 리뷰)         도움돼요  \n",
       "19          10%   1,000p  9.58  (1,407개의 리뷰)         집중돼요  \n",
       "\n",
       "[100 rows x 8 columns]"
      ]
     },
     "execution_count": 41,
     "metadata": {},
     "output_type": "execute_result"
    }
   ],
   "source": [
    "result_df"
   ]
  },
  {
   "cell_type": "code",
   "execution_count": 42,
   "id": "9604f290",
   "metadata": {},
   "outputs": [
    {
     "data": {
      "text/html": [
       "<div>\n",
       "<style scoped>\n",
       "    .dataframe tbody tr th:only-of-type {\n",
       "        vertical-align: middle;\n",
       "    }\n",
       "\n",
       "    .dataframe tbody tr th {\n",
       "        vertical-align: top;\n",
       "    }\n",
       "\n",
       "    .dataframe thead th {\n",
       "        text-align: right;\n",
       "    }\n",
       "</style>\n",
       "<table border=\"1\" class=\"dataframe\">\n",
       "  <thead>\n",
       "    <tr style=\"text-align: right;\">\n",
       "      <th></th>\n",
       "      <th>title</th>\n",
       "      <th>book_info</th>\n",
       "      <th>price</th>\n",
       "      <th>sale_percent</th>\n",
       "      <th>bookpage</th>\n",
       "      <th>rate</th>\n",
       "      <th>review_counts</th>\n",
       "      <th>main_keyword</th>\n",
       "    </tr>\n",
       "  </thead>\n",
       "  <tbody>\n",
       "    <tr>\n",
       "      <th>0</th>\n",
       "      <td>마흔에 읽는 쇼펜하우어</td>\n",
       "      <td>강용수 · 유노북스 · 2023.09.07</td>\n",
       "      <td>15,300</td>\n",
       "      <td>10%</td>\n",
       "      <td>850p</td>\n",
       "      <td>9.43</td>\n",
       "      <td>(1,158개의 리뷰)</td>\n",
       "      <td>도움돼요</td>\n",
       "    </tr>\n",
       "    <tr>\n",
       "      <th>1</th>\n",
       "      <td>불변의 법칙</td>\n",
       "      <td>모건 하우절 · 서삼독 · 2024.02.28</td>\n",
       "      <td>22,500</td>\n",
       "      <td>10%</td>\n",
       "      <td>1,250p</td>\n",
       "      <td>9.56</td>\n",
       "      <td>(113개의 리뷰)</td>\n",
       "      <td>도움돼요</td>\n",
       "    </tr>\n",
       "    <tr>\n",
       "      <th>2</th>\n",
       "      <td>나는 메트로폴리탄 미술관의 경비원입니다</td>\n",
       "      <td>패트릭 브링리 · 웅진지식하우스 · 2023.11.24</td>\n",
       "      <td>15,750</td>\n",
       "      <td>10%</td>\n",
       "      <td>870p</td>\n",
       "      <td>9.39</td>\n",
       "      <td>(496개의 리뷰)</td>\n",
       "      <td>힐링돼요</td>\n",
       "    </tr>\n",
       "    <tr>\n",
       "      <th>3</th>\n",
       "      <td>예약판매 파타</td>\n",
       "      <td>문가영 · 위즈덤하우스 · 2024.03.06</td>\n",
       "      <td>19,800</td>\n",
       "      <td>10%</td>\n",
       "      <td>1,100p</td>\n",
       "      <td>9.76</td>\n",
       "      <td>(30개의 리뷰)</td>\n",
       "      <td>최고예요</td>\n",
       "    </tr>\n",
       "    <tr>\n",
       "      <th>4</th>\n",
       "      <td>때로는 간절함조차 아플 때가 있었다</td>\n",
       "      <td>강지영 · 빅피시 · 2024.03.07</td>\n",
       "      <td>15,120</td>\n",
       "      <td>10%</td>\n",
       "      <td>840p</td>\n",
       "      <td>9.69</td>\n",
       "      <td>(37개의 리뷰)</td>\n",
       "      <td>최고예요</td>\n",
       "    </tr>\n",
       "    <tr>\n",
       "      <th>...</th>\n",
       "      <td>...</td>\n",
       "      <td>...</td>\n",
       "      <td>...</td>\n",
       "      <td>...</td>\n",
       "      <td>...</td>\n",
       "      <td>...</td>\n",
       "      <td>...</td>\n",
       "      <td>...</td>\n",
       "    </tr>\n",
       "    <tr>\n",
       "      <th>95</th>\n",
       "      <td>해커스 보카(Hackers Vocabulary)</td>\n",
       "      <td>David Cho · 해커스어학연구소 · 2021.12.13</td>\n",
       "      <td>15,210</td>\n",
       "      <td>10%</td>\n",
       "      <td>840p</td>\n",
       "      <td>9.43</td>\n",
       "      <td>(566개의 리뷰)</td>\n",
       "      <td>집중돼요</td>\n",
       "    </tr>\n",
       "    <tr>\n",
       "      <th>96</th>\n",
       "      <td>사랑인 줄 알았는데 부정맥</td>\n",
       "      <td>전국유로실버타운협회 · 포레스트북스 · 2024.01.17</td>\n",
       "      <td>11,970</td>\n",
       "      <td>10%</td>\n",
       "      <td>660p</td>\n",
       "      <td>9.37</td>\n",
       "      <td>(151개의 리뷰)</td>\n",
       "      <td>재밌어요</td>\n",
       "    </tr>\n",
       "    <tr>\n",
       "      <th>97</th>\n",
       "      <td>타키 포오 코믹 어드벤처 4</td>\n",
       "      <td>캐릭온TV · 대원키즈 · 2024.01.10</td>\n",
       "      <td>13,050</td>\n",
       "      <td>10%</td>\n",
       "      <td>720p</td>\n",
       "      <td>9.96</td>\n",
       "      <td>(79개의 리뷰)</td>\n",
       "      <td>좋아해요</td>\n",
       "    </tr>\n",
       "    <tr>\n",
       "      <th>98</th>\n",
       "      <td>수학의 힘</td>\n",
       "      <td>올리버 존슨 · 더퀘스트 · 2024.02.21</td>\n",
       "      <td>18,000</td>\n",
       "      <td>10%</td>\n",
       "      <td>1,000p</td>\n",
       "      <td>9.69</td>\n",
       "      <td>(53개의 리뷰)</td>\n",
       "      <td>도움돼요</td>\n",
       "    </tr>\n",
       "    <tr>\n",
       "      <th>99</th>\n",
       "      <td>이기적 유전자</td>\n",
       "      <td>리처드 도킨스 · 을유문화사 · 2023.01.30</td>\n",
       "      <td>18,000</td>\n",
       "      <td>10%</td>\n",
       "      <td>1,000p</td>\n",
       "      <td>9.58</td>\n",
       "      <td>(1,407개의 리뷰)</td>\n",
       "      <td>집중돼요</td>\n",
       "    </tr>\n",
       "  </tbody>\n",
       "</table>\n",
       "<p>100 rows × 8 columns</p>\n",
       "</div>"
      ],
      "text/plain": [
       "                         title                          book_info   price  \\\n",
       "0                 마흔에 읽는 쇼펜하우어            강용수 · 유노북스 · 2023.09.07  15,300   \n",
       "1                       불변의 법칙          모건 하우절 · 서삼독 · 2024.02.28  22,500   \n",
       "2        나는 메트로폴리탄 미술관의 경비원입니다     패트릭 브링리 · 웅진지식하우스 · 2023.11.24  15,750   \n",
       "3                      예약판매 파타          문가영 · 위즈덤하우스 · 2024.03.06  19,800   \n",
       "4          때로는 간절함조차 아플 때가 있었다             강지영 · 빅피시 · 2024.03.07  15,120   \n",
       "..                         ...                                ...     ...   \n",
       "95  해커스 보카(Hackers Vocabulary)  David Cho · 해커스어학연구소 · 2021.12.13  15,210   \n",
       "96              사랑인 줄 알았는데 부정맥   전국유로실버타운협회 · 포레스트북스 · 2024.01.17  11,970   \n",
       "97             타키 포오 코믹 어드벤처 4          캐릭온TV · 대원키즈 · 2024.01.10  13,050   \n",
       "98                       수학의 힘         올리버 존슨 · 더퀘스트 · 2024.02.21  18,000   \n",
       "99                     이기적 유전자       리처드 도킨스 · 을유문화사 · 2023.01.30  18,000   \n",
       "\n",
       "   sale_percent bookpage  rate review_counts main_keyword  \n",
       "0           10%     850p  9.43  (1,158개의 리뷰)         도움돼요  \n",
       "1           10%   1,250p  9.56    (113개의 리뷰)         도움돼요  \n",
       "2           10%     870p  9.39    (496개의 리뷰)         힐링돼요  \n",
       "3           10%   1,100p  9.76     (30개의 리뷰)         최고예요  \n",
       "4           10%     840p  9.69     (37개의 리뷰)         최고예요  \n",
       "..          ...      ...   ...           ...          ...  \n",
       "95          10%     840p  9.43    (566개의 리뷰)         집중돼요  \n",
       "96          10%     660p  9.37    (151개의 리뷰)         재밌어요  \n",
       "97          10%     720p  9.96     (79개의 리뷰)         좋아해요  \n",
       "98          10%   1,000p  9.69     (53개의 리뷰)         도움돼요  \n",
       "99          10%   1,000p  9.58  (1,407개의 리뷰)         집중돼요  \n",
       "\n",
       "[100 rows x 8 columns]"
      ]
     },
     "execution_count": 42,
     "metadata": {},
     "output_type": "execute_result"
    }
   ],
   "source": [
    "result_df.reset_index(drop=True)"
   ]
  }
 ],
 "metadata": {
  "kernelspec": {
   "display_name": "Python 3 (ipykernel)",
   "language": "python",
   "name": "python3"
  },
  "language_info": {
   "codemirror_mode": {
    "name": "ipython",
    "version": 3
   },
   "file_extension": ".py",
   "mimetype": "text/x-python",
   "name": "python",
   "nbconvert_exporter": "python",
   "pygments_lexer": "ipython3",
   "version": "3.11.5"
  }
 },
 "nbformat": 4,
 "nbformat_minor": 5
}
