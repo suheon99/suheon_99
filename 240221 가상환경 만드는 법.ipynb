{
 "cells": [
  {
   "cell_type": "markdown",
   "id": "9039b1c4",
   "metadata": {},
   "source": [
    "- 가상환경 : 아무것도 설치되지 않은 새 컴퓨터를 설치하는 것과 같음."
   ]
  },
  {
   "cell_type": "markdown",
   "id": "474caaaa",
   "metadata": {},
   "source": [
    "# 한 번만 하는 코드!"
   ]
  },
  {
   "cell_type": "code",
   "execution_count": 7,
   "id": "b7617b3a",
   "metadata": {},
   "outputs": [
    {
     "name": "stdout",
     "output_type": "stream",
     "text": [
      "/Users/t2023-m0093/내일배움캠프 - 스파르타코딩클럽/기초학습 B반\r\n"
     ]
    }
   ],
   "source": [
    "!pwd"
   ]
  },
  {
   "cell_type": "code",
   "execution_count": 8,
   "id": "6ca24a29",
   "metadata": {},
   "outputs": [
    {
     "name": "stdout",
     "output_type": "stream",
     "text": [
      "1week.ipynb\r\n",
      "1week_sql.ipynb\r\n",
      "240207 캐나다 날씨 기온 데이터 분석.ipynb\r\n",
      "240208 SQLite 기온 데이터 분석하기, 변동성 분석, 자기상관성.ipynb\r\n",
      "240214 와인 가격 예측 분석 (1).ipynb\r\n",
      "240214 심화프로젝트 대출등급 데이터 분석.ipynb\r\n",
      "240215 와인 가격 예측 분석 (2).ipynb\r\n",
      "240221 선형회귀 Boston Prediction.ipynb\r\n",
      "Untitled.ipynb\r\n",
      "boston_prediction.ipynb\r\n",
      "cleansingWine.csv\r\n",
      "daily_temperature.db\r\n",
      "main (1).ipynb\r\n",
      "main (2).ipynb\r\n",
      "main (3).ipynb\r\n",
      "main (4).ipynb\r\n",
      "\u001b[34mnbcenv\u001b[m\u001b[m\r\n",
      "고객 대출 등급 train.csv\r\n"
     ]
    }
   ],
   "source": [
    "!ls"
   ]
  },
  {
   "cell_type": "code",
   "execution_count": 9,
   "id": "702a78ba",
   "metadata": {},
   "outputs": [],
   "source": [
    "!python -m venv myenv"
   ]
  },
  {
   "cell_type": "code",
   "execution_count": 10,
   "id": "07534ed4",
   "metadata": {},
   "outputs": [
    {
     "name": "stdout",
     "output_type": "stream",
     "text": [
      "1week.ipynb\r\n",
      "1week_sql.ipynb\r\n",
      "240207 캐나다 날씨 기온 데이터 분석.ipynb\r\n",
      "240208 SQLite 기온 데이터 분석하기, 변동성 분석, 자기상관성.ipynb\r\n",
      "240214 와인 가격 예측 분석 (1).ipynb\r\n",
      "240214 심화프로젝트 대출등급 데이터 분석.ipynb\r\n",
      "240215 와인 가격 예측 분석 (2).ipynb\r\n",
      "240221 선형회귀 Boston Prediction.ipynb\r\n",
      "Untitled.ipynb\r\n",
      "boston_prediction.ipynb\r\n",
      "cleansingWine.csv\r\n",
      "daily_temperature.db\r\n",
      "main (1).ipynb\r\n",
      "main (2).ipynb\r\n",
      "main (3).ipynb\r\n",
      "main (4).ipynb\r\n",
      "\u001b[34mmyenv\u001b[m\u001b[m\r\n",
      "\u001b[34mnbcenv\u001b[m\u001b[m\r\n",
      "고객 대출 등급 train.csv\r\n"
     ]
    }
   ],
   "source": [
    "!ls"
   ]
  },
  {
   "cell_type": "code",
   "execution_count": 15,
   "id": "09926cdc",
   "metadata": {},
   "outputs": [],
   "source": [
    "!source myenv/bin/activate"
   ]
  },
  {
   "cell_type": "code",
   "execution_count": 16,
   "id": "197b0a78",
   "metadata": {},
   "outputs": [
    {
     "name": "stdout",
     "output_type": "stream",
     "text": [
      "/Users/t2023-m0093/anaconda3/bin/python3\r\n"
     ]
    }
   ],
   "source": [
    "!which python3\n",
    "# 여기에 myenv/bin/python3이라고 떠야 내 가상환경에 파이썬이 들어간 것."
   ]
  },
  {
   "cell_type": "markdown",
   "id": "20e141a6",
   "metadata": {},
   "source": [
    "# ipykernel\n",
    "- jupyter notebook에서 어떤 파이썬을 선택할건지.."
   ]
  },
  {
   "cell_type": "code",
   "execution_count": 17,
   "id": "41ff57f6",
   "metadata": {},
   "outputs": [
    {
     "name": "stdout",
     "output_type": "stream",
     "text": [
      "Requirement already satisfied: ipykernel in /Users/t2023-m0093/anaconda3/lib/python3.11/site-packages (6.25.0)\n",
      "Requirement already satisfied: appnope in /Users/t2023-m0093/anaconda3/lib/python3.11/site-packages (from ipykernel) (0.1.2)\n",
      "Requirement already satisfied: comm>=0.1.1 in /Users/t2023-m0093/anaconda3/lib/python3.11/site-packages (from ipykernel) (0.1.2)\n",
      "Requirement already satisfied: debugpy>=1.6.5 in /Users/t2023-m0093/anaconda3/lib/python3.11/site-packages (from ipykernel) (1.6.7)\n",
      "Requirement already satisfied: ipython>=7.23.1 in /Users/t2023-m0093/anaconda3/lib/python3.11/site-packages (from ipykernel) (8.15.0)\n",
      "Requirement already satisfied: jupyter-client>=6.1.12 in /Users/t2023-m0093/anaconda3/lib/python3.11/site-packages (from ipykernel) (7.4.9)\n",
      "Requirement already satisfied: jupyter-core!=5.0.*,>=4.12 in /Users/t2023-m0093/anaconda3/lib/python3.11/site-packages (from ipykernel) (5.3.0)\n",
      "Requirement already satisfied: matplotlib-inline>=0.1 in /Users/t2023-m0093/anaconda3/lib/python3.11/site-packages (from ipykernel) (0.1.6)\n",
      "Requirement already satisfied: nest-asyncio in /Users/t2023-m0093/anaconda3/lib/python3.11/site-packages (from ipykernel) (1.5.6)\n",
      "Requirement already satisfied: packaging in /Users/t2023-m0093/anaconda3/lib/python3.11/site-packages (from ipykernel) (23.1)\n",
      "Requirement already satisfied: psutil in /Users/t2023-m0093/anaconda3/lib/python3.11/site-packages (from ipykernel) (5.9.0)\n",
      "Requirement already satisfied: pyzmq>=20 in /Users/t2023-m0093/anaconda3/lib/python3.11/site-packages (from ipykernel) (23.2.0)\n",
      "Requirement already satisfied: tornado>=6.1 in /Users/t2023-m0093/anaconda3/lib/python3.11/site-packages (from ipykernel) (6.3.2)\n",
      "Requirement already satisfied: traitlets>=5.4.0 in /Users/t2023-m0093/anaconda3/lib/python3.11/site-packages (from ipykernel) (5.7.1)\n",
      "Requirement already satisfied: backcall in /Users/t2023-m0093/anaconda3/lib/python3.11/site-packages (from ipython>=7.23.1->ipykernel) (0.2.0)\n",
      "Requirement already satisfied: decorator in /Users/t2023-m0093/anaconda3/lib/python3.11/site-packages (from ipython>=7.23.1->ipykernel) (5.1.1)\n",
      "Requirement already satisfied: jedi>=0.16 in /Users/t2023-m0093/anaconda3/lib/python3.11/site-packages (from ipython>=7.23.1->ipykernel) (0.18.1)\n",
      "Requirement already satisfied: pickleshare in /Users/t2023-m0093/anaconda3/lib/python3.11/site-packages (from ipython>=7.23.1->ipykernel) (0.7.5)\n",
      "Requirement already satisfied: prompt-toolkit!=3.0.37,<3.1.0,>=3.0.30 in /Users/t2023-m0093/anaconda3/lib/python3.11/site-packages (from ipython>=7.23.1->ipykernel) (3.0.36)\n",
      "Requirement already satisfied: pygments>=2.4.0 in /Users/t2023-m0093/anaconda3/lib/python3.11/site-packages (from ipython>=7.23.1->ipykernel) (2.15.1)\n",
      "Requirement already satisfied: stack-data in /Users/t2023-m0093/anaconda3/lib/python3.11/site-packages (from ipython>=7.23.1->ipykernel) (0.2.0)\n",
      "Requirement already satisfied: pexpect>4.3 in /Users/t2023-m0093/anaconda3/lib/python3.11/site-packages (from ipython>=7.23.1->ipykernel) (4.8.0)\n",
      "Requirement already satisfied: entrypoints in /Users/t2023-m0093/anaconda3/lib/python3.11/site-packages (from jupyter-client>=6.1.12->ipykernel) (0.4)\n",
      "Requirement already satisfied: python-dateutil>=2.8.2 in /Users/t2023-m0093/anaconda3/lib/python3.11/site-packages (from jupyter-client>=6.1.12->ipykernel) (2.8.2)\n",
      "Requirement already satisfied: platformdirs>=2.5 in /Users/t2023-m0093/anaconda3/lib/python3.11/site-packages (from jupyter-core!=5.0.*,>=4.12->ipykernel) (3.10.0)\n",
      "Requirement already satisfied: parso<0.9.0,>=0.8.0 in /Users/t2023-m0093/anaconda3/lib/python3.11/site-packages (from jedi>=0.16->ipython>=7.23.1->ipykernel) (0.8.3)\n",
      "Requirement already satisfied: ptyprocess>=0.5 in /Users/t2023-m0093/anaconda3/lib/python3.11/site-packages (from pexpect>4.3->ipython>=7.23.1->ipykernel) (0.7.0)\n",
      "Requirement already satisfied: wcwidth in /Users/t2023-m0093/anaconda3/lib/python3.11/site-packages (from prompt-toolkit!=3.0.37,<3.1.0,>=3.0.30->ipython>=7.23.1->ipykernel) (0.2.5)\n",
      "Requirement already satisfied: six>=1.5 in /Users/t2023-m0093/anaconda3/lib/python3.11/site-packages (from python-dateutil>=2.8.2->jupyter-client>=6.1.12->ipykernel) (1.16.0)\n",
      "Requirement already satisfied: executing in /Users/t2023-m0093/anaconda3/lib/python3.11/site-packages (from stack-data->ipython>=7.23.1->ipykernel) (0.8.3)\n",
      "Requirement already satisfied: asttokens in /Users/t2023-m0093/anaconda3/lib/python3.11/site-packages (from stack-data->ipython>=7.23.1->ipykernel) (2.0.5)\n",
      "Requirement already satisfied: pure-eval in /Users/t2023-m0093/anaconda3/lib/python3.11/site-packages (from stack-data->ipython>=7.23.1->ipykernel) (0.2.2)\n"
     ]
    }
   ],
   "source": [
    "!pip install ipykernel"
   ]
  },
  {
   "cell_type": "code",
   "execution_count": 18,
   "id": "9b97cd49",
   "metadata": {},
   "outputs": [
    {
     "name": "stdout",
     "output_type": "stream",
     "text": [
      "zsh:1: unmatched \"\r\n"
     ]
    }
   ],
   "source": [
    "## IPython 커널 생성 및 연결\n",
    "! python -m ipykernel install --user --name myenv_kernel --display-name \"Python (myenv)\"\"\"\""
   ]
  },
  {
   "cell_type": "markdown",
   "id": "574b4daa",
   "metadata": {},
   "source": [
    "- 내가 깐 가상환경에 ~ ~ 라는 커널이 들어간 것."
   ]
  }
 ],
 "metadata": {
  "kernelspec": {
   "display_name": "Python 3 (ipykernel)",
   "language": "python",
   "name": "python3"
  },
  "language_info": {
   "codemirror_mode": {
    "name": "ipython",
    "version": 3
   },
   "file_extension": ".py",
   "mimetype": "text/x-python",
   "name": "python",
   "nbconvert_exporter": "python",
   "pygments_lexer": "ipython3",
   "version": "3.11.5"
  }
 },
 "nbformat": 4,
 "nbformat_minor": 5
}
